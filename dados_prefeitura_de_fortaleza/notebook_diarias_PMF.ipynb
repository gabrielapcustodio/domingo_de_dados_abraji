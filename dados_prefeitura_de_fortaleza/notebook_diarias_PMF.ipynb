{
 "cells": [
  {
   "cell_type": "code",
   "execution_count": 45,
   "metadata": {
    "id": "jJsq3nbsO7Z3"
   },
   "outputs": [
    {
     "name": "stdout",
     "output_type": "stream",
     "text": [
      "Requirement already satisfied: py-moneyed in c:\\users\\55859\\appdata\\local\\programs\\python\\python39\\lib\\site-packages (3.0)\n",
      "Requirement already satisfied: typing-extensions>=3.7.4.3 in c:\\users\\55859\\appdata\\local\\programs\\python\\python39\\lib\\site-packages (from py-moneyed) (3.10.0.2)\n",
      "Requirement already satisfied: babel>=2.8.0 in c:\\users\\55859\\appdata\\local\\programs\\python\\python39\\lib\\site-packages (from py-moneyed) (2.12.1)\n",
      "Note: you may need to restart the kernel to use updated packages.\n"
     ]
    },
    {
     "name": "stderr",
     "output_type": "stream",
     "text": [
      "\n",
      "[notice] A new release of pip available: 22.3 -> 23.1.2\n",
      "[notice] To update, run: C:\\Users\\55859\\AppData\\Local\\Programs\\Python\\Python39\\python.exe -m pip install --upgrade pip\n"
     ]
    }
   ],
   "source": [
    "pip install py-moneyed"
   ]
  },
  {
   "cell_type": "code",
   "execution_count": 46,
   "metadata": {
    "executionInfo": {
     "elapsed": 1783,
     "status": "ok",
     "timestamp": 1688263143225,
     "user": {
      "displayName": "Gabriela Custódio",
      "userId": "17879241500396315997"
     },
     "user_tz": 180
    },
    "id": "c_pau0BNGZF1"
   },
   "outputs": [],
   "source": [
    "# importando as bibliotecas\n",
    "\n",
    "import pandas as pd\n",
    "import plotly.express as px"
   ]
  },
  {
   "cell_type": "code",
   "execution_count": 47,
   "metadata": {
    "executionInfo": {
     "elapsed": 1,
     "status": "ok",
     "timestamp": 1688264114317,
     "user": {
      "displayName": "Gabriela Custódio",
      "userId": "17879241500396315997"
     },
     "user_tz": 180
    },
    "id": "ecVS8xqUGcYo"
   },
   "outputs": [],
   "source": [
    "# caminho para pasta no drive\n",
    "\n",
    "path = 'COLE AQUI O CAMINHO DA SUA PASTA'"
   ]
  },
  {
   "cell_type": "code",
   "execution_count": 48,
   "metadata": {
    "executionInfo": {
     "elapsed": 515,
     "status": "ok",
     "timestamp": 1688264115234,
     "user": {
      "displayName": "Gabriela Custódio",
      "userId": "17879241500396315997"
     },
     "user_tz": 180
    },
    "id": "WSZuunM7GuOD"
   },
   "outputs": [],
   "source": [
    "# lendo o arquivo\n",
    "\n",
    "df = pd.read_csv('diarias_prefeitura_total.csv')"
   ]
  },
  {
   "cell_type": "code",
   "execution_count": 49,
   "metadata": {
    "colab": {
     "base_uri": "https://localhost:8080/",
     "height": 330
    },
    "executionInfo": {
     "elapsed": 9,
     "status": "ok",
     "timestamp": 1688264115235,
     "user": {
      "displayName": "Gabriela Custódio",
      "userId": "17879241500396315997"
     },
     "user_tz": 180
    },
    "id": "0tkCtiMyGy9R",
    "outputId": "9bd37655-d7d6-48dc-a778-4646277ffa3e"
   },
   "outputs": [
    {
     "data": {
      "text/html": [
       "<div>\n",
       "<style scoped>\n",
       "    .dataframe tbody tr th:only-of-type {\n",
       "        vertical-align: middle;\n",
       "    }\n",
       "\n",
       "    .dataframe tbody tr th {\n",
       "        vertical-align: top;\n",
       "    }\n",
       "\n",
       "    .dataframe thead th {\n",
       "        text-align: right;\n",
       "    }\n",
       "</style>\n",
       "<table border=\"1\" class=\"dataframe\">\n",
       "  <thead>\n",
       "    <tr style=\"text-align: right;\">\n",
       "      <th></th>\n",
       "      <th>web-scraper-order</th>\n",
       "      <th>web-scraper-start-url</th>\n",
       "      <th>EXERCÍCIO</th>\n",
       "      <th>UNIDADE ORÇAMENTARIA</th>\n",
       "      <th>Nº EMPENHO</th>\n",
       "      <th>BENEFICIÁRIO</th>\n",
       "      <th>PERÍODO</th>\n",
       "      <th>DESTINO</th>\n",
       "      <th>MOTIVO</th>\n",
       "      <th>VALOR TOTAL DIÁRIA</th>\n",
       "      <th>SITUAÇÃO EMPENHO</th>\n",
       "    </tr>\n",
       "  </thead>\n",
       "  <tbody>\n",
       "    <tr>\n",
       "      <th>0</th>\n",
       "      <td>1687439061-1</td>\n",
       "      <td>https://transparencia.fortaleza.ce.gov.br/inde...</td>\n",
       "      <td>2023</td>\n",
       "      <td>30.101-SECRETARIA MUNICIPAL DO TURISMO DE FORT...</td>\n",
       "      <td>2.0</td>\n",
       "      <td>ADRIANA ALBUQUERQUE NACHON</td>\n",
       "      <td>18/01/2023 a 25/01/2023</td>\n",
       "      <td>MADRID-EX</td>\n",
       "      <td>PARTICIPAR DA FEIRA INTERNACIONAL DE TURISMO -...</td>\n",
       "      <td>14.588,00</td>\n",
       "      <td>Pago</td>\n",
       "    </tr>\n",
       "    <tr>\n",
       "      <th>1</th>\n",
       "      <td>1687439061-2</td>\n",
       "      <td>https://transparencia.fortaleza.ce.gov.br/inde...</td>\n",
       "      <td>2023</td>\n",
       "      <td>30.101-SECRETARIA MUNICIPAL DO TURISMO DE FORT...</td>\n",
       "      <td>1.0</td>\n",
       "      <td>ALEXANDRE PEREIRA SILVA</td>\n",
       "      <td>18/01/2023 a 25/01/2023</td>\n",
       "      <td>MADRID-EX</td>\n",
       "      <td>PARTICIPAR DA FEIRA INTERNACIONAL DE TURISMO -...</td>\n",
       "      <td>16.672,00</td>\n",
       "      <td>Pago</td>\n",
       "    </tr>\n",
       "  </tbody>\n",
       "</table>\n",
       "</div>"
      ],
      "text/plain": [
       "  web-scraper-order                              web-scraper-start-url  \\\n",
       "0      1687439061-1  https://transparencia.fortaleza.ce.gov.br/inde...   \n",
       "1      1687439061-2  https://transparencia.fortaleza.ce.gov.br/inde...   \n",
       "\n",
       "   EXERCÍCIO                               UNIDADE ORÇAMENTARIA  Nº EMPENHO  \\\n",
       "0       2023  30.101-SECRETARIA MUNICIPAL DO TURISMO DE FORT...         2.0   \n",
       "1       2023  30.101-SECRETARIA MUNICIPAL DO TURISMO DE FORT...         1.0   \n",
       "\n",
       "                 BENEFICIÁRIO                  PERÍODO    DESTINO  \\\n",
       "0  ADRIANA ALBUQUERQUE NACHON  18/01/2023 a 25/01/2023  MADRID-EX   \n",
       "1     ALEXANDRE PEREIRA SILVA  18/01/2023 a 25/01/2023  MADRID-EX   \n",
       "\n",
       "                                              MOTIVO VALOR TOTAL DIÁRIA  \\\n",
       "0  PARTICIPAR DA FEIRA INTERNACIONAL DE TURISMO -...          14.588,00   \n",
       "1  PARTICIPAR DA FEIRA INTERNACIONAL DE TURISMO -...          16.672,00   \n",
       "\n",
       "  SITUAÇÃO EMPENHO  \n",
       "0             Pago  \n",
       "1             Pago  "
      ]
     },
     "execution_count": 49,
     "metadata": {},
     "output_type": "execute_result"
    }
   ],
   "source": [
    "# visualização das primeiras linhas\n",
    "\n",
    "df.head(2)"
   ]
  },
  {
   "cell_type": "code",
   "execution_count": 50,
   "metadata": {
    "colab": {
     "base_uri": "https://localhost:8080/"
    },
    "executionInfo": {
     "elapsed": 7,
     "status": "ok",
     "timestamp": 1688264115235,
     "user": {
      "displayName": "Gabriela Custódio",
      "userId": "17879241500396315997"
     },
     "user_tz": 180
    },
    "id": "bygHXy2BG6Ra",
    "outputId": "1e66f808-8f42-4267-db24-1e85204f4f1f"
   },
   "outputs": [
    {
     "name": "stdout",
     "output_type": "stream",
     "text": [
      "<class 'pandas.core.frame.DataFrame'>\n",
      "RangeIndex: 9871 entries, 0 to 9870\n",
      "Data columns (total 11 columns):\n",
      " #   Column                 Non-Null Count  Dtype  \n",
      "---  ------                 --------------  -----  \n",
      " 0   web-scraper-order      9871 non-null   object \n",
      " 1   web-scraper-start-url  9871 non-null   object \n",
      " 2   EXERCÍCIO              9871 non-null   int64  \n",
      " 3   UNIDADE ORÇAMENTARIA   9871 non-null   object \n",
      " 4   Nº EMPENHO             9843 non-null   float64\n",
      " 5   BENEFICIÁRIO           9871 non-null   object \n",
      " 6   PERÍODO                9871 non-null   object \n",
      " 7   DESTINO                9871 non-null   object \n",
      " 8   MOTIVO                 9871 non-null   object \n",
      " 9   VALOR TOTAL DIÁRIA     9871 non-null   object \n",
      " 10  SITUAÇÃO EMPENHO       9871 non-null   object \n",
      "dtypes: float64(1), int64(1), object(9)\n",
      "memory usage: 848.4+ KB\n"
     ]
    }
   ],
   "source": [
    "# primeira análise dos tipos de dados\n",
    "\n",
    "df.info()"
   ]
  },
  {
   "cell_type": "markdown",
   "metadata": {
    "id": "gc0LcEoJcDoj"
   },
   "source": [
    "# Limpeza e preparação dos dados"
   ]
  },
  {
   "cell_type": "code",
   "execution_count": 51,
   "metadata": {
    "colab": {
     "base_uri": "https://localhost:8080/"
    },
    "executionInfo": {
     "elapsed": 3,
     "status": "ok",
     "timestamp": 1688264115536,
     "user": {
      "displayName": "Gabriela Custódio",
      "userId": "17879241500396315997"
     },
     "user_tz": 180
    },
    "id": "W2uX2GLFHBI7",
    "outputId": "4a898a16-a33c-45b5-e281-1d6519028b19"
   },
   "outputs": [
    {
     "name": "stderr",
     "output_type": "stream",
     "text": [
      "C:\\Users\\55859\\AppData\\Local\\Temp/ipykernel_23616/3898699925.py:3: FutureWarning:\n",
      "\n",
      "The default value of regex will change from True to False in a future version. In addition, single character regular expressions will *not* be treated as literal strings when regex=True.\n",
      "\n"
     ]
    }
   ],
   "source": [
    "# na coluna de valores, vamos tirar as vírgulas\n",
    "\n",
    "df['VALOR TOTAL DIÁRIA'] = df['VALOR TOTAL DIÁRIA'].str.replace('.', '').str.replace(',', '.')"
   ]
  },
  {
   "cell_type": "markdown",
   "metadata": {
    "id": "XMPfnix8QYHg"
   },
   "source": [
    "Porém, não podemos trabalhar com valores monetários como pontos flutuantes, pois nenhuma linguagem de programação prevê tipos para dinheiro. Haveria erros por arredondamento, como explica Martin Fowler em https://martinfowler.com/eaaCatalog/money.html\n",
    "\n",
    "Vamos usar o pacote py-moneyed para resolver esse problema."
   ]
  },
  {
   "cell_type": "code",
   "execution_count": 52,
   "metadata": {
    "executionInfo": {
     "elapsed": 1,
     "status": "ok",
     "timestamp": 1688264115926,
     "user": {
      "displayName": "Gabriela Custódio",
      "userId": "17879241500396315997"
     },
     "user_tz": 180
    },
    "id": "rtTyDWWaR0x9"
   },
   "outputs": [],
   "source": [
    "from moneyed import Money\n",
    "from moneyed import Money, BRZ"
   ]
  },
  {
   "cell_type": "code",
   "execution_count": 53,
   "metadata": {
    "executionInfo": {
     "elapsed": 2,
     "status": "ok",
     "timestamp": 1688264116241,
     "user": {
      "displayName": "Gabriela Custódio",
      "userId": "17879241500396315997"
     },
     "user_tz": 180
    },
    "id": "65WVfCsbQxMl"
   },
   "outputs": [],
   "source": [
    "lista_valores = []\n",
    "for diaria in df['VALOR TOTAL DIÁRIA']:\n",
    "    valor = Money(diaria, BRZ)\n",
    "    lista_valores.append(valor.amount)"
   ]
  },
  {
   "cell_type": "code",
   "execution_count": 54,
   "metadata": {
    "executionInfo": {
     "elapsed": 1,
     "status": "ok",
     "timestamp": 1688264116241,
     "user": {
      "displayName": "Gabriela Custódio",
      "userId": "17879241500396315997"
     },
     "user_tz": 180
    },
    "id": "S9w2iVDDUMQx"
   },
   "outputs": [],
   "source": [
    "df['VALOR_TOTAL_CONVERTIDO'] = pd.Series(lista_valores)"
   ]
  },
  {
   "cell_type": "code",
   "execution_count": 55,
   "metadata": {
    "colab": {
     "base_uri": "https://localhost:8080/",
     "height": 350
    },
    "executionInfo": {
     "elapsed": 7,
     "status": "ok",
     "timestamp": 1688264116553,
     "user": {
      "displayName": "Gabriela Custódio",
      "userId": "17879241500396315997"
     },
     "user_tz": 180
    },
    "id": "ai3O_WHRSnTL",
    "outputId": "c15ef74b-4b9e-486c-ac30-375160c03764"
   },
   "outputs": [
    {
     "data": {
      "text/html": [
       "<div>\n",
       "<style scoped>\n",
       "    .dataframe tbody tr th:only-of-type {\n",
       "        vertical-align: middle;\n",
       "    }\n",
       "\n",
       "    .dataframe tbody tr th {\n",
       "        vertical-align: top;\n",
       "    }\n",
       "\n",
       "    .dataframe thead th {\n",
       "        text-align: right;\n",
       "    }\n",
       "</style>\n",
       "<table border=\"1\" class=\"dataframe\">\n",
       "  <thead>\n",
       "    <tr style=\"text-align: right;\">\n",
       "      <th></th>\n",
       "      <th>web-scraper-order</th>\n",
       "      <th>web-scraper-start-url</th>\n",
       "      <th>EXERCÍCIO</th>\n",
       "      <th>UNIDADE ORÇAMENTARIA</th>\n",
       "      <th>Nº EMPENHO</th>\n",
       "      <th>BENEFICIÁRIO</th>\n",
       "      <th>PERÍODO</th>\n",
       "      <th>DESTINO</th>\n",
       "      <th>MOTIVO</th>\n",
       "      <th>VALOR TOTAL DIÁRIA</th>\n",
       "      <th>SITUAÇÃO EMPENHO</th>\n",
       "      <th>VALOR_TOTAL_CONVERTIDO</th>\n",
       "    </tr>\n",
       "  </thead>\n",
       "  <tbody>\n",
       "    <tr>\n",
       "      <th>0</th>\n",
       "      <td>1687439061-1</td>\n",
       "      <td>https://transparencia.fortaleza.ce.gov.br/inde...</td>\n",
       "      <td>2023</td>\n",
       "      <td>30.101-SECRETARIA MUNICIPAL DO TURISMO DE FORT...</td>\n",
       "      <td>2.0</td>\n",
       "      <td>ADRIANA ALBUQUERQUE NACHON</td>\n",
       "      <td>18/01/2023 a 25/01/2023</td>\n",
       "      <td>MADRID-EX</td>\n",
       "      <td>PARTICIPAR DA FEIRA INTERNACIONAL DE TURISMO -...</td>\n",
       "      <td>14588.00</td>\n",
       "      <td>Pago</td>\n",
       "      <td>14588.00</td>\n",
       "    </tr>\n",
       "    <tr>\n",
       "      <th>1</th>\n",
       "      <td>1687439061-2</td>\n",
       "      <td>https://transparencia.fortaleza.ce.gov.br/inde...</td>\n",
       "      <td>2023</td>\n",
       "      <td>30.101-SECRETARIA MUNICIPAL DO TURISMO DE FORT...</td>\n",
       "      <td>1.0</td>\n",
       "      <td>ALEXANDRE PEREIRA SILVA</td>\n",
       "      <td>18/01/2023 a 25/01/2023</td>\n",
       "      <td>MADRID-EX</td>\n",
       "      <td>PARTICIPAR DA FEIRA INTERNACIONAL DE TURISMO -...</td>\n",
       "      <td>16672.00</td>\n",
       "      <td>Pago</td>\n",
       "      <td>16672.00</td>\n",
       "    </tr>\n",
       "  </tbody>\n",
       "</table>\n",
       "</div>"
      ],
      "text/plain": [
       "  web-scraper-order                              web-scraper-start-url  \\\n",
       "0      1687439061-1  https://transparencia.fortaleza.ce.gov.br/inde...   \n",
       "1      1687439061-2  https://transparencia.fortaleza.ce.gov.br/inde...   \n",
       "\n",
       "   EXERCÍCIO                               UNIDADE ORÇAMENTARIA  Nº EMPENHO  \\\n",
       "0       2023  30.101-SECRETARIA MUNICIPAL DO TURISMO DE FORT...         2.0   \n",
       "1       2023  30.101-SECRETARIA MUNICIPAL DO TURISMO DE FORT...         1.0   \n",
       "\n",
       "                 BENEFICIÁRIO                  PERÍODO    DESTINO  \\\n",
       "0  ADRIANA ALBUQUERQUE NACHON  18/01/2023 a 25/01/2023  MADRID-EX   \n",
       "1     ALEXANDRE PEREIRA SILVA  18/01/2023 a 25/01/2023  MADRID-EX   \n",
       "\n",
       "                                              MOTIVO VALOR TOTAL DIÁRIA  \\\n",
       "0  PARTICIPAR DA FEIRA INTERNACIONAL DE TURISMO -...           14588.00   \n",
       "1  PARTICIPAR DA FEIRA INTERNACIONAL DE TURISMO -...           16672.00   \n",
       "\n",
       "  SITUAÇÃO EMPENHO VALOR_TOTAL_CONVERTIDO  \n",
       "0             Pago               14588.00  \n",
       "1             Pago               16672.00  "
      ]
     },
     "execution_count": 55,
     "metadata": {},
     "output_type": "execute_result"
    }
   ],
   "source": [
    "df.head(2)"
   ]
  },
  {
   "cell_type": "code",
   "execution_count": 56,
   "metadata": {
    "colab": {
     "base_uri": "https://localhost:8080/"
    },
    "executionInfo": {
     "elapsed": 296,
     "status": "ok",
     "timestamp": 1688264121962,
     "user": {
      "displayName": "Gabriela Custódio",
      "userId": "17879241500396315997"
     },
     "user_tz": 180
    },
    "id": "K0kza6h-VSDm",
    "outputId": "fd75850f-c805-49e6-edcd-2f30459f8dd6"
   },
   "outputs": [
    {
     "name": "stdout",
     "output_type": "stream",
     "text": [
      "<class 'pandas.core.frame.DataFrame'>\n",
      "RangeIndex: 9871 entries, 0 to 9870\n",
      "Data columns (total 12 columns):\n",
      " #   Column                  Non-Null Count  Dtype  \n",
      "---  ------                  --------------  -----  \n",
      " 0   web-scraper-order       9871 non-null   object \n",
      " 1   web-scraper-start-url   9871 non-null   object \n",
      " 2   EXERCÍCIO               9871 non-null   int64  \n",
      " 3   UNIDADE ORÇAMENTARIA    9871 non-null   object \n",
      " 4   Nº EMPENHO              9843 non-null   float64\n",
      " 5   BENEFICIÁRIO            9871 non-null   object \n",
      " 6   PERÍODO                 9871 non-null   object \n",
      " 7   DESTINO                 9871 non-null   object \n",
      " 8   MOTIVO                  9871 non-null   object \n",
      " 9   VALOR TOTAL DIÁRIA      9871 non-null   object \n",
      " 10  SITUAÇÃO EMPENHO        9871 non-null   object \n",
      " 11  VALOR_TOTAL_CONVERTIDO  9871 non-null   object \n",
      "dtypes: float64(1), int64(1), object(10)\n",
      "memory usage: 925.5+ KB\n"
     ]
    }
   ],
   "source": [
    "df.info()"
   ]
  },
  {
   "cell_type": "code",
   "execution_count": 57,
   "metadata": {
    "colab": {
     "base_uri": "https://localhost:8080/"
    },
    "executionInfo": {
     "elapsed": 6,
     "status": "ok",
     "timestamp": 1688264122299,
     "user": {
      "displayName": "Gabriela Custódio",
      "userId": "17879241500396315997"
     },
     "user_tz": 180
    },
    "id": "YirvEKPEVWxd",
    "outputId": "4bc23743-dc9f-416f-bc3b-b75a9fbfd824"
   },
   "outputs": [
    {
     "data": {
      "text/plain": [
       "Decimal('40.00')"
      ]
     },
     "execution_count": 57,
     "metadata": {},
     "output_type": "execute_result"
    }
   ],
   "source": [
    "df['VALOR_TOTAL_CONVERTIDO'][50] - df['VALOR_TOTAL_CONVERTIDO'][20]"
   ]
  },
  {
   "cell_type": "code",
   "execution_count": 58,
   "metadata": {
    "executionInfo": {
     "elapsed": 2,
     "status": "ok",
     "timestamp": 1688264123856,
     "user": {
      "displayName": "Gabriela Custódio",
      "userId": "17879241500396315997"
     },
     "user_tz": 180
    },
    "id": "3VRyr748HxJc"
   },
   "outputs": [],
   "source": [
    "# ajustando coluna com nº de empenho\n",
    "\n",
    "df['Nº EMPENHO'] = df['Nº EMPENHO'].fillna(0) # O que estiver zero, no final, indicará que antes estava nulo\n",
    "df['Nº EMPENHO'] = df['Nº EMPENHO'].astype(int)\n",
    "df['Nº EMPENHO'] = df['Nº EMPENHO'].astype(str)"
   ]
  },
  {
   "cell_type": "code",
   "execution_count": 59,
   "metadata": {
    "executionInfo": {
     "elapsed": 4,
     "status": "ok",
     "timestamp": 1688264125062,
     "user": {
      "displayName": "Gabriela Custódio",
      "userId": "17879241500396315997"
     },
     "user_tz": 180
    },
    "id": "5Dp_eY5sKIP4"
   },
   "outputs": [],
   "source": [
    "df = df[['EXERCÍCIO', 'UNIDADE ORÇAMENTARIA', 'Nº EMPENHO', 'BENEFICIÁRIO', 'PERÍODO',\n",
    "       'DESTINO', 'MOTIVO', 'VALOR_TOTAL_CONVERTIDO', 'SITUAÇÃO EMPENHO']]"
   ]
  },
  {
   "cell_type": "code",
   "execution_count": 60,
   "metadata": {
    "executionInfo": {
     "elapsed": 2,
     "status": "ok",
     "timestamp": 1688264126166,
     "user": {
      "displayName": "Gabriela Custódio",
      "userId": "17879241500396315997"
     },
     "user_tz": 180
    },
    "id": "nkjtkbMxW_SM"
   },
   "outputs": [],
   "source": [
    "# Dividindo de coluna com período da viagem em início e fim\n",
    "\n",
    "df['INÍCIO_VIAGEM'] = df['PERÍODO'].str.split(pat=' a ', expand=True)[0]\n",
    "df['FIM_VIAGEM'] = df['PERÍODO'].str.split(pat=' a ', expand=True)[1]"
   ]
  },
  {
   "cell_type": "code",
   "execution_count": 61,
   "metadata": {
    "colab": {
     "base_uri": "https://localhost:8080/"
    },
    "executionInfo": {
     "elapsed": 325,
     "status": "ok",
     "timestamp": 1688264129542,
     "user": {
      "displayName": "Gabriela Custódio",
      "userId": "17879241500396315997"
     },
     "user_tz": 180
    },
    "id": "JMab-CMYWNfM",
    "outputId": "28693067-d801-43d4-8e60-b7edd5790c1a"
   },
   "outputs": [
    {
     "name": "stdout",
     "output_type": "stream",
     "text": [
      "O que fizemos acima foi \"cortar\" a coluna \"PERÍODO\" em duas colunas.\n",
      "-----------\n",
      "Desse valor: 18/01/2023 a 25/01/2023\n",
      "-----------\n",
      "Agora temos uma coluna para o início da viagem: 18/01/2023\n",
      "E outra para a data final da viagem: 25/01/2023\n"
     ]
    }
   ],
   "source": [
    "print('O que fizemos acima foi \"cortar\" a coluna \"PERÍODO\" em duas colunas.')\n",
    "print('-----------')\n",
    "print('Desse valor:', df['PERÍODO'][0])\n",
    "print('-----------')\n",
    "print('Agora temos uma coluna para o início da viagem:', df['INÍCIO_VIAGEM'][0])\n",
    "print('E outra para a data final da viagem:', df['FIM_VIAGEM'][0])"
   ]
  },
  {
   "cell_type": "code",
   "execution_count": 62,
   "metadata": {
    "executionInfo": {
     "elapsed": 1,
     "status": "ok",
     "timestamp": 1688264129969,
     "user": {
      "displayName": "Gabriela Custódio",
      "userId": "17879241500396315997"
     },
     "user_tz": 180
    },
    "id": "XHE19si8XON0"
   },
   "outputs": [],
   "source": [
    "# transformando as colunas de início e fim da viagem em datetime\n",
    "\n",
    "df['INÍCIO_VIAGEM'] = pd.to_datetime(df['INÍCIO_VIAGEM'], format='%d/%m/%Y')\n",
    "df['FIM_VIAGEM'] = pd.to_datetime(df['FIM_VIAGEM'], format='%d/%m/%Y')\n",
    "\n",
    "# calculando a duração da viagem\n",
    "\n",
    "df['DURAÇÃO_VIAGEM'] = ((df['FIM_VIAGEM'] - df['INÍCIO_VIAGEM'])/pd.offsets.Day(1)).astype(int)"
   ]
  },
  {
   "cell_type": "code",
   "execution_count": 63,
   "metadata": {
    "executionInfo": {
     "elapsed": 1,
     "status": "ok",
     "timestamp": 1688264131190,
     "user": {
      "displayName": "Gabriela Custódio",
      "userId": "17879241500396315997"
     },
     "user_tz": 180
    },
    "id": "7sPBMvn1cjbr"
   },
   "outputs": [],
   "source": [
    "# criando uma nova coluna com a sigla dos destinos de cada viagem, para saber se o servidor viajou para algum estado brasileiro ou para o exterior\n",
    "\n",
    "lista_destinos = []\n",
    "for destino in df['DESTINO']:\n",
    "    viagens = destino[-2:]\n",
    "    lista_destinos.append(viagens)\n",
    "\n",
    "df['SG_DESTINO'] = pd.DataFrame(lista_destinos)"
   ]
  },
  {
   "cell_type": "code",
   "execution_count": 64,
   "metadata": {
    "colab": {
     "base_uri": "https://localhost:8080/"
    },
    "executionInfo": {
     "elapsed": 5,
     "status": "ok",
     "timestamp": 1688264131479,
     "user": {
      "displayName": "Gabriela Custódio",
      "userId": "17879241500396315997"
     },
     "user_tz": 180
    },
    "id": "f2TSgiSTVCUi",
    "outputId": "1b866473-fa25-423f-b7c2-71c2c89d101b"
   },
   "outputs": [
    {
     "name": "stdout",
     "output_type": "stream",
     "text": [
      "O que fizemos aqui foi retirar a sigla do destino e separar em uma coluna diferente.\n",
      "-----------\n",
      "Por exemplo... No caso desse destino: MADRID-EX\n",
      "-----------\n",
      "Ficou assim: EX\n"
     ]
    }
   ],
   "source": [
    "print('O que fizemos aqui foi retirar a sigla do destino e separar em uma coluna diferente.')\n",
    "print('-----------')\n",
    "print('Por exemplo... No caso desse destino:', df['DESTINO'][0])\n",
    "print('-----------')\n",
    "print('Ficou assim:', df['SG_DESTINO'][0])"
   ]
  },
  {
   "cell_type": "code",
   "execution_count": 65,
   "metadata": {
    "executionInfo": {
     "elapsed": 4,
     "status": "ok",
     "timestamp": 1688264133522,
     "user": {
      "displayName": "Gabriela Custódio",
      "userId": "17879241500396315997"
     },
     "user_tz": 180
    },
    "id": "iAqnXEINi53_"
   },
   "outputs": [],
   "source": [
    "# padronizando coluna de unidades orçamentárias\n",
    "\n",
    "df['COD_UNIDADE_ORÇAMENTARIA'] = df['UNIDADE ORÇAMENTARIA'].str.split(pat='-', expand=True)[0]"
   ]
  },
  {
   "cell_type": "code",
   "execution_count": 66,
   "metadata": {
    "colab": {
     "base_uri": "https://localhost:8080/"
    },
    "executionInfo": {
     "elapsed": 4,
     "status": "ok",
     "timestamp": 1688264134720,
     "user": {
      "displayName": "Gabriela Custódio",
      "userId": "17879241500396315997"
     },
     "user_tz": 180
    },
    "id": "0HrcOZvRWNtn",
    "outputId": "57ca66b1-8729-4bc3-f219-0df4c22bd5de"
   },
   "outputs": [
    {
     "name": "stdout",
     "output_type": "stream",
     "text": [
      "E aqui retiramos apenas o código das unidades orçamentárias, uma vez que esse elemento permanece o mesmo, ainda que o nome mude em gestões diferentes\n",
      "-----------\n",
      "Por exemplo, nesse caso: 30.101-SECRETARIA MUNICIPAL DO TURISMO DE FORTALEZA\n",
      "-----------\n",
      "Temos apenas o código 30.101\n"
     ]
    }
   ],
   "source": [
    "print('E aqui retiramos apenas o código das unidades orçamentárias, uma vez que esse elemento permanece o mesmo, ainda que o nome mude em gestões diferentes')\n",
    "print('-----------')\n",
    "print('Por exemplo, nesse caso:', df['UNIDADE ORÇAMENTARIA'][0])\n",
    "print('-----------')\n",
    "print('Temos apenas o código', df['COD_UNIDADE_ORÇAMENTARIA'][0])"
   ]
  },
  {
   "cell_type": "code",
   "execution_count": 67,
   "metadata": {
    "colab": {
     "base_uri": "https://localhost:8080/",
     "height": 565
    },
    "executionInfo": {
     "elapsed": 5,
     "status": "ok",
     "timestamp": 1688264135827,
     "user": {
      "displayName": "Gabriela Custódio",
      "userId": "17879241500396315997"
     },
     "user_tz": 180
    },
    "id": "jzKXaiCnOdA5",
    "outputId": "11fa90aa-12d4-4701-8ea7-98b05c248064"
   },
   "outputs": [
    {
     "data": {
      "text/html": [
       "<div>\n",
       "<style scoped>\n",
       "    .dataframe tbody tr th:only-of-type {\n",
       "        vertical-align: middle;\n",
       "    }\n",
       "\n",
       "    .dataframe tbody tr th {\n",
       "        vertical-align: top;\n",
       "    }\n",
       "\n",
       "    .dataframe thead th {\n",
       "        text-align: right;\n",
       "    }\n",
       "</style>\n",
       "<table border=\"1\" class=\"dataframe\">\n",
       "  <thead>\n",
       "    <tr style=\"text-align: right;\">\n",
       "      <th></th>\n",
       "      <th>EXERCÍCIO</th>\n",
       "      <th>UNIDADE ORÇAMENTARIA</th>\n",
       "      <th>Nº EMPENHO</th>\n",
       "      <th>BENEFICIÁRIO</th>\n",
       "      <th>PERÍODO</th>\n",
       "      <th>DESTINO</th>\n",
       "      <th>MOTIVO</th>\n",
       "      <th>VALOR_TOTAL_CONVERTIDO</th>\n",
       "      <th>SITUAÇÃO EMPENHO</th>\n",
       "      <th>INÍCIO_VIAGEM</th>\n",
       "      <th>FIM_VIAGEM</th>\n",
       "      <th>DURAÇÃO_VIAGEM</th>\n",
       "      <th>SG_DESTINO</th>\n",
       "      <th>COD_UNIDADE_ORÇAMENTARIA</th>\n",
       "    </tr>\n",
       "  </thead>\n",
       "  <tbody>\n",
       "    <tr>\n",
       "      <th>0</th>\n",
       "      <td>2023</td>\n",
       "      <td>30.101-SECRETARIA MUNICIPAL DO TURISMO DE FORT...</td>\n",
       "      <td>2</td>\n",
       "      <td>ADRIANA ALBUQUERQUE NACHON</td>\n",
       "      <td>18/01/2023 a 25/01/2023</td>\n",
       "      <td>MADRID-EX</td>\n",
       "      <td>PARTICIPAR DA FEIRA INTERNACIONAL DE TURISMO -...</td>\n",
       "      <td>14588.00</td>\n",
       "      <td>Pago</td>\n",
       "      <td>2023-01-18</td>\n",
       "      <td>2023-01-25</td>\n",
       "      <td>7</td>\n",
       "      <td>EX</td>\n",
       "      <td>30.101</td>\n",
       "    </tr>\n",
       "    <tr>\n",
       "      <th>1</th>\n",
       "      <td>2023</td>\n",
       "      <td>30.101-SECRETARIA MUNICIPAL DO TURISMO DE FORT...</td>\n",
       "      <td>1</td>\n",
       "      <td>ALEXANDRE PEREIRA SILVA</td>\n",
       "      <td>18/01/2023 a 25/01/2023</td>\n",
       "      <td>MADRID-EX</td>\n",
       "      <td>PARTICIPAR DA FEIRA INTERNACIONAL DE TURISMO -...</td>\n",
       "      <td>16672.00</td>\n",
       "      <td>Pago</td>\n",
       "      <td>2023-01-18</td>\n",
       "      <td>2023-01-25</td>\n",
       "      <td>7</td>\n",
       "      <td>EX</td>\n",
       "      <td>30.101</td>\n",
       "    </tr>\n",
       "    <tr>\n",
       "      <th>2</th>\n",
       "      <td>2023</td>\n",
       "      <td>13.901-FUNDO DE APERFEICOAMENTO DA PROCURADORI...</td>\n",
       "      <td>5</td>\n",
       "      <td>VALERIA MORAES LOPES</td>\n",
       "      <td>05/12/2022 a 08/12/2022</td>\n",
       "      <td>SAO PAULO-SP</td>\n",
       "      <td>VIAGEM A CIDADE DE SAO PAULO SP, AFIM DE PARTI...</td>\n",
       "      <td>1920.00</td>\n",
       "      <td>Pago</td>\n",
       "      <td>2022-12-05</td>\n",
       "      <td>2022-12-08</td>\n",
       "      <td>3</td>\n",
       "      <td>SP</td>\n",
       "      <td>13.901</td>\n",
       "    </tr>\n",
       "    <tr>\n",
       "      <th>3</th>\n",
       "      <td>2023</td>\n",
       "      <td>13.901-FUNDO DE APERFEICOAMENTO DA PROCURADORI...</td>\n",
       "      <td>6</td>\n",
       "      <td>NATERCIA SAMPAIO SIQUEIRA</td>\n",
       "      <td>05/12/2022 a 08/12/2022</td>\n",
       "      <td>SAO PAULO-SP</td>\n",
       "      <td>VIAGEM A CIDADE DE SAO PAULO SP, AFIM DE PARTI...</td>\n",
       "      <td>1120.00</td>\n",
       "      <td>Pago</td>\n",
       "      <td>2022-12-05</td>\n",
       "      <td>2022-12-08</td>\n",
       "      <td>3</td>\n",
       "      <td>SP</td>\n",
       "      <td>13.901</td>\n",
       "    </tr>\n",
       "    <tr>\n",
       "      <th>4</th>\n",
       "      <td>2023</td>\n",
       "      <td>13.901-FUNDO DE APERFEICOAMENTO DA PROCURADORI...</td>\n",
       "      <td>1</td>\n",
       "      <td>PABLO FREIRE ROMAO</td>\n",
       "      <td>05/12/2022 a 08/12/2022</td>\n",
       "      <td>SAO PAULO-SP</td>\n",
       "      <td>PARTICIPACAO DE PROCURADOR MUNICIPAL NO XIX CO...</td>\n",
       "      <td>1120.00</td>\n",
       "      <td>Pago</td>\n",
       "      <td>2022-12-05</td>\n",
       "      <td>2022-12-08</td>\n",
       "      <td>3</td>\n",
       "      <td>SP</td>\n",
       "      <td>13.901</td>\n",
       "    </tr>\n",
       "  </tbody>\n",
       "</table>\n",
       "</div>"
      ],
      "text/plain": [
       "   EXERCÍCIO                               UNIDADE ORÇAMENTARIA Nº EMPENHO  \\\n",
       "0       2023  30.101-SECRETARIA MUNICIPAL DO TURISMO DE FORT...          2   \n",
       "1       2023  30.101-SECRETARIA MUNICIPAL DO TURISMO DE FORT...          1   \n",
       "2       2023  13.901-FUNDO DE APERFEICOAMENTO DA PROCURADORI...          5   \n",
       "3       2023  13.901-FUNDO DE APERFEICOAMENTO DA PROCURADORI...          6   \n",
       "4       2023  13.901-FUNDO DE APERFEICOAMENTO DA PROCURADORI...          1   \n",
       "\n",
       "                 BENEFICIÁRIO                  PERÍODO       DESTINO  \\\n",
       "0  ADRIANA ALBUQUERQUE NACHON  18/01/2023 a 25/01/2023     MADRID-EX   \n",
       "1     ALEXANDRE PEREIRA SILVA  18/01/2023 a 25/01/2023     MADRID-EX   \n",
       "2        VALERIA MORAES LOPES  05/12/2022 a 08/12/2022  SAO PAULO-SP   \n",
       "3   NATERCIA SAMPAIO SIQUEIRA  05/12/2022 a 08/12/2022  SAO PAULO-SP   \n",
       "4          PABLO FREIRE ROMAO  05/12/2022 a 08/12/2022  SAO PAULO-SP   \n",
       "\n",
       "                                              MOTIVO VALOR_TOTAL_CONVERTIDO  \\\n",
       "0  PARTICIPAR DA FEIRA INTERNACIONAL DE TURISMO -...               14588.00   \n",
       "1  PARTICIPAR DA FEIRA INTERNACIONAL DE TURISMO -...               16672.00   \n",
       "2  VIAGEM A CIDADE DE SAO PAULO SP, AFIM DE PARTI...                1920.00   \n",
       "3  VIAGEM A CIDADE DE SAO PAULO SP, AFIM DE PARTI...                1120.00   \n",
       "4  PARTICIPACAO DE PROCURADOR MUNICIPAL NO XIX CO...                1120.00   \n",
       "\n",
       "  SITUAÇÃO EMPENHO INÍCIO_VIAGEM FIM_VIAGEM  DURAÇÃO_VIAGEM SG_DESTINO  \\\n",
       "0             Pago    2023-01-18 2023-01-25               7         EX   \n",
       "1             Pago    2023-01-18 2023-01-25               7         EX   \n",
       "2             Pago    2022-12-05 2022-12-08               3         SP   \n",
       "3             Pago    2022-12-05 2022-12-08               3         SP   \n",
       "4             Pago    2022-12-05 2022-12-08               3         SP   \n",
       "\n",
       "  COD_UNIDADE_ORÇAMENTARIA  \n",
       "0                   30.101  \n",
       "1                   30.101  \n",
       "2                   13.901  \n",
       "3                   13.901  \n",
       "4                   13.901  "
      ]
     },
     "execution_count": 67,
     "metadata": {},
     "output_type": "execute_result"
    }
   ],
   "source": [
    "df.head()"
   ]
  },
  {
   "cell_type": "markdown",
   "metadata": {
    "id": "4-dCHcJqcH-J"
   },
   "source": [
    "# Análise"
   ]
  },
  {
   "cell_type": "code",
   "execution_count": 68,
   "metadata": {
    "colab": {
     "base_uri": "https://localhost:8080/"
    },
    "executionInfo": {
     "elapsed": 4,
     "status": "ok",
     "timestamp": 1688264137028,
     "user": {
      "displayName": "Gabriela Custódio",
      "userId": "17879241500396315997"
     },
     "user_tz": 180
    },
    "id": "FA-SzCNETTTR",
    "outputId": "1d8d9168-f0f7-4422-bc91-e7a29ac99980"
   },
   "outputs": [
    {
     "data": {
      "text/plain": [
       "Pago            9352\n",
       "Anulado          336\n",
       "Empenhado         85\n",
       "Liquidado         70\n",
       "Não aprovado      28\n",
       "Name: SITUAÇÃO EMPENHO, dtype: int64"
      ]
     },
     "execution_count": 68,
     "metadata": {},
     "output_type": "execute_result"
    }
   ],
   "source": [
    "# primeiramente, vamos ver a situação de empenho das viagens e o total de diárias em cada categoria\n",
    "\n",
    "df['SITUAÇÃO EMPENHO'].value_counts()"
   ]
  },
  {
   "cell_type": "code",
   "execution_count": 69,
   "metadata": {
    "executionInfo": {
     "elapsed": 2,
     "status": "ok",
     "timestamp": 1688264137995,
     "user": {
      "displayName": "Gabriela Custódio",
      "userId": "17879241500396315997"
     },
     "user_tz": 180
    },
    "id": "jcFjR0NQVLZ2"
   },
   "outputs": [],
   "source": [
    "# Agora vamos selecionar apenas as viagens pagas, empenhadas ou liquidadas\n",
    "\n",
    "df_validos = df[(df['SITUAÇÃO EMPENHO'] == 'Pago') | (df['SITUAÇÃO EMPENHO'] == 'Empenhado') | (df['SITUAÇÃO EMPENHO'] == 'Liquidado')]"
   ]
  },
  {
   "cell_type": "code",
   "execution_count": 70,
   "metadata": {
    "colab": {
     "base_uri": "https://localhost:8080/"
    },
    "executionInfo": {
     "elapsed": 2,
     "status": "ok",
     "timestamp": 1688264139157,
     "user": {
      "displayName": "Gabriela Custódio",
      "userId": "17879241500396315997"
     },
     "user_tz": 180
    },
    "id": "LmFJvBYRgGWV",
    "outputId": "5add6866-c49c-4c71-93a9-1f8f60c63979"
   },
   "outputs": [
    {
     "data": {
      "text/plain": [
       "EXERCÍCIO\n",
       "2014    1392\n",
       "2015    1214\n",
       "2016    1278\n",
       "2017    1568\n",
       "2018    1473\n",
       "2019    1173\n",
       "2020     478\n",
       "2021     309\n",
       "2022     428\n",
       "2023     194\n",
       "dtype: int64"
      ]
     },
     "execution_count": 70,
     "metadata": {},
     "output_type": "execute_result"
    }
   ],
   "source": [
    "# Quantidade de viagens por ano - cai em mais da metade no período da pandemia\n",
    "\n",
    "df_validos[['EXERCÍCIO', 'DESTINO']].value_counts().groupby('EXERCÍCIO').sum()"
   ]
  },
  {
   "cell_type": "code",
   "execution_count": 71,
   "metadata": {
    "executionInfo": {
     "elapsed": 2,
     "status": "ok",
     "timestamp": 1688264140960,
     "user": {
      "displayName": "Gabriela Custódio",
      "userId": "17879241500396315997"
     },
     "user_tz": 180
    },
    "id": "5bX7v9trgGYW"
   },
   "outputs": [],
   "source": [
    "# Quantidade de viagens por ano\n",
    "\n",
    "viagens_orgao_ano = df_validos[['EXERCÍCIO', 'COD_UNIDADE_ORÇAMENTARIA', 'DESTINO']].value_counts().groupby(['EXERCÍCIO', 'COD_UNIDADE_ORÇAMENTARIA']).sum().reset_index()\n",
    "viagens_orgao_ano_pivot = viagens_orgao_ano.pivot_table(index='COD_UNIDADE_ORÇAMENTARIA', columns='EXERCÍCIO', values=0).fillna(0)\n",
    "\n",
    "# Para ver o total de viagens por órgão juntando todos os anos, executar a linha abaixo\n",
    "# viagens_orgao_ano_pivot['Total'] = viagens_orgao_ano_pivot.apply(lambda x: sum(x), axis=1)"
   ]
  },
  {
   "cell_type": "code",
   "execution_count": 72,
   "metadata": {
    "colab": {
     "base_uri": "https://localhost:8080/",
     "height": 424
    },
    "executionInfo": {
     "elapsed": 444,
     "status": "ok",
     "timestamp": 1688264141831,
     "user": {
      "displayName": "Gabriela Custódio",
      "userId": "17879241500396315997"
     },
     "user_tz": 180
    },
    "id": "MIbFlGN1mctv",
    "outputId": "dcd045b4-bd9a-43fd-e316-32d092bbbc26"
   },
   "outputs": [
    {
     "data": {
      "text/html": [
       "<div>\n",
       "<style scoped>\n",
       "    .dataframe tbody tr th:only-of-type {\n",
       "        vertical-align: middle;\n",
       "    }\n",
       "\n",
       "    .dataframe tbody tr th {\n",
       "        vertical-align: top;\n",
       "    }\n",
       "\n",
       "    .dataframe thead th {\n",
       "        text-align: right;\n",
       "    }\n",
       "</style>\n",
       "<table border=\"1\" class=\"dataframe\">\n",
       "  <thead>\n",
       "    <tr style=\"text-align: right;\">\n",
       "      <th></th>\n",
       "      <th>EXERCÍCIO</th>\n",
       "      <th>COD_UNIDADE_ORÇAMENTARIA</th>\n",
       "      <th>0</th>\n",
       "    </tr>\n",
       "  </thead>\n",
       "  <tbody>\n",
       "    <tr>\n",
       "      <th>0</th>\n",
       "      <td>2014</td>\n",
       "      <td>01.101</td>\n",
       "      <td>2</td>\n",
       "    </tr>\n",
       "    <tr>\n",
       "      <th>1</th>\n",
       "      <td>2014</td>\n",
       "      <td>11.101</td>\n",
       "      <td>46</td>\n",
       "    </tr>\n",
       "    <tr>\n",
       "      <th>2</th>\n",
       "      <td>2014</td>\n",
       "      <td>11.202</td>\n",
       "      <td>5</td>\n",
       "    </tr>\n",
       "    <tr>\n",
       "      <th>3</th>\n",
       "      <td>2014</td>\n",
       "      <td>11.203</td>\n",
       "      <td>10</td>\n",
       "    </tr>\n",
       "    <tr>\n",
       "      <th>4</th>\n",
       "      <td>2014</td>\n",
       "      <td>13.101</td>\n",
       "      <td>14</td>\n",
       "    </tr>\n",
       "    <tr>\n",
       "      <th>...</th>\n",
       "      <td>...</td>\n",
       "      <td>...</td>\n",
       "      <td>...</td>\n",
       "    </tr>\n",
       "    <tr>\n",
       "      <th>315</th>\n",
       "      <td>2023</td>\n",
       "      <td>31.901</td>\n",
       "      <td>1</td>\n",
       "    </tr>\n",
       "    <tr>\n",
       "      <th>316</th>\n",
       "      <td>2023</td>\n",
       "      <td>31.905</td>\n",
       "      <td>1</td>\n",
       "    </tr>\n",
       "    <tr>\n",
       "      <th>317</th>\n",
       "      <td>2023</td>\n",
       "      <td>32.101</td>\n",
       "      <td>2</td>\n",
       "    </tr>\n",
       "    <tr>\n",
       "      <th>318</th>\n",
       "      <td>2023</td>\n",
       "      <td>33.101</td>\n",
       "      <td>1</td>\n",
       "    </tr>\n",
       "    <tr>\n",
       "      <th>319</th>\n",
       "      <td>2023</td>\n",
       "      <td>34.101</td>\n",
       "      <td>1</td>\n",
       "    </tr>\n",
       "  </tbody>\n",
       "</table>\n",
       "<p>320 rows × 3 columns</p>\n",
       "</div>"
      ],
      "text/plain": [
       "     EXERCÍCIO COD_UNIDADE_ORÇAMENTARIA   0\n",
       "0         2014                   01.101   2\n",
       "1         2014                   11.101  46\n",
       "2         2014                   11.202   5\n",
       "3         2014                   11.203  10\n",
       "4         2014                   13.101  14\n",
       "..         ...                      ...  ..\n",
       "315       2023                   31.901   1\n",
       "316       2023                   31.905   1\n",
       "317       2023                   32.101   2\n",
       "318       2023                   33.101   1\n",
       "319       2023                   34.101   1\n",
       "\n",
       "[320 rows x 3 columns]"
      ]
     },
     "execution_count": 72,
     "metadata": {},
     "output_type": "execute_result"
    }
   ],
   "source": [
    "viagens_orgao_ano"
   ]
  },
  {
   "cell_type": "code",
   "execution_count": 73,
   "metadata": {
    "colab": {
     "base_uri": "https://localhost:8080/",
     "height": 542
    },
    "executionInfo": {
     "elapsed": 8,
     "status": "ok",
     "timestamp": 1688264143310,
     "user": {
      "displayName": "Gabriela Custódio",
      "userId": "17879241500396315997"
     },
     "user_tz": 180
    },
    "id": "Van1yMBfgGal",
    "outputId": "0a016eca-d269-49e0-a1c2-e11c7bbc65f2"
   },
   "outputs": [
    {
     "data": {
      "application/vnd.plotly.v1+json": {
       "config": {
        "plotlyServerURL": "https://plot.ly"
       },
       "data": [
        {
         "hovertemplate": "COD_UNIDADE_ORÇAMENTARIA=01.101<br>EXERCÍCIO=%{x}<br>0=%{y}<extra></extra>",
         "legendgroup": "01.101",
         "line": {
          "color": "#636efa",
          "dash": "solid"
         },
         "marker": {
          "symbol": "circle"
         },
         "mode": "lines",
         "name": "01.101",
         "orientation": "v",
         "showlegend": true,
         "type": "scatter",
         "x": [
          2014
         ],
         "xaxis": "x",
         "y": [
          2
         ],
         "yaxis": "y"
        },
        {
         "hovertemplate": "COD_UNIDADE_ORÇAMENTARIA=11.101<br>EXERCÍCIO=%{x}<br>0=%{y}<extra></extra>",
         "legendgroup": "11.101",
         "line": {
          "color": "#EF553B",
          "dash": "solid"
         },
         "marker": {
          "symbol": "circle"
         },
         "mode": "lines",
         "name": "11.101",
         "orientation": "v",
         "showlegend": true,
         "type": "scatter",
         "x": [
          2014,
          2015,
          2016,
          2017,
          2018,
          2019,
          2020,
          2021,
          2022,
          2023
         ],
         "xaxis": "x",
         "y": [
          46,
          49,
          23,
          44,
          49,
          52,
          12,
          3,
          13,
          11
         ],
         "yaxis": "y"
        },
        {
         "hovertemplate": "COD_UNIDADE_ORÇAMENTARIA=11.202<br>EXERCÍCIO=%{x}<br>0=%{y}<extra></extra>",
         "legendgroup": "11.202",
         "line": {
          "color": "#00cc96",
          "dash": "solid"
         },
         "marker": {
          "symbol": "circle"
         },
         "mode": "lines",
         "name": "11.202",
         "orientation": "v",
         "showlegend": true,
         "type": "scatter",
         "x": [
          2014,
          2015,
          2016,
          2017,
          2018,
          2020,
          2021,
          2022,
          2023
         ],
         "xaxis": "x",
         "y": [
          5,
          4,
          1,
          3,
          2,
          1,
          2,
          28,
          4
         ],
         "yaxis": "y"
        },
        {
         "hovertemplate": "COD_UNIDADE_ORÇAMENTARIA=11.203<br>EXERCÍCIO=%{x}<br>0=%{y}<extra></extra>",
         "legendgroup": "11.203",
         "line": {
          "color": "#ab63fa",
          "dash": "solid"
         },
         "marker": {
          "symbol": "circle"
         },
         "mode": "lines",
         "name": "11.203",
         "orientation": "v",
         "showlegend": true,
         "type": "scatter",
         "x": [
          2014
         ],
         "xaxis": "x",
         "y": [
          10
         ],
         "yaxis": "y"
        },
        {
         "hovertemplate": "COD_UNIDADE_ORÇAMENTARIA=13.101<br>EXERCÍCIO=%{x}<br>0=%{y}<extra></extra>",
         "legendgroup": "13.101",
         "line": {
          "color": "#FFA15A",
          "dash": "solid"
         },
         "marker": {
          "symbol": "circle"
         },
         "mode": "lines",
         "name": "13.101",
         "orientation": "v",
         "showlegend": true,
         "type": "scatter",
         "x": [
          2014,
          2015,
          2016,
          2017,
          2018,
          2019,
          2020,
          2022,
          2023
         ],
         "xaxis": "x",
         "y": [
          14,
          16,
          46,
          40,
          17,
          3,
          5,
          9,
          2
         ],
         "yaxis": "y"
        },
        {
         "hovertemplate": "COD_UNIDADE_ORÇAMENTARIA=13.201<br>EXERCÍCIO=%{x}<br>0=%{y}<extra></extra>",
         "legendgroup": "13.201",
         "line": {
          "color": "#19d3f3",
          "dash": "solid"
         },
         "marker": {
          "symbol": "circle"
         },
         "mode": "lines",
         "name": "13.201",
         "orientation": "v",
         "showlegend": true,
         "type": "scatter",
         "x": [
          2014,
          2015,
          2016,
          2023
         ],
         "xaxis": "x",
         "y": [
          2,
          3,
          11,
          3
         ],
         "yaxis": "y"
        },
        {
         "hovertemplate": "COD_UNIDADE_ORÇAMENTARIA=13.901<br>EXERCÍCIO=%{x}<br>0=%{y}<extra></extra>",
         "legendgroup": "13.901",
         "line": {
          "color": "#FF6692",
          "dash": "solid"
         },
         "marker": {
          "symbol": "circle"
         },
         "mode": "lines",
         "name": "13.901",
         "orientation": "v",
         "showlegend": true,
         "type": "scatter",
         "x": [
          2014,
          2015,
          2016,
          2017,
          2018,
          2019,
          2020,
          2022,
          2023
         ],
         "xaxis": "x",
         "y": [
          24,
          19,
          25,
          42,
          27,
          27,
          3,
          5,
          8
         ],
         "yaxis": "y"
        },
        {
         "hovertemplate": "COD_UNIDADE_ORÇAMENTARIA=15.101<br>EXERCÍCIO=%{x}<br>0=%{y}<extra></extra>",
         "legendgroup": "15.101",
         "line": {
          "color": "#B6E880",
          "dash": "solid"
         },
         "marker": {
          "symbol": "circle"
         },
         "mode": "lines",
         "name": "15.101",
         "orientation": "v",
         "showlegend": true,
         "type": "scatter",
         "x": [
          2014,
          2015,
          2016,
          2017,
          2018,
          2019,
          2020,
          2021,
          2022,
          2023
         ],
         "xaxis": "x",
         "y": [
          15,
          15,
          4,
          35,
          40,
          34,
          7,
          1,
          11,
          6
         ],
         "yaxis": "y"
        },
        {
         "hovertemplate": "COD_UNIDADE_ORÇAMENTARIA=16.101<br>EXERCÍCIO=%{x}<br>0=%{y}<extra></extra>",
         "legendgroup": "16.101",
         "line": {
          "color": "#FF97FF",
          "dash": "solid"
         },
         "marker": {
          "symbol": "circle"
         },
         "mode": "lines",
         "name": "16.101",
         "orientation": "v",
         "showlegend": true,
         "type": "scatter",
         "x": [
          2014,
          2022,
          2023
         ],
         "xaxis": "x",
         "y": [
          16,
          3,
          1
         ],
         "yaxis": "y"
        },
        {
         "hovertemplate": "COD_UNIDADE_ORÇAMENTARIA=17.101<br>EXERCÍCIO=%{x}<br>0=%{y}<extra></extra>",
         "legendgroup": "17.101",
         "line": {
          "color": "#FECB52",
          "dash": "solid"
         },
         "marker": {
          "symbol": "circle"
         },
         "mode": "lines",
         "name": "17.101",
         "orientation": "v",
         "showlegend": true,
         "type": "scatter",
         "x": [
          2014,
          2015,
          2016,
          2017,
          2018,
          2019,
          2020,
          2021,
          2022,
          2023
         ],
         "xaxis": "x",
         "y": [
          3,
          4,
          10,
          26,
          8,
          7,
          1,
          9,
          18,
          9
         ],
         "yaxis": "y"
        },
        {
         "hovertemplate": "COD_UNIDADE_ORÇAMENTARIA=17.102<br>EXERCÍCIO=%{x}<br>0=%{y}<extra></extra>",
         "legendgroup": "17.102",
         "line": {
          "color": "#636efa",
          "dash": "solid"
         },
         "marker": {
          "symbol": "circle"
         },
         "mode": "lines",
         "name": "17.102",
         "orientation": "v",
         "showlegend": true,
         "type": "scatter",
         "x": [
          2014,
          2015,
          2016,
          2018,
          2019,
          2020,
          2021,
          2022,
          2023
         ],
         "xaxis": "x",
         "y": [
          11,
          3,
          8,
          1,
          5,
          2,
          4,
          15,
          2
         ],
         "yaxis": "y"
        },
        {
         "hovertemplate": "COD_UNIDADE_ORÇAMENTARIA=18.101<br>EXERCÍCIO=%{x}<br>0=%{y}<extra></extra>",
         "legendgroup": "18.101",
         "line": {
          "color": "#EF553B",
          "dash": "solid"
         },
         "marker": {
          "symbol": "circle"
         },
         "mode": "lines",
         "name": "18.101",
         "orientation": "v",
         "showlegend": true,
         "type": "scatter",
         "x": [
          2014,
          2015,
          2016,
          2017,
          2018,
          2019,
          2020,
          2021,
          2022,
          2023
         ],
         "xaxis": "x",
         "y": [
          6,
          45,
          20,
          10,
          11,
          12,
          3,
          2,
          6,
          1
         ],
         "yaxis": "y"
        },
        {
         "hovertemplate": "COD_UNIDADE_ORÇAMENTARIA=18.201<br>EXERCÍCIO=%{x}<br>0=%{y}<extra></extra>",
         "legendgroup": "18.201",
         "line": {
          "color": "#00cc96",
          "dash": "solid"
         },
         "marker": {
          "symbol": "circle"
         },
         "mode": "lines",
         "name": "18.201",
         "orientation": "v",
         "showlegend": true,
         "type": "scatter",
         "x": [
          2014
         ],
         "xaxis": "x",
         "y": [
          2
         ],
         "yaxis": "y"
        },
        {
         "hovertemplate": "COD_UNIDADE_ORÇAMENTARIA=18.202<br>EXERCÍCIO=%{x}<br>0=%{y}<extra></extra>",
         "legendgroup": "18.202",
         "line": {
          "color": "#ab63fa",
          "dash": "solid"
         },
         "marker": {
          "symbol": "circle"
         },
         "mode": "lines",
         "name": "18.202",
         "orientation": "v",
         "showlegend": true,
         "type": "scatter",
         "x": [
          2014,
          2015,
          2016,
          2017,
          2018,
          2019,
          2020,
          2023
         ],
         "xaxis": "x",
         "y": [
          13,
          14,
          7,
          6,
          5,
          9,
          1,
          1
         ],
         "yaxis": "y"
        },
        {
         "hovertemplate": "COD_UNIDADE_ORÇAMENTARIA=18.203<br>EXERCÍCIO=%{x}<br>0=%{y}<extra></extra>",
         "legendgroup": "18.203",
         "line": {
          "color": "#FFA15A",
          "dash": "solid"
         },
         "marker": {
          "symbol": "circle"
         },
         "mode": "lines",
         "name": "18.203",
         "orientation": "v",
         "showlegend": true,
         "type": "scatter",
         "x": [
          2014,
          2015,
          2018,
          2019
         ],
         "xaxis": "x",
         "y": [
          1,
          2,
          4,
          1
         ],
         "yaxis": "y"
        },
        {
         "hovertemplate": "COD_UNIDADE_ORÇAMENTARIA=19.101<br>EXERCÍCIO=%{x}<br>0=%{y}<extra></extra>",
         "legendgroup": "19.101",
         "line": {
          "color": "#19d3f3",
          "dash": "solid"
         },
         "marker": {
          "symbol": "circle"
         },
         "mode": "lines",
         "name": "19.101",
         "orientation": "v",
         "showlegend": true,
         "type": "scatter",
         "x": [
          2014,
          2015,
          2016,
          2017,
          2018,
          2019,
          2020,
          2022,
          2023
         ],
         "xaxis": "x",
         "y": [
          8,
          11,
          12,
          18,
          16,
          33,
          3,
          1,
          2
         ],
         "yaxis": "y"
        },
        {
         "hovertemplate": "COD_UNIDADE_ORÇAMENTARIA=19.201<br>EXERCÍCIO=%{x}<br>0=%{y}<extra></extra>",
         "legendgroup": "19.201",
         "line": {
          "color": "#FF6692",
          "dash": "solid"
         },
         "marker": {
          "symbol": "circle"
         },
         "mode": "lines",
         "name": "19.201",
         "orientation": "v",
         "showlegend": true,
         "type": "scatter",
         "x": [
          2014,
          2015,
          2016,
          2017,
          2018,
          2019,
          2020,
          2021,
          2022,
          2023
         ],
         "xaxis": "x",
         "y": [
          2,
          6,
          4,
          4,
          9,
          14,
          1,
          1,
          5,
          2
         ],
         "yaxis": "y"
        },
        {
         "hovertemplate": "COD_UNIDADE_ORÇAMENTARIA=19.203<br>EXERCÍCIO=%{x}<br>0=%{y}<extra></extra>",
         "legendgroup": "19.203",
         "line": {
          "color": "#B6E880",
          "dash": "solid"
         },
         "marker": {
          "symbol": "circle"
         },
         "mode": "lines",
         "name": "19.203",
         "orientation": "v",
         "showlegend": true,
         "type": "scatter",
         "x": [
          2014,
          2015,
          2016,
          2017,
          2018,
          2019,
          2020,
          2021,
          2022,
          2023
         ],
         "xaxis": "x",
         "y": [
          836,
          552,
          761,
          1000,
          903,
          537,
          398,
          218,
          105,
          25
         ],
         "yaxis": "y"
        },
        {
         "hovertemplate": "COD_UNIDADE_ORÇAMENTARIA=23.101<br>EXERCÍCIO=%{x}<br>0=%{y}<extra></extra>",
         "legendgroup": "23.101",
         "line": {
          "color": "#FF97FF",
          "dash": "solid"
         },
         "marker": {
          "symbol": "circle"
         },
         "mode": "lines",
         "name": "23.101",
         "orientation": "v",
         "showlegend": true,
         "type": "scatter",
         "x": [
          2014,
          2015,
          2016,
          2017,
          2019,
          2022,
          2023
         ],
         "xaxis": "x",
         "y": [
          106,
          75,
          8,
          7,
          18,
          3,
          2
         ],
         "yaxis": "y"
        },
        {
         "hovertemplate": "COD_UNIDADE_ORÇAMENTARIA=24.901<br>EXERCÍCIO=%{x}<br>0=%{y}<extra></extra>",
         "legendgroup": "24.901",
         "line": {
          "color": "#FECB52",
          "dash": "solid"
         },
         "marker": {
          "symbol": "circle"
         },
         "mode": "lines",
         "name": "24.901",
         "orientation": "v",
         "showlegend": true,
         "type": "scatter",
         "x": [
          2014,
          2015,
          2016,
          2017,
          2018,
          2019,
          2020,
          2021,
          2022,
          2023
         ],
         "xaxis": "x",
         "y": [
          43,
          107,
          70,
          45,
          34,
          47,
          5,
          4,
          34,
          11
         ],
         "yaxis": "y"
        },
        {
         "hovertemplate": "COD_UNIDADE_ORÇAMENTARIA=25.201<br>EXERCÍCIO=%{x}<br>0=%{y}<extra></extra>",
         "legendgroup": "25.201",
         "line": {
          "color": "#636efa",
          "dash": "solid"
         },
         "marker": {
          "symbol": "circle"
         },
         "mode": "lines",
         "name": "25.201",
         "orientation": "v",
         "showlegend": true,
         "type": "scatter",
         "x": [
          2014,
          2016,
          2017,
          2018,
          2019
         ],
         "xaxis": "x",
         "y": [
          3,
          6,
          2,
          2,
          2
         ],
         "yaxis": "y"
        },
        {
         "hovertemplate": "COD_UNIDADE_ORÇAMENTARIA=25.901<br>EXERCÍCIO=%{x}<br>0=%{y}<extra></extra>",
         "legendgroup": "25.901",
         "line": {
          "color": "#EF553B",
          "dash": "solid"
         },
         "marker": {
          "symbol": "circle"
         },
         "mode": "lines",
         "name": "25.901",
         "orientation": "v",
         "showlegend": true,
         "type": "scatter",
         "x": [
          2014,
          2015,
          2016,
          2017,
          2018,
          2019,
          2020,
          2021,
          2022,
          2023
         ],
         "xaxis": "x",
         "y": [
          26,
          23,
          13,
          28,
          42,
          34,
          5,
          6,
          10,
          6
         ],
         "yaxis": "y"
        },
        {
         "hovertemplate": "COD_UNIDADE_ORÇAMENTARIA=26.101<br>EXERCÍCIO=%{x}<br>0=%{y}<extra></extra>",
         "legendgroup": "26.101",
         "line": {
          "color": "#00cc96",
          "dash": "solid"
         },
         "marker": {
          "symbol": "circle"
         },
         "mode": "lines",
         "name": "26.101",
         "orientation": "v",
         "showlegend": true,
         "type": "scatter",
         "x": [
          2014,
          2015,
          2016,
          2017,
          2018,
          2019,
          2022,
          2023
         ],
         "xaxis": "x",
         "y": [
          12,
          16,
          4,
          9,
          6,
          8,
          1,
          4
         ],
         "yaxis": "y"
        },
        {
         "hovertemplate": "COD_UNIDADE_ORÇAMENTARIA=27.101<br>EXERCÍCIO=%{x}<br>0=%{y}<extra></extra>",
         "legendgroup": "27.101",
         "line": {
          "color": "#ab63fa",
          "dash": "solid"
         },
         "marker": {
          "symbol": "circle"
         },
         "mode": "lines",
         "name": "27.101",
         "orientation": "v",
         "showlegend": true,
         "type": "scatter",
         "x": [
          2014,
          2015,
          2016,
          2017,
          2018,
          2019,
          2020,
          2022
         ],
         "xaxis": "x",
         "y": [
          49,
          47,
          27,
          24,
          17,
          12,
          3,
          2
         ],
         "yaxis": "y"
        },
        {
         "hovertemplate": "COD_UNIDADE_ORÇAMENTARIA=28.101<br>EXERCÍCIO=%{x}<br>0=%{y}<extra></extra>",
         "legendgroup": "28.101",
         "line": {
          "color": "#FFA15A",
          "dash": "solid"
         },
         "marker": {
          "symbol": "circle"
         },
         "mode": "lines",
         "name": "28.101",
         "orientation": "v",
         "showlegend": true,
         "type": "scatter",
         "x": [
          2014,
          2015,
          2016,
          2017,
          2018,
          2019,
          2020,
          2022
         ],
         "xaxis": "x",
         "y": [
          24,
          21,
          19,
          14,
          5,
          5,
          1,
          1
         ],
         "yaxis": "y"
        },
        {
         "hovertemplate": "COD_UNIDADE_ORÇAMENTARIA=28.901<br>EXERCÍCIO=%{x}<br>0=%{y}<extra></extra>",
         "legendgroup": "28.901",
         "line": {
          "color": "#19d3f3",
          "dash": "solid"
         },
         "marker": {
          "symbol": "circle"
         },
         "mode": "lines",
         "name": "28.901",
         "orientation": "v",
         "showlegend": true,
         "type": "scatter",
         "x": [
          2014,
          2015,
          2016,
          2017,
          2018,
          2019,
          2022,
          2023
         ],
         "xaxis": "x",
         "y": [
          10,
          22,
          17,
          8,
          4,
          3,
          1,
          1
         ],
         "yaxis": "y"
        },
        {
         "hovertemplate": "COD_UNIDADE_ORÇAMENTARIA=29.101<br>EXERCÍCIO=%{x}<br>0=%{y}<extra></extra>",
         "legendgroup": "29.101",
         "line": {
          "color": "#FF6692",
          "dash": "solid"
         },
         "marker": {
          "symbol": "circle"
         },
         "mode": "lines",
         "name": "29.101",
         "orientation": "v",
         "showlegend": true,
         "type": "scatter",
         "x": [
          2014,
          2015,
          2016,
          2017,
          2019
         ],
         "xaxis": "x",
         "y": [
          9,
          5,
          3,
          3,
          7
         ],
         "yaxis": "y"
        },
        {
         "hovertemplate": "COD_UNIDADE_ORÇAMENTARIA=30.101<br>EXERCÍCIO=%{x}<br>0=%{y}<extra></extra>",
         "legendgroup": "30.101",
         "line": {
          "color": "#B6E880",
          "dash": "solid"
         },
         "marker": {
          "symbol": "circle"
         },
         "mode": "lines",
         "name": "30.101",
         "orientation": "v",
         "showlegend": true,
         "type": "scatter",
         "x": [
          2014,
          2015,
          2016,
          2017,
          2018,
          2019,
          2020,
          2021,
          2022,
          2023
         ],
         "xaxis": "x",
         "y": [
          29,
          30,
          23,
          20,
          15,
          41,
          5,
          15,
          23,
          32
         ],
         "yaxis": "y"
        },
        {
         "hovertemplate": "COD_UNIDADE_ORÇAMENTARIA=31.101<br>EXERCÍCIO=%{x}<br>0=%{y}<extra></extra>",
         "legendgroup": "31.101",
         "line": {
          "color": "#FF97FF",
          "dash": "solid"
         },
         "marker": {
          "symbol": "circle"
         },
         "mode": "lines",
         "name": "31.101",
         "orientation": "v",
         "showlegend": true,
         "type": "scatter",
         "x": [
          2014,
          2015,
          2016,
          2017,
          2018,
          2019,
          2020,
          2022,
          2023
         ],
         "xaxis": "x",
         "y": [
          16,
          41,
          18,
          3,
          9,
          14,
          3,
          7,
          1
         ],
         "yaxis": "y"
        },
        {
         "hovertemplate": "COD_UNIDADE_ORÇAMENTARIA=31.901<br>EXERCÍCIO=%{x}<br>0=%{y}<extra></extra>",
         "legendgroup": "31.901",
         "line": {
          "color": "#FECB52",
          "dash": "solid"
         },
         "marker": {
          "symbol": "circle"
         },
         "mode": "lines",
         "name": "31.901",
         "orientation": "v",
         "showlegend": true,
         "type": "scatter",
         "x": [
          2014,
          2015,
          2016,
          2017,
          2018,
          2019,
          2020,
          2023
         ],
         "xaxis": "x",
         "y": [
          1,
          11,
          4,
          10,
          15,
          9,
          1,
          1
         ],
         "yaxis": "y"
        },
        {
         "hovertemplate": "COD_UNIDADE_ORÇAMENTARIA=32.101<br>EXERCÍCIO=%{x}<br>0=%{y}<extra></extra>",
         "legendgroup": "32.101",
         "line": {
          "color": "#636efa",
          "dash": "solid"
         },
         "marker": {
          "symbol": "circle"
         },
         "mode": "lines",
         "name": "32.101",
         "orientation": "v",
         "showlegend": true,
         "type": "scatter",
         "x": [
          2014,
          2015,
          2016,
          2017,
          2018,
          2019,
          2020,
          2021,
          2023
         ],
         "xaxis": "x",
         "y": [
          13,
          11,
          7,
          7,
          7,
          15,
          4,
          2,
          2
         ],
         "yaxis": "y"
        },
        {
         "hovertemplate": "COD_UNIDADE_ORÇAMENTARIA=35.101<br>EXERCÍCIO=%{x}<br>0=%{y}<extra></extra>",
         "legendgroup": "35.101",
         "line": {
          "color": "#EF553B",
          "dash": "solid"
         },
         "marker": {
          "symbol": "circle"
         },
         "mode": "lines",
         "name": "35.101",
         "orientation": "v",
         "showlegend": true,
         "type": "scatter",
         "x": [
          2014,
          2015,
          2016,
          2017
         ],
         "xaxis": "x",
         "y": [
          11,
          12,
          5,
          1
         ],
         "yaxis": "y"
        },
        {
         "hovertemplate": "COD_UNIDADE_ORÇAMENTARIA=35.201<br>EXERCÍCIO=%{x}<br>0=%{y}<extra></extra>",
         "legendgroup": "35.201",
         "line": {
          "color": "#00cc96",
          "dash": "solid"
         },
         "marker": {
          "symbol": "circle"
         },
         "mode": "lines",
         "name": "35.201",
         "orientation": "v",
         "showlegend": true,
         "type": "scatter",
         "x": [
          2014
         ],
         "xaxis": "x",
         "y": [
          4
         ],
         "yaxis": "y"
        },
        {
         "hovertemplate": "COD_UNIDADE_ORÇAMENTARIA=52.101<br>EXERCÍCIO=%{x}<br>0=%{y}<extra></extra>",
         "legendgroup": "52.101",
         "line": {
          "color": "#ab63fa",
          "dash": "solid"
         },
         "marker": {
          "symbol": "circle"
         },
         "mode": "lines",
         "name": "52.101",
         "orientation": "v",
         "showlegend": true,
         "type": "scatter",
         "x": [
          2014
         ],
         "xaxis": "x",
         "y": [
          20
         ],
         "yaxis": "y"
        },
        {
         "hovertemplate": "COD_UNIDADE_ORÇAMENTARIA=11.204<br>EXERCÍCIO=%{x}<br>0=%{y}<extra></extra>",
         "legendgroup": "11.204",
         "line": {
          "color": "#FFA15A",
          "dash": "solid"
         },
         "marker": {
          "symbol": "circle"
         },
         "mode": "lines",
         "name": "11.204",
         "orientation": "v",
         "showlegend": true,
         "type": "scatter",
         "x": [
          2015,
          2016,
          2017,
          2018,
          2019,
          2022
         ],
         "xaxis": "x",
         "y": [
          4,
          7,
          3,
          16,
          19,
          18
         ],
         "yaxis": "y"
        },
        {
         "hovertemplate": "COD_UNIDADE_ORÇAMENTARIA=11.205<br>EXERCÍCIO=%{x}<br>0=%{y}<extra></extra>",
         "legendgroup": "11.205",
         "line": {
          "color": "#19d3f3",
          "dash": "solid"
         },
         "marker": {
          "symbol": "circle"
         },
         "mode": "lines",
         "name": "11.205",
         "orientation": "v",
         "showlegend": true,
         "type": "scatter",
         "x": [
          2015,
          2016,
          2017,
          2018,
          2019,
          2022,
          2023
         ],
         "xaxis": "x",
         "y": [
          3,
          4,
          9,
          11,
          11,
          16,
          7
         ],
         "yaxis": "y"
        },
        {
         "hovertemplate": "COD_UNIDADE_ORÇAMENTARIA=14.101<br>EXERCÍCIO=%{x}<br>0=%{y}<extra></extra>",
         "legendgroup": "14.101",
         "line": {
          "color": "#FF6692",
          "dash": "solid"
         },
         "marker": {
          "symbol": "circle"
         },
         "mode": "lines",
         "name": "14.101",
         "orientation": "v",
         "showlegend": true,
         "type": "scatter",
         "x": [
          2015,
          2016,
          2017,
          2018,
          2019,
          2020,
          2021,
          2022,
          2023
         ],
         "xaxis": "x",
         "y": [
          14,
          4,
          5,
          1,
          5,
          2,
          2,
          3,
          2
         ],
         "yaxis": "y"
        },
        {
         "hovertemplate": "COD_UNIDADE_ORÇAMENTARIA=31.201<br>EXERCÍCIO=%{x}<br>0=%{y}<extra></extra>",
         "legendgroup": "31.201",
         "line": {
          "color": "#B6E880",
          "dash": "solid"
         },
         "marker": {
          "symbol": "circle"
         },
         "mode": "lines",
         "name": "31.201",
         "orientation": "v",
         "showlegend": true,
         "type": "scatter",
         "x": [
          2015,
          2016,
          2017,
          2018,
          2019,
          2020,
          2021,
          2022,
          2023
         ],
         "xaxis": "x",
         "y": [
          12,
          5,
          19,
          19,
          14,
          1,
          7,
          12,
          2
         ],
         "yaxis": "y"
        },
        {
         "hovertemplate": "COD_UNIDADE_ORÇAMENTARIA=34.101<br>EXERCÍCIO=%{x}<br>0=%{y}<extra></extra>",
         "legendgroup": "34.101",
         "line": {
          "color": "#FF97FF",
          "dash": "solid"
         },
         "marker": {
          "symbol": "circle"
         },
         "mode": "lines",
         "name": "34.101",
         "orientation": "v",
         "showlegend": true,
         "type": "scatter",
         "x": [
          2015,
          2016,
          2017,
          2018,
          2019,
          2020,
          2022,
          2023
         ],
         "xaxis": "x",
         "y": [
          12,
          19,
          11,
          12,
          20,
          3,
          3,
          1
         ],
         "yaxis": "y"
        },
        {
         "hovertemplate": "COD_UNIDADE_ORÇAMENTARIA=35.102<br>EXERCÍCIO=%{x}<br>0=%{y}<extra></extra>",
         "legendgroup": "35.102",
         "line": {
          "color": "#FECB52",
          "dash": "solid"
         },
         "marker": {
          "symbol": "circle"
         },
         "mode": "lines",
         "name": "35.102",
         "orientation": "v",
         "showlegend": true,
         "type": "scatter",
         "x": [
          2015,
          2016,
          2017
         ],
         "xaxis": "x",
         "y": [
          3,
          5,
          2
         ],
         "yaxis": "y"
        },
        {
         "hovertemplate": "COD_UNIDADE_ORÇAMENTARIA=44.101<br>EXERCÍCIO=%{x}<br>0=%{y}<extra></extra>",
         "legendgroup": "44.101",
         "line": {
          "color": "#636efa",
          "dash": "solid"
         },
         "marker": {
          "symbol": "circle"
         },
         "mode": "lines",
         "name": "44.101",
         "orientation": "v",
         "showlegend": true,
         "type": "scatter",
         "x": [
          2015,
          2016
         ],
         "xaxis": "x",
         "y": [
          2,
          5
         ],
         "yaxis": "y"
        },
        {
         "hovertemplate": "COD_UNIDADE_ORÇAMENTARIA=23.901<br>EXERCÍCIO=%{x}<br>0=%{y}<extra></extra>",
         "legendgroup": "23.901",
         "line": {
          "color": "#EF553B",
          "dash": "solid"
         },
         "marker": {
          "symbol": "circle"
         },
         "mode": "lines",
         "name": "23.901",
         "orientation": "v",
         "showlegend": true,
         "type": "scatter",
         "x": [
          2016,
          2017,
          2018,
          2019,
          2020,
          2021,
          2022,
          2023
         ],
         "xaxis": "x",
         "y": [
          72,
          89,
          117,
          106,
          5,
          21,
          30,
          19
         ],
         "yaxis": "y"
        },
        {
         "hovertemplate": "COD_UNIDADE_ORÇAMENTARIA=45.101<br>EXERCÍCIO=%{x}<br>0=%{y}<extra></extra>",
         "legendgroup": "45.101",
         "line": {
          "color": "#00cc96",
          "dash": "solid"
         },
         "marker": {
          "symbol": "circle"
         },
         "mode": "lines",
         "name": "45.101",
         "orientation": "v",
         "showlegend": true,
         "type": "scatter",
         "x": [
          2016
         ],
         "xaxis": "x",
         "y": [
          1
         ],
         "yaxis": "y"
        },
        {
         "hovertemplate": "COD_UNIDADE_ORÇAMENTARIA=12.101<br>EXERCÍCIO=%{x}<br>0=%{y}<extra></extra>",
         "legendgroup": "12.101",
         "line": {
          "color": "#ab63fa",
          "dash": "solid"
         },
         "marker": {
          "symbol": "circle"
         },
         "mode": "lines",
         "name": "12.101",
         "orientation": "v",
         "showlegend": true,
         "type": "scatter",
         "x": [
          2017,
          2018,
          2019,
          2020,
          2021,
          2022,
          2023
         ],
         "xaxis": "x",
         "y": [
          8,
          19,
          10,
          1,
          8,
          33,
          22
         ],
         "yaxis": "y"
        },
        {
         "hovertemplate": "COD_UNIDADE_ORÇAMENTARIA=19.206<br>EXERCÍCIO=%{x}<br>0=%{y}<extra></extra>",
         "legendgroup": "19.206",
         "line": {
          "color": "#FFA15A",
          "dash": "solid"
         },
         "marker": {
          "symbol": "circle"
         },
         "mode": "lines",
         "name": "19.206",
         "orientation": "v",
         "showlegend": true,
         "type": "scatter",
         "x": [
          2017,
          2018,
          2019
         ],
         "xaxis": "x",
         "y": [
          3,
          1,
          1
         ],
         "yaxis": "y"
        },
        {
         "hovertemplate": "COD_UNIDADE_ORÇAMENTARIA=28.902<br>EXERCÍCIO=%{x}<br>0=%{y}<extra></extra>",
         "legendgroup": "28.902",
         "line": {
          "color": "#19d3f3",
          "dash": "solid"
         },
         "marker": {
          "symbol": "circle"
         },
         "mode": "lines",
         "name": "28.902",
         "orientation": "v",
         "showlegend": true,
         "type": "scatter",
         "x": [
          2017,
          2018,
          2019,
          2020,
          2021,
          2022,
          2023
         ],
         "xaxis": "x",
         "y": [
          9,
          24,
          32,
          1,
          2,
          2,
          2
         ],
         "yaxis": "y"
        },
        {
         "hovertemplate": "COD_UNIDADE_ORÇAMENTARIA=41.101<br>EXERCÍCIO=%{x}<br>0=%{y}<extra></extra>",
         "legendgroup": "41.101",
         "line": {
          "color": "#FF6692",
          "dash": "solid"
         },
         "marker": {
          "symbol": "circle"
         },
         "mode": "lines",
         "name": "41.101",
         "orientation": "v",
         "showlegend": true,
         "type": "scatter",
         "x": [
          2017
         ],
         "xaxis": "x",
         "y": [
          1
         ],
         "yaxis": "y"
        },
        {
         "hovertemplate": "COD_UNIDADE_ORÇAMENTARIA=18.102<br>EXERCÍCIO=%{x}<br>0=%{y}<extra></extra>",
         "legendgroup": "18.102",
         "line": {
          "color": "#B6E880",
          "dash": "solid"
         },
         "marker": {
          "symbol": "circle"
         },
         "mode": "lines",
         "name": "18.102",
         "orientation": "v",
         "showlegend": true,
         "type": "scatter",
         "x": [
          2018,
          2019,
          2021
         ],
         "xaxis": "x",
         "y": [
          5,
          2,
          2
         ],
         "yaxis": "y"
        },
        {
         "hovertemplate": "COD_UNIDADE_ORÇAMENTARIA=31.102<br>EXERCÍCIO=%{x}<br>0=%{y}<extra></extra>",
         "legendgroup": "31.102",
         "line": {
          "color": "#FF97FF",
          "dash": "solid"
         },
         "marker": {
          "symbol": "circle"
         },
         "mode": "lines",
         "name": "31.102",
         "orientation": "v",
         "showlegend": true,
         "type": "scatter",
         "x": [
          2019
         ],
         "xaxis": "x",
         "y": [
          2
         ],
         "yaxis": "y"
        },
        {
         "hovertemplate": "COD_UNIDADE_ORÇAMENTARIA=42.101<br>EXERCÍCIO=%{x}<br>0=%{y}<extra></extra>",
         "legendgroup": "42.101",
         "line": {
          "color": "#FECB52",
          "dash": "solid"
         },
         "marker": {
          "symbol": "circle"
         },
         "mode": "lines",
         "name": "42.101",
         "orientation": "v",
         "showlegend": true,
         "type": "scatter",
         "x": [
          2019,
          2020
         ],
         "xaxis": "x",
         "y": [
          2,
          1
         ],
         "yaxis": "y"
        },
        {
         "hovertemplate": "COD_UNIDADE_ORÇAMENTARIA=13.102<br>EXERCÍCIO=%{x}<br>0=%{y}<extra></extra>",
         "legendgroup": "13.102",
         "line": {
          "color": "#636efa",
          "dash": "solid"
         },
         "marker": {
          "symbol": "circle"
         },
         "mode": "lines",
         "name": "13.102",
         "orientation": "v",
         "showlegend": true,
         "type": "scatter",
         "x": [
          2022
         ],
         "xaxis": "x",
         "y": [
          1
         ],
         "yaxis": "y"
        },
        {
         "hovertemplate": "COD_UNIDADE_ORÇAMENTARIA=31.905<br>EXERCÍCIO=%{x}<br>0=%{y}<extra></extra>",
         "legendgroup": "31.905",
         "line": {
          "color": "#EF553B",
          "dash": "solid"
         },
         "marker": {
          "symbol": "circle"
         },
         "mode": "lines",
         "name": "31.905",
         "orientation": "v",
         "showlegend": true,
         "type": "scatter",
         "x": [
          2022,
          2023
         ],
         "xaxis": "x",
         "y": [
          6,
          1
         ],
         "yaxis": "y"
        },
        {
         "hovertemplate": "COD_UNIDADE_ORÇAMENTARIA=33.101<br>EXERCÍCIO=%{x}<br>0=%{y}<extra></extra>",
         "legendgroup": "33.101",
         "line": {
          "color": "#00cc96",
          "dash": "solid"
         },
         "marker": {
          "symbol": "circle"
         },
         "mode": "lines",
         "name": "33.101",
         "orientation": "v",
         "showlegend": true,
         "type": "scatter",
         "x": [
          2022,
          2023
         ],
         "xaxis": "x",
         "y": [
          3,
          1
         ],
         "yaxis": "y"
        }
       ],
       "layout": {
        "legend": {
         "title": {
          "text": "COD_UNIDADE_ORÇAMENTARIA"
         },
         "tracegroupgap": 0
        },
        "margin": {
         "t": 60
        },
        "template": {
         "data": {
          "bar": [
           {
            "error_x": {
             "color": "#2a3f5f"
            },
            "error_y": {
             "color": "#2a3f5f"
            },
            "marker": {
             "line": {
              "color": "#E5ECF6",
              "width": 0.5
             },
             "pattern": {
              "fillmode": "overlay",
              "size": 10,
              "solidity": 0.2
             }
            },
            "type": "bar"
           }
          ],
          "barpolar": [
           {
            "marker": {
             "line": {
              "color": "#E5ECF6",
              "width": 0.5
             },
             "pattern": {
              "fillmode": "overlay",
              "size": 10,
              "solidity": 0.2
             }
            },
            "type": "barpolar"
           }
          ],
          "carpet": [
           {
            "aaxis": {
             "endlinecolor": "#2a3f5f",
             "gridcolor": "white",
             "linecolor": "white",
             "minorgridcolor": "white",
             "startlinecolor": "#2a3f5f"
            },
            "baxis": {
             "endlinecolor": "#2a3f5f",
             "gridcolor": "white",
             "linecolor": "white",
             "minorgridcolor": "white",
             "startlinecolor": "#2a3f5f"
            },
            "type": "carpet"
           }
          ],
          "choropleth": [
           {
            "colorbar": {
             "outlinewidth": 0,
             "ticks": ""
            },
            "type": "choropleth"
           }
          ],
          "contour": [
           {
            "colorbar": {
             "outlinewidth": 0,
             "ticks": ""
            },
            "colorscale": [
             [
              0,
              "#0d0887"
             ],
             [
              0.1111111111111111,
              "#46039f"
             ],
             [
              0.2222222222222222,
              "#7201a8"
             ],
             [
              0.3333333333333333,
              "#9c179e"
             ],
             [
              0.4444444444444444,
              "#bd3786"
             ],
             [
              0.5555555555555556,
              "#d8576b"
             ],
             [
              0.6666666666666666,
              "#ed7953"
             ],
             [
              0.7777777777777778,
              "#fb9f3a"
             ],
             [
              0.8888888888888888,
              "#fdca26"
             ],
             [
              1,
              "#f0f921"
             ]
            ],
            "type": "contour"
           }
          ],
          "contourcarpet": [
           {
            "colorbar": {
             "outlinewidth": 0,
             "ticks": ""
            },
            "type": "contourcarpet"
           }
          ],
          "heatmap": [
           {
            "colorbar": {
             "outlinewidth": 0,
             "ticks": ""
            },
            "colorscale": [
             [
              0,
              "#0d0887"
             ],
             [
              0.1111111111111111,
              "#46039f"
             ],
             [
              0.2222222222222222,
              "#7201a8"
             ],
             [
              0.3333333333333333,
              "#9c179e"
             ],
             [
              0.4444444444444444,
              "#bd3786"
             ],
             [
              0.5555555555555556,
              "#d8576b"
             ],
             [
              0.6666666666666666,
              "#ed7953"
             ],
             [
              0.7777777777777778,
              "#fb9f3a"
             ],
             [
              0.8888888888888888,
              "#fdca26"
             ],
             [
              1,
              "#f0f921"
             ]
            ],
            "type": "heatmap"
           }
          ],
          "heatmapgl": [
           {
            "colorbar": {
             "outlinewidth": 0,
             "ticks": ""
            },
            "colorscale": [
             [
              0,
              "#0d0887"
             ],
             [
              0.1111111111111111,
              "#46039f"
             ],
             [
              0.2222222222222222,
              "#7201a8"
             ],
             [
              0.3333333333333333,
              "#9c179e"
             ],
             [
              0.4444444444444444,
              "#bd3786"
             ],
             [
              0.5555555555555556,
              "#d8576b"
             ],
             [
              0.6666666666666666,
              "#ed7953"
             ],
             [
              0.7777777777777778,
              "#fb9f3a"
             ],
             [
              0.8888888888888888,
              "#fdca26"
             ],
             [
              1,
              "#f0f921"
             ]
            ],
            "type": "heatmapgl"
           }
          ],
          "histogram": [
           {
            "marker": {
             "pattern": {
              "fillmode": "overlay",
              "size": 10,
              "solidity": 0.2
             }
            },
            "type": "histogram"
           }
          ],
          "histogram2d": [
           {
            "colorbar": {
             "outlinewidth": 0,
             "ticks": ""
            },
            "colorscale": [
             [
              0,
              "#0d0887"
             ],
             [
              0.1111111111111111,
              "#46039f"
             ],
             [
              0.2222222222222222,
              "#7201a8"
             ],
             [
              0.3333333333333333,
              "#9c179e"
             ],
             [
              0.4444444444444444,
              "#bd3786"
             ],
             [
              0.5555555555555556,
              "#d8576b"
             ],
             [
              0.6666666666666666,
              "#ed7953"
             ],
             [
              0.7777777777777778,
              "#fb9f3a"
             ],
             [
              0.8888888888888888,
              "#fdca26"
             ],
             [
              1,
              "#f0f921"
             ]
            ],
            "type": "histogram2d"
           }
          ],
          "histogram2dcontour": [
           {
            "colorbar": {
             "outlinewidth": 0,
             "ticks": ""
            },
            "colorscale": [
             [
              0,
              "#0d0887"
             ],
             [
              0.1111111111111111,
              "#46039f"
             ],
             [
              0.2222222222222222,
              "#7201a8"
             ],
             [
              0.3333333333333333,
              "#9c179e"
             ],
             [
              0.4444444444444444,
              "#bd3786"
             ],
             [
              0.5555555555555556,
              "#d8576b"
             ],
             [
              0.6666666666666666,
              "#ed7953"
             ],
             [
              0.7777777777777778,
              "#fb9f3a"
             ],
             [
              0.8888888888888888,
              "#fdca26"
             ],
             [
              1,
              "#f0f921"
             ]
            ],
            "type": "histogram2dcontour"
           }
          ],
          "mesh3d": [
           {
            "colorbar": {
             "outlinewidth": 0,
             "ticks": ""
            },
            "type": "mesh3d"
           }
          ],
          "parcoords": [
           {
            "line": {
             "colorbar": {
              "outlinewidth": 0,
              "ticks": ""
             }
            },
            "type": "parcoords"
           }
          ],
          "pie": [
           {
            "automargin": true,
            "type": "pie"
           }
          ],
          "scatter": [
           {
            "marker": {
             "colorbar": {
              "outlinewidth": 0,
              "ticks": ""
             }
            },
            "type": "scatter"
           }
          ],
          "scatter3d": [
           {
            "line": {
             "colorbar": {
              "outlinewidth": 0,
              "ticks": ""
             }
            },
            "marker": {
             "colorbar": {
              "outlinewidth": 0,
              "ticks": ""
             }
            },
            "type": "scatter3d"
           }
          ],
          "scattercarpet": [
           {
            "marker": {
             "colorbar": {
              "outlinewidth": 0,
              "ticks": ""
             }
            },
            "type": "scattercarpet"
           }
          ],
          "scattergeo": [
           {
            "marker": {
             "colorbar": {
              "outlinewidth": 0,
              "ticks": ""
             }
            },
            "type": "scattergeo"
           }
          ],
          "scattergl": [
           {
            "marker": {
             "colorbar": {
              "outlinewidth": 0,
              "ticks": ""
             }
            },
            "type": "scattergl"
           }
          ],
          "scattermapbox": [
           {
            "marker": {
             "colorbar": {
              "outlinewidth": 0,
              "ticks": ""
             }
            },
            "type": "scattermapbox"
           }
          ],
          "scatterpolar": [
           {
            "marker": {
             "colorbar": {
              "outlinewidth": 0,
              "ticks": ""
             }
            },
            "type": "scatterpolar"
           }
          ],
          "scatterpolargl": [
           {
            "marker": {
             "colorbar": {
              "outlinewidth": 0,
              "ticks": ""
             }
            },
            "type": "scatterpolargl"
           }
          ],
          "scatterternary": [
           {
            "marker": {
             "colorbar": {
              "outlinewidth": 0,
              "ticks": ""
             }
            },
            "type": "scatterternary"
           }
          ],
          "surface": [
           {
            "colorbar": {
             "outlinewidth": 0,
             "ticks": ""
            },
            "colorscale": [
             [
              0,
              "#0d0887"
             ],
             [
              0.1111111111111111,
              "#46039f"
             ],
             [
              0.2222222222222222,
              "#7201a8"
             ],
             [
              0.3333333333333333,
              "#9c179e"
             ],
             [
              0.4444444444444444,
              "#bd3786"
             ],
             [
              0.5555555555555556,
              "#d8576b"
             ],
             [
              0.6666666666666666,
              "#ed7953"
             ],
             [
              0.7777777777777778,
              "#fb9f3a"
             ],
             [
              0.8888888888888888,
              "#fdca26"
             ],
             [
              1,
              "#f0f921"
             ]
            ],
            "type": "surface"
           }
          ],
          "table": [
           {
            "cells": {
             "fill": {
              "color": "#EBF0F8"
             },
             "line": {
              "color": "white"
             }
            },
            "header": {
             "fill": {
              "color": "#C8D4E3"
             },
             "line": {
              "color": "white"
             }
            },
            "type": "table"
           }
          ]
         },
         "layout": {
          "annotationdefaults": {
           "arrowcolor": "#2a3f5f",
           "arrowhead": 0,
           "arrowwidth": 1
          },
          "autotypenumbers": "strict",
          "coloraxis": {
           "colorbar": {
            "outlinewidth": 0,
            "ticks": ""
           }
          },
          "colorscale": {
           "diverging": [
            [
             0,
             "#8e0152"
            ],
            [
             0.1,
             "#c51b7d"
            ],
            [
             0.2,
             "#de77ae"
            ],
            [
             0.3,
             "#f1b6da"
            ],
            [
             0.4,
             "#fde0ef"
            ],
            [
             0.5,
             "#f7f7f7"
            ],
            [
             0.6,
             "#e6f5d0"
            ],
            [
             0.7,
             "#b8e186"
            ],
            [
             0.8,
             "#7fbc41"
            ],
            [
             0.9,
             "#4d9221"
            ],
            [
             1,
             "#276419"
            ]
           ],
           "sequential": [
            [
             0,
             "#0d0887"
            ],
            [
             0.1111111111111111,
             "#46039f"
            ],
            [
             0.2222222222222222,
             "#7201a8"
            ],
            [
             0.3333333333333333,
             "#9c179e"
            ],
            [
             0.4444444444444444,
             "#bd3786"
            ],
            [
             0.5555555555555556,
             "#d8576b"
            ],
            [
             0.6666666666666666,
             "#ed7953"
            ],
            [
             0.7777777777777778,
             "#fb9f3a"
            ],
            [
             0.8888888888888888,
             "#fdca26"
            ],
            [
             1,
             "#f0f921"
            ]
           ],
           "sequentialminus": [
            [
             0,
             "#0d0887"
            ],
            [
             0.1111111111111111,
             "#46039f"
            ],
            [
             0.2222222222222222,
             "#7201a8"
            ],
            [
             0.3333333333333333,
             "#9c179e"
            ],
            [
             0.4444444444444444,
             "#bd3786"
            ],
            [
             0.5555555555555556,
             "#d8576b"
            ],
            [
             0.6666666666666666,
             "#ed7953"
            ],
            [
             0.7777777777777778,
             "#fb9f3a"
            ],
            [
             0.8888888888888888,
             "#fdca26"
            ],
            [
             1,
             "#f0f921"
            ]
           ]
          },
          "colorway": [
           "#636efa",
           "#EF553B",
           "#00cc96",
           "#ab63fa",
           "#FFA15A",
           "#19d3f3",
           "#FF6692",
           "#B6E880",
           "#FF97FF",
           "#FECB52"
          ],
          "font": {
           "color": "#2a3f5f"
          },
          "geo": {
           "bgcolor": "white",
           "lakecolor": "white",
           "landcolor": "#E5ECF6",
           "showlakes": true,
           "showland": true,
           "subunitcolor": "white"
          },
          "hoverlabel": {
           "align": "left"
          },
          "hovermode": "closest",
          "mapbox": {
           "style": "light"
          },
          "paper_bgcolor": "white",
          "plot_bgcolor": "#E5ECF6",
          "polar": {
           "angularaxis": {
            "gridcolor": "white",
            "linecolor": "white",
            "ticks": ""
           },
           "bgcolor": "#E5ECF6",
           "radialaxis": {
            "gridcolor": "white",
            "linecolor": "white",
            "ticks": ""
           }
          },
          "scene": {
           "xaxis": {
            "backgroundcolor": "#E5ECF6",
            "gridcolor": "white",
            "gridwidth": 2,
            "linecolor": "white",
            "showbackground": true,
            "ticks": "",
            "zerolinecolor": "white"
           },
           "yaxis": {
            "backgroundcolor": "#E5ECF6",
            "gridcolor": "white",
            "gridwidth": 2,
            "linecolor": "white",
            "showbackground": true,
            "ticks": "",
            "zerolinecolor": "white"
           },
           "zaxis": {
            "backgroundcolor": "#E5ECF6",
            "gridcolor": "white",
            "gridwidth": 2,
            "linecolor": "white",
            "showbackground": true,
            "ticks": "",
            "zerolinecolor": "white"
           }
          },
          "shapedefaults": {
           "line": {
            "color": "#2a3f5f"
           }
          },
          "ternary": {
           "aaxis": {
            "gridcolor": "white",
            "linecolor": "white",
            "ticks": ""
           },
           "baxis": {
            "gridcolor": "white",
            "linecolor": "white",
            "ticks": ""
           },
           "bgcolor": "#E5ECF6",
           "caxis": {
            "gridcolor": "white",
            "linecolor": "white",
            "ticks": ""
           }
          },
          "title": {
           "x": 0.05
          },
          "xaxis": {
           "automargin": true,
           "gridcolor": "white",
           "linecolor": "white",
           "ticks": "",
           "title": {
            "standoff": 15
           },
           "zerolinecolor": "white",
           "zerolinewidth": 2
          },
          "yaxis": {
           "automargin": true,
           "gridcolor": "white",
           "linecolor": "white",
           "ticks": "",
           "title": {
            "standoff": 15
           },
           "zerolinecolor": "white",
           "zerolinewidth": 2
          }
         }
        },
        "xaxis": {
         "anchor": "y",
         "domain": [
          0,
          1
         ],
         "title": {
          "text": "EXERCÍCIO"
         }
        },
        "yaxis": {
         "anchor": "x",
         "domain": [
          0,
          1
         ],
         "title": {
          "text": "0"
         }
        }
       }
      },
      "text/html": [
       "<div>                            <div id=\"1db0ab5d-5218-49ba-bd72-d7f550dfd677\" class=\"plotly-graph-div\" style=\"height:525px; width:100%;\"></div>            <script type=\"text/javascript\">                require([\"plotly\"], function(Plotly) {                    window.PLOTLYENV=window.PLOTLYENV || {};                                    if (document.getElementById(\"1db0ab5d-5218-49ba-bd72-d7f550dfd677\")) {                    Plotly.newPlot(                        \"1db0ab5d-5218-49ba-bd72-d7f550dfd677\",                        [{\"hovertemplate\":\"COD_UNIDADE_OR\\u00c7AMENTARIA=01.101<br>EXERC\\u00cdCIO=%{x}<br>0=%{y}<extra></extra>\",\"legendgroup\":\"01.101\",\"line\":{\"color\":\"#636efa\",\"dash\":\"solid\"},\"marker\":{\"symbol\":\"circle\"},\"mode\":\"lines\",\"name\":\"01.101\",\"orientation\":\"v\",\"showlegend\":true,\"type\":\"scatter\",\"x\":[2014],\"xaxis\":\"x\",\"y\":[2],\"yaxis\":\"y\"},{\"hovertemplate\":\"COD_UNIDADE_OR\\u00c7AMENTARIA=11.101<br>EXERC\\u00cdCIO=%{x}<br>0=%{y}<extra></extra>\",\"legendgroup\":\"11.101\",\"line\":{\"color\":\"#EF553B\",\"dash\":\"solid\"},\"marker\":{\"symbol\":\"circle\"},\"mode\":\"lines\",\"name\":\"11.101\",\"orientation\":\"v\",\"showlegend\":true,\"type\":\"scatter\",\"x\":[2014,2015,2016,2017,2018,2019,2020,2021,2022,2023],\"xaxis\":\"x\",\"y\":[46,49,23,44,49,52,12,3,13,11],\"yaxis\":\"y\"},{\"hovertemplate\":\"COD_UNIDADE_OR\\u00c7AMENTARIA=11.202<br>EXERC\\u00cdCIO=%{x}<br>0=%{y}<extra></extra>\",\"legendgroup\":\"11.202\",\"line\":{\"color\":\"#00cc96\",\"dash\":\"solid\"},\"marker\":{\"symbol\":\"circle\"},\"mode\":\"lines\",\"name\":\"11.202\",\"orientation\":\"v\",\"showlegend\":true,\"type\":\"scatter\",\"x\":[2014,2015,2016,2017,2018,2020,2021,2022,2023],\"xaxis\":\"x\",\"y\":[5,4,1,3,2,1,2,28,4],\"yaxis\":\"y\"},{\"hovertemplate\":\"COD_UNIDADE_OR\\u00c7AMENTARIA=11.203<br>EXERC\\u00cdCIO=%{x}<br>0=%{y}<extra></extra>\",\"legendgroup\":\"11.203\",\"line\":{\"color\":\"#ab63fa\",\"dash\":\"solid\"},\"marker\":{\"symbol\":\"circle\"},\"mode\":\"lines\",\"name\":\"11.203\",\"orientation\":\"v\",\"showlegend\":true,\"type\":\"scatter\",\"x\":[2014],\"xaxis\":\"x\",\"y\":[10],\"yaxis\":\"y\"},{\"hovertemplate\":\"COD_UNIDADE_OR\\u00c7AMENTARIA=13.101<br>EXERC\\u00cdCIO=%{x}<br>0=%{y}<extra></extra>\",\"legendgroup\":\"13.101\",\"line\":{\"color\":\"#FFA15A\",\"dash\":\"solid\"},\"marker\":{\"symbol\":\"circle\"},\"mode\":\"lines\",\"name\":\"13.101\",\"orientation\":\"v\",\"showlegend\":true,\"type\":\"scatter\",\"x\":[2014,2015,2016,2017,2018,2019,2020,2022,2023],\"xaxis\":\"x\",\"y\":[14,16,46,40,17,3,5,9,2],\"yaxis\":\"y\"},{\"hovertemplate\":\"COD_UNIDADE_OR\\u00c7AMENTARIA=13.201<br>EXERC\\u00cdCIO=%{x}<br>0=%{y}<extra></extra>\",\"legendgroup\":\"13.201\",\"line\":{\"color\":\"#19d3f3\",\"dash\":\"solid\"},\"marker\":{\"symbol\":\"circle\"},\"mode\":\"lines\",\"name\":\"13.201\",\"orientation\":\"v\",\"showlegend\":true,\"type\":\"scatter\",\"x\":[2014,2015,2016,2023],\"xaxis\":\"x\",\"y\":[2,3,11,3],\"yaxis\":\"y\"},{\"hovertemplate\":\"COD_UNIDADE_OR\\u00c7AMENTARIA=13.901<br>EXERC\\u00cdCIO=%{x}<br>0=%{y}<extra></extra>\",\"legendgroup\":\"13.901\",\"line\":{\"color\":\"#FF6692\",\"dash\":\"solid\"},\"marker\":{\"symbol\":\"circle\"},\"mode\":\"lines\",\"name\":\"13.901\",\"orientation\":\"v\",\"showlegend\":true,\"type\":\"scatter\",\"x\":[2014,2015,2016,2017,2018,2019,2020,2022,2023],\"xaxis\":\"x\",\"y\":[24,19,25,42,27,27,3,5,8],\"yaxis\":\"y\"},{\"hovertemplate\":\"COD_UNIDADE_OR\\u00c7AMENTARIA=15.101<br>EXERC\\u00cdCIO=%{x}<br>0=%{y}<extra></extra>\",\"legendgroup\":\"15.101\",\"line\":{\"color\":\"#B6E880\",\"dash\":\"solid\"},\"marker\":{\"symbol\":\"circle\"},\"mode\":\"lines\",\"name\":\"15.101\",\"orientation\":\"v\",\"showlegend\":true,\"type\":\"scatter\",\"x\":[2014,2015,2016,2017,2018,2019,2020,2021,2022,2023],\"xaxis\":\"x\",\"y\":[15,15,4,35,40,34,7,1,11,6],\"yaxis\":\"y\"},{\"hovertemplate\":\"COD_UNIDADE_OR\\u00c7AMENTARIA=16.101<br>EXERC\\u00cdCIO=%{x}<br>0=%{y}<extra></extra>\",\"legendgroup\":\"16.101\",\"line\":{\"color\":\"#FF97FF\",\"dash\":\"solid\"},\"marker\":{\"symbol\":\"circle\"},\"mode\":\"lines\",\"name\":\"16.101\",\"orientation\":\"v\",\"showlegend\":true,\"type\":\"scatter\",\"x\":[2014,2022,2023],\"xaxis\":\"x\",\"y\":[16,3,1],\"yaxis\":\"y\"},{\"hovertemplate\":\"COD_UNIDADE_OR\\u00c7AMENTARIA=17.101<br>EXERC\\u00cdCIO=%{x}<br>0=%{y}<extra></extra>\",\"legendgroup\":\"17.101\",\"line\":{\"color\":\"#FECB52\",\"dash\":\"solid\"},\"marker\":{\"symbol\":\"circle\"},\"mode\":\"lines\",\"name\":\"17.101\",\"orientation\":\"v\",\"showlegend\":true,\"type\":\"scatter\",\"x\":[2014,2015,2016,2017,2018,2019,2020,2021,2022,2023],\"xaxis\":\"x\",\"y\":[3,4,10,26,8,7,1,9,18,9],\"yaxis\":\"y\"},{\"hovertemplate\":\"COD_UNIDADE_OR\\u00c7AMENTARIA=17.102<br>EXERC\\u00cdCIO=%{x}<br>0=%{y}<extra></extra>\",\"legendgroup\":\"17.102\",\"line\":{\"color\":\"#636efa\",\"dash\":\"solid\"},\"marker\":{\"symbol\":\"circle\"},\"mode\":\"lines\",\"name\":\"17.102\",\"orientation\":\"v\",\"showlegend\":true,\"type\":\"scatter\",\"x\":[2014,2015,2016,2018,2019,2020,2021,2022,2023],\"xaxis\":\"x\",\"y\":[11,3,8,1,5,2,4,15,2],\"yaxis\":\"y\"},{\"hovertemplate\":\"COD_UNIDADE_OR\\u00c7AMENTARIA=18.101<br>EXERC\\u00cdCIO=%{x}<br>0=%{y}<extra></extra>\",\"legendgroup\":\"18.101\",\"line\":{\"color\":\"#EF553B\",\"dash\":\"solid\"},\"marker\":{\"symbol\":\"circle\"},\"mode\":\"lines\",\"name\":\"18.101\",\"orientation\":\"v\",\"showlegend\":true,\"type\":\"scatter\",\"x\":[2014,2015,2016,2017,2018,2019,2020,2021,2022,2023],\"xaxis\":\"x\",\"y\":[6,45,20,10,11,12,3,2,6,1],\"yaxis\":\"y\"},{\"hovertemplate\":\"COD_UNIDADE_OR\\u00c7AMENTARIA=18.201<br>EXERC\\u00cdCIO=%{x}<br>0=%{y}<extra></extra>\",\"legendgroup\":\"18.201\",\"line\":{\"color\":\"#00cc96\",\"dash\":\"solid\"},\"marker\":{\"symbol\":\"circle\"},\"mode\":\"lines\",\"name\":\"18.201\",\"orientation\":\"v\",\"showlegend\":true,\"type\":\"scatter\",\"x\":[2014],\"xaxis\":\"x\",\"y\":[2],\"yaxis\":\"y\"},{\"hovertemplate\":\"COD_UNIDADE_OR\\u00c7AMENTARIA=18.202<br>EXERC\\u00cdCIO=%{x}<br>0=%{y}<extra></extra>\",\"legendgroup\":\"18.202\",\"line\":{\"color\":\"#ab63fa\",\"dash\":\"solid\"},\"marker\":{\"symbol\":\"circle\"},\"mode\":\"lines\",\"name\":\"18.202\",\"orientation\":\"v\",\"showlegend\":true,\"type\":\"scatter\",\"x\":[2014,2015,2016,2017,2018,2019,2020,2023],\"xaxis\":\"x\",\"y\":[13,14,7,6,5,9,1,1],\"yaxis\":\"y\"},{\"hovertemplate\":\"COD_UNIDADE_OR\\u00c7AMENTARIA=18.203<br>EXERC\\u00cdCIO=%{x}<br>0=%{y}<extra></extra>\",\"legendgroup\":\"18.203\",\"line\":{\"color\":\"#FFA15A\",\"dash\":\"solid\"},\"marker\":{\"symbol\":\"circle\"},\"mode\":\"lines\",\"name\":\"18.203\",\"orientation\":\"v\",\"showlegend\":true,\"type\":\"scatter\",\"x\":[2014,2015,2018,2019],\"xaxis\":\"x\",\"y\":[1,2,4,1],\"yaxis\":\"y\"},{\"hovertemplate\":\"COD_UNIDADE_OR\\u00c7AMENTARIA=19.101<br>EXERC\\u00cdCIO=%{x}<br>0=%{y}<extra></extra>\",\"legendgroup\":\"19.101\",\"line\":{\"color\":\"#19d3f3\",\"dash\":\"solid\"},\"marker\":{\"symbol\":\"circle\"},\"mode\":\"lines\",\"name\":\"19.101\",\"orientation\":\"v\",\"showlegend\":true,\"type\":\"scatter\",\"x\":[2014,2015,2016,2017,2018,2019,2020,2022,2023],\"xaxis\":\"x\",\"y\":[8,11,12,18,16,33,3,1,2],\"yaxis\":\"y\"},{\"hovertemplate\":\"COD_UNIDADE_OR\\u00c7AMENTARIA=19.201<br>EXERC\\u00cdCIO=%{x}<br>0=%{y}<extra></extra>\",\"legendgroup\":\"19.201\",\"line\":{\"color\":\"#FF6692\",\"dash\":\"solid\"},\"marker\":{\"symbol\":\"circle\"},\"mode\":\"lines\",\"name\":\"19.201\",\"orientation\":\"v\",\"showlegend\":true,\"type\":\"scatter\",\"x\":[2014,2015,2016,2017,2018,2019,2020,2021,2022,2023],\"xaxis\":\"x\",\"y\":[2,6,4,4,9,14,1,1,5,2],\"yaxis\":\"y\"},{\"hovertemplate\":\"COD_UNIDADE_OR\\u00c7AMENTARIA=19.203<br>EXERC\\u00cdCIO=%{x}<br>0=%{y}<extra></extra>\",\"legendgroup\":\"19.203\",\"line\":{\"color\":\"#B6E880\",\"dash\":\"solid\"},\"marker\":{\"symbol\":\"circle\"},\"mode\":\"lines\",\"name\":\"19.203\",\"orientation\":\"v\",\"showlegend\":true,\"type\":\"scatter\",\"x\":[2014,2015,2016,2017,2018,2019,2020,2021,2022,2023],\"xaxis\":\"x\",\"y\":[836,552,761,1000,903,537,398,218,105,25],\"yaxis\":\"y\"},{\"hovertemplate\":\"COD_UNIDADE_OR\\u00c7AMENTARIA=23.101<br>EXERC\\u00cdCIO=%{x}<br>0=%{y}<extra></extra>\",\"legendgroup\":\"23.101\",\"line\":{\"color\":\"#FF97FF\",\"dash\":\"solid\"},\"marker\":{\"symbol\":\"circle\"},\"mode\":\"lines\",\"name\":\"23.101\",\"orientation\":\"v\",\"showlegend\":true,\"type\":\"scatter\",\"x\":[2014,2015,2016,2017,2019,2022,2023],\"xaxis\":\"x\",\"y\":[106,75,8,7,18,3,2],\"yaxis\":\"y\"},{\"hovertemplate\":\"COD_UNIDADE_OR\\u00c7AMENTARIA=24.901<br>EXERC\\u00cdCIO=%{x}<br>0=%{y}<extra></extra>\",\"legendgroup\":\"24.901\",\"line\":{\"color\":\"#FECB52\",\"dash\":\"solid\"},\"marker\":{\"symbol\":\"circle\"},\"mode\":\"lines\",\"name\":\"24.901\",\"orientation\":\"v\",\"showlegend\":true,\"type\":\"scatter\",\"x\":[2014,2015,2016,2017,2018,2019,2020,2021,2022,2023],\"xaxis\":\"x\",\"y\":[43,107,70,45,34,47,5,4,34,11],\"yaxis\":\"y\"},{\"hovertemplate\":\"COD_UNIDADE_OR\\u00c7AMENTARIA=25.201<br>EXERC\\u00cdCIO=%{x}<br>0=%{y}<extra></extra>\",\"legendgroup\":\"25.201\",\"line\":{\"color\":\"#636efa\",\"dash\":\"solid\"},\"marker\":{\"symbol\":\"circle\"},\"mode\":\"lines\",\"name\":\"25.201\",\"orientation\":\"v\",\"showlegend\":true,\"type\":\"scatter\",\"x\":[2014,2016,2017,2018,2019],\"xaxis\":\"x\",\"y\":[3,6,2,2,2],\"yaxis\":\"y\"},{\"hovertemplate\":\"COD_UNIDADE_OR\\u00c7AMENTARIA=25.901<br>EXERC\\u00cdCIO=%{x}<br>0=%{y}<extra></extra>\",\"legendgroup\":\"25.901\",\"line\":{\"color\":\"#EF553B\",\"dash\":\"solid\"},\"marker\":{\"symbol\":\"circle\"},\"mode\":\"lines\",\"name\":\"25.901\",\"orientation\":\"v\",\"showlegend\":true,\"type\":\"scatter\",\"x\":[2014,2015,2016,2017,2018,2019,2020,2021,2022,2023],\"xaxis\":\"x\",\"y\":[26,23,13,28,42,34,5,6,10,6],\"yaxis\":\"y\"},{\"hovertemplate\":\"COD_UNIDADE_OR\\u00c7AMENTARIA=26.101<br>EXERC\\u00cdCIO=%{x}<br>0=%{y}<extra></extra>\",\"legendgroup\":\"26.101\",\"line\":{\"color\":\"#00cc96\",\"dash\":\"solid\"},\"marker\":{\"symbol\":\"circle\"},\"mode\":\"lines\",\"name\":\"26.101\",\"orientation\":\"v\",\"showlegend\":true,\"type\":\"scatter\",\"x\":[2014,2015,2016,2017,2018,2019,2022,2023],\"xaxis\":\"x\",\"y\":[12,16,4,9,6,8,1,4],\"yaxis\":\"y\"},{\"hovertemplate\":\"COD_UNIDADE_OR\\u00c7AMENTARIA=27.101<br>EXERC\\u00cdCIO=%{x}<br>0=%{y}<extra></extra>\",\"legendgroup\":\"27.101\",\"line\":{\"color\":\"#ab63fa\",\"dash\":\"solid\"},\"marker\":{\"symbol\":\"circle\"},\"mode\":\"lines\",\"name\":\"27.101\",\"orientation\":\"v\",\"showlegend\":true,\"type\":\"scatter\",\"x\":[2014,2015,2016,2017,2018,2019,2020,2022],\"xaxis\":\"x\",\"y\":[49,47,27,24,17,12,3,2],\"yaxis\":\"y\"},{\"hovertemplate\":\"COD_UNIDADE_OR\\u00c7AMENTARIA=28.101<br>EXERC\\u00cdCIO=%{x}<br>0=%{y}<extra></extra>\",\"legendgroup\":\"28.101\",\"line\":{\"color\":\"#FFA15A\",\"dash\":\"solid\"},\"marker\":{\"symbol\":\"circle\"},\"mode\":\"lines\",\"name\":\"28.101\",\"orientation\":\"v\",\"showlegend\":true,\"type\":\"scatter\",\"x\":[2014,2015,2016,2017,2018,2019,2020,2022],\"xaxis\":\"x\",\"y\":[24,21,19,14,5,5,1,1],\"yaxis\":\"y\"},{\"hovertemplate\":\"COD_UNIDADE_OR\\u00c7AMENTARIA=28.901<br>EXERC\\u00cdCIO=%{x}<br>0=%{y}<extra></extra>\",\"legendgroup\":\"28.901\",\"line\":{\"color\":\"#19d3f3\",\"dash\":\"solid\"},\"marker\":{\"symbol\":\"circle\"},\"mode\":\"lines\",\"name\":\"28.901\",\"orientation\":\"v\",\"showlegend\":true,\"type\":\"scatter\",\"x\":[2014,2015,2016,2017,2018,2019,2022,2023],\"xaxis\":\"x\",\"y\":[10,22,17,8,4,3,1,1],\"yaxis\":\"y\"},{\"hovertemplate\":\"COD_UNIDADE_OR\\u00c7AMENTARIA=29.101<br>EXERC\\u00cdCIO=%{x}<br>0=%{y}<extra></extra>\",\"legendgroup\":\"29.101\",\"line\":{\"color\":\"#FF6692\",\"dash\":\"solid\"},\"marker\":{\"symbol\":\"circle\"},\"mode\":\"lines\",\"name\":\"29.101\",\"orientation\":\"v\",\"showlegend\":true,\"type\":\"scatter\",\"x\":[2014,2015,2016,2017,2019],\"xaxis\":\"x\",\"y\":[9,5,3,3,7],\"yaxis\":\"y\"},{\"hovertemplate\":\"COD_UNIDADE_OR\\u00c7AMENTARIA=30.101<br>EXERC\\u00cdCIO=%{x}<br>0=%{y}<extra></extra>\",\"legendgroup\":\"30.101\",\"line\":{\"color\":\"#B6E880\",\"dash\":\"solid\"},\"marker\":{\"symbol\":\"circle\"},\"mode\":\"lines\",\"name\":\"30.101\",\"orientation\":\"v\",\"showlegend\":true,\"type\":\"scatter\",\"x\":[2014,2015,2016,2017,2018,2019,2020,2021,2022,2023],\"xaxis\":\"x\",\"y\":[29,30,23,20,15,41,5,15,23,32],\"yaxis\":\"y\"},{\"hovertemplate\":\"COD_UNIDADE_OR\\u00c7AMENTARIA=31.101<br>EXERC\\u00cdCIO=%{x}<br>0=%{y}<extra></extra>\",\"legendgroup\":\"31.101\",\"line\":{\"color\":\"#FF97FF\",\"dash\":\"solid\"},\"marker\":{\"symbol\":\"circle\"},\"mode\":\"lines\",\"name\":\"31.101\",\"orientation\":\"v\",\"showlegend\":true,\"type\":\"scatter\",\"x\":[2014,2015,2016,2017,2018,2019,2020,2022,2023],\"xaxis\":\"x\",\"y\":[16,41,18,3,9,14,3,7,1],\"yaxis\":\"y\"},{\"hovertemplate\":\"COD_UNIDADE_OR\\u00c7AMENTARIA=31.901<br>EXERC\\u00cdCIO=%{x}<br>0=%{y}<extra></extra>\",\"legendgroup\":\"31.901\",\"line\":{\"color\":\"#FECB52\",\"dash\":\"solid\"},\"marker\":{\"symbol\":\"circle\"},\"mode\":\"lines\",\"name\":\"31.901\",\"orientation\":\"v\",\"showlegend\":true,\"type\":\"scatter\",\"x\":[2014,2015,2016,2017,2018,2019,2020,2023],\"xaxis\":\"x\",\"y\":[1,11,4,10,15,9,1,1],\"yaxis\":\"y\"},{\"hovertemplate\":\"COD_UNIDADE_OR\\u00c7AMENTARIA=32.101<br>EXERC\\u00cdCIO=%{x}<br>0=%{y}<extra></extra>\",\"legendgroup\":\"32.101\",\"line\":{\"color\":\"#636efa\",\"dash\":\"solid\"},\"marker\":{\"symbol\":\"circle\"},\"mode\":\"lines\",\"name\":\"32.101\",\"orientation\":\"v\",\"showlegend\":true,\"type\":\"scatter\",\"x\":[2014,2015,2016,2017,2018,2019,2020,2021,2023],\"xaxis\":\"x\",\"y\":[13,11,7,7,7,15,4,2,2],\"yaxis\":\"y\"},{\"hovertemplate\":\"COD_UNIDADE_OR\\u00c7AMENTARIA=35.101<br>EXERC\\u00cdCIO=%{x}<br>0=%{y}<extra></extra>\",\"legendgroup\":\"35.101\",\"line\":{\"color\":\"#EF553B\",\"dash\":\"solid\"},\"marker\":{\"symbol\":\"circle\"},\"mode\":\"lines\",\"name\":\"35.101\",\"orientation\":\"v\",\"showlegend\":true,\"type\":\"scatter\",\"x\":[2014,2015,2016,2017],\"xaxis\":\"x\",\"y\":[11,12,5,1],\"yaxis\":\"y\"},{\"hovertemplate\":\"COD_UNIDADE_OR\\u00c7AMENTARIA=35.201<br>EXERC\\u00cdCIO=%{x}<br>0=%{y}<extra></extra>\",\"legendgroup\":\"35.201\",\"line\":{\"color\":\"#00cc96\",\"dash\":\"solid\"},\"marker\":{\"symbol\":\"circle\"},\"mode\":\"lines\",\"name\":\"35.201\",\"orientation\":\"v\",\"showlegend\":true,\"type\":\"scatter\",\"x\":[2014],\"xaxis\":\"x\",\"y\":[4],\"yaxis\":\"y\"},{\"hovertemplate\":\"COD_UNIDADE_OR\\u00c7AMENTARIA=52.101<br>EXERC\\u00cdCIO=%{x}<br>0=%{y}<extra></extra>\",\"legendgroup\":\"52.101\",\"line\":{\"color\":\"#ab63fa\",\"dash\":\"solid\"},\"marker\":{\"symbol\":\"circle\"},\"mode\":\"lines\",\"name\":\"52.101\",\"orientation\":\"v\",\"showlegend\":true,\"type\":\"scatter\",\"x\":[2014],\"xaxis\":\"x\",\"y\":[20],\"yaxis\":\"y\"},{\"hovertemplate\":\"COD_UNIDADE_OR\\u00c7AMENTARIA=11.204<br>EXERC\\u00cdCIO=%{x}<br>0=%{y}<extra></extra>\",\"legendgroup\":\"11.204\",\"line\":{\"color\":\"#FFA15A\",\"dash\":\"solid\"},\"marker\":{\"symbol\":\"circle\"},\"mode\":\"lines\",\"name\":\"11.204\",\"orientation\":\"v\",\"showlegend\":true,\"type\":\"scatter\",\"x\":[2015,2016,2017,2018,2019,2022],\"xaxis\":\"x\",\"y\":[4,7,3,16,19,18],\"yaxis\":\"y\"},{\"hovertemplate\":\"COD_UNIDADE_OR\\u00c7AMENTARIA=11.205<br>EXERC\\u00cdCIO=%{x}<br>0=%{y}<extra></extra>\",\"legendgroup\":\"11.205\",\"line\":{\"color\":\"#19d3f3\",\"dash\":\"solid\"},\"marker\":{\"symbol\":\"circle\"},\"mode\":\"lines\",\"name\":\"11.205\",\"orientation\":\"v\",\"showlegend\":true,\"type\":\"scatter\",\"x\":[2015,2016,2017,2018,2019,2022,2023],\"xaxis\":\"x\",\"y\":[3,4,9,11,11,16,7],\"yaxis\":\"y\"},{\"hovertemplate\":\"COD_UNIDADE_OR\\u00c7AMENTARIA=14.101<br>EXERC\\u00cdCIO=%{x}<br>0=%{y}<extra></extra>\",\"legendgroup\":\"14.101\",\"line\":{\"color\":\"#FF6692\",\"dash\":\"solid\"},\"marker\":{\"symbol\":\"circle\"},\"mode\":\"lines\",\"name\":\"14.101\",\"orientation\":\"v\",\"showlegend\":true,\"type\":\"scatter\",\"x\":[2015,2016,2017,2018,2019,2020,2021,2022,2023],\"xaxis\":\"x\",\"y\":[14,4,5,1,5,2,2,3,2],\"yaxis\":\"y\"},{\"hovertemplate\":\"COD_UNIDADE_OR\\u00c7AMENTARIA=31.201<br>EXERC\\u00cdCIO=%{x}<br>0=%{y}<extra></extra>\",\"legendgroup\":\"31.201\",\"line\":{\"color\":\"#B6E880\",\"dash\":\"solid\"},\"marker\":{\"symbol\":\"circle\"},\"mode\":\"lines\",\"name\":\"31.201\",\"orientation\":\"v\",\"showlegend\":true,\"type\":\"scatter\",\"x\":[2015,2016,2017,2018,2019,2020,2021,2022,2023],\"xaxis\":\"x\",\"y\":[12,5,19,19,14,1,7,12,2],\"yaxis\":\"y\"},{\"hovertemplate\":\"COD_UNIDADE_OR\\u00c7AMENTARIA=34.101<br>EXERC\\u00cdCIO=%{x}<br>0=%{y}<extra></extra>\",\"legendgroup\":\"34.101\",\"line\":{\"color\":\"#FF97FF\",\"dash\":\"solid\"},\"marker\":{\"symbol\":\"circle\"},\"mode\":\"lines\",\"name\":\"34.101\",\"orientation\":\"v\",\"showlegend\":true,\"type\":\"scatter\",\"x\":[2015,2016,2017,2018,2019,2020,2022,2023],\"xaxis\":\"x\",\"y\":[12,19,11,12,20,3,3,1],\"yaxis\":\"y\"},{\"hovertemplate\":\"COD_UNIDADE_OR\\u00c7AMENTARIA=35.102<br>EXERC\\u00cdCIO=%{x}<br>0=%{y}<extra></extra>\",\"legendgroup\":\"35.102\",\"line\":{\"color\":\"#FECB52\",\"dash\":\"solid\"},\"marker\":{\"symbol\":\"circle\"},\"mode\":\"lines\",\"name\":\"35.102\",\"orientation\":\"v\",\"showlegend\":true,\"type\":\"scatter\",\"x\":[2015,2016,2017],\"xaxis\":\"x\",\"y\":[3,5,2],\"yaxis\":\"y\"},{\"hovertemplate\":\"COD_UNIDADE_OR\\u00c7AMENTARIA=44.101<br>EXERC\\u00cdCIO=%{x}<br>0=%{y}<extra></extra>\",\"legendgroup\":\"44.101\",\"line\":{\"color\":\"#636efa\",\"dash\":\"solid\"},\"marker\":{\"symbol\":\"circle\"},\"mode\":\"lines\",\"name\":\"44.101\",\"orientation\":\"v\",\"showlegend\":true,\"type\":\"scatter\",\"x\":[2015,2016],\"xaxis\":\"x\",\"y\":[2,5],\"yaxis\":\"y\"},{\"hovertemplate\":\"COD_UNIDADE_OR\\u00c7AMENTARIA=23.901<br>EXERC\\u00cdCIO=%{x}<br>0=%{y}<extra></extra>\",\"legendgroup\":\"23.901\",\"line\":{\"color\":\"#EF553B\",\"dash\":\"solid\"},\"marker\":{\"symbol\":\"circle\"},\"mode\":\"lines\",\"name\":\"23.901\",\"orientation\":\"v\",\"showlegend\":true,\"type\":\"scatter\",\"x\":[2016,2017,2018,2019,2020,2021,2022,2023],\"xaxis\":\"x\",\"y\":[72,89,117,106,5,21,30,19],\"yaxis\":\"y\"},{\"hovertemplate\":\"COD_UNIDADE_OR\\u00c7AMENTARIA=45.101<br>EXERC\\u00cdCIO=%{x}<br>0=%{y}<extra></extra>\",\"legendgroup\":\"45.101\",\"line\":{\"color\":\"#00cc96\",\"dash\":\"solid\"},\"marker\":{\"symbol\":\"circle\"},\"mode\":\"lines\",\"name\":\"45.101\",\"orientation\":\"v\",\"showlegend\":true,\"type\":\"scatter\",\"x\":[2016],\"xaxis\":\"x\",\"y\":[1],\"yaxis\":\"y\"},{\"hovertemplate\":\"COD_UNIDADE_OR\\u00c7AMENTARIA=12.101<br>EXERC\\u00cdCIO=%{x}<br>0=%{y}<extra></extra>\",\"legendgroup\":\"12.101\",\"line\":{\"color\":\"#ab63fa\",\"dash\":\"solid\"},\"marker\":{\"symbol\":\"circle\"},\"mode\":\"lines\",\"name\":\"12.101\",\"orientation\":\"v\",\"showlegend\":true,\"type\":\"scatter\",\"x\":[2017,2018,2019,2020,2021,2022,2023],\"xaxis\":\"x\",\"y\":[8,19,10,1,8,33,22],\"yaxis\":\"y\"},{\"hovertemplate\":\"COD_UNIDADE_OR\\u00c7AMENTARIA=19.206<br>EXERC\\u00cdCIO=%{x}<br>0=%{y}<extra></extra>\",\"legendgroup\":\"19.206\",\"line\":{\"color\":\"#FFA15A\",\"dash\":\"solid\"},\"marker\":{\"symbol\":\"circle\"},\"mode\":\"lines\",\"name\":\"19.206\",\"orientation\":\"v\",\"showlegend\":true,\"type\":\"scatter\",\"x\":[2017,2018,2019],\"xaxis\":\"x\",\"y\":[3,1,1],\"yaxis\":\"y\"},{\"hovertemplate\":\"COD_UNIDADE_OR\\u00c7AMENTARIA=28.902<br>EXERC\\u00cdCIO=%{x}<br>0=%{y}<extra></extra>\",\"legendgroup\":\"28.902\",\"line\":{\"color\":\"#19d3f3\",\"dash\":\"solid\"},\"marker\":{\"symbol\":\"circle\"},\"mode\":\"lines\",\"name\":\"28.902\",\"orientation\":\"v\",\"showlegend\":true,\"type\":\"scatter\",\"x\":[2017,2018,2019,2020,2021,2022,2023],\"xaxis\":\"x\",\"y\":[9,24,32,1,2,2,2],\"yaxis\":\"y\"},{\"hovertemplate\":\"COD_UNIDADE_OR\\u00c7AMENTARIA=41.101<br>EXERC\\u00cdCIO=%{x}<br>0=%{y}<extra></extra>\",\"legendgroup\":\"41.101\",\"line\":{\"color\":\"#FF6692\",\"dash\":\"solid\"},\"marker\":{\"symbol\":\"circle\"},\"mode\":\"lines\",\"name\":\"41.101\",\"orientation\":\"v\",\"showlegend\":true,\"type\":\"scatter\",\"x\":[2017],\"xaxis\":\"x\",\"y\":[1],\"yaxis\":\"y\"},{\"hovertemplate\":\"COD_UNIDADE_OR\\u00c7AMENTARIA=18.102<br>EXERC\\u00cdCIO=%{x}<br>0=%{y}<extra></extra>\",\"legendgroup\":\"18.102\",\"line\":{\"color\":\"#B6E880\",\"dash\":\"solid\"},\"marker\":{\"symbol\":\"circle\"},\"mode\":\"lines\",\"name\":\"18.102\",\"orientation\":\"v\",\"showlegend\":true,\"type\":\"scatter\",\"x\":[2018,2019,2021],\"xaxis\":\"x\",\"y\":[5,2,2],\"yaxis\":\"y\"},{\"hovertemplate\":\"COD_UNIDADE_OR\\u00c7AMENTARIA=31.102<br>EXERC\\u00cdCIO=%{x}<br>0=%{y}<extra></extra>\",\"legendgroup\":\"31.102\",\"line\":{\"color\":\"#FF97FF\",\"dash\":\"solid\"},\"marker\":{\"symbol\":\"circle\"},\"mode\":\"lines\",\"name\":\"31.102\",\"orientation\":\"v\",\"showlegend\":true,\"type\":\"scatter\",\"x\":[2019],\"xaxis\":\"x\",\"y\":[2],\"yaxis\":\"y\"},{\"hovertemplate\":\"COD_UNIDADE_OR\\u00c7AMENTARIA=42.101<br>EXERC\\u00cdCIO=%{x}<br>0=%{y}<extra></extra>\",\"legendgroup\":\"42.101\",\"line\":{\"color\":\"#FECB52\",\"dash\":\"solid\"},\"marker\":{\"symbol\":\"circle\"},\"mode\":\"lines\",\"name\":\"42.101\",\"orientation\":\"v\",\"showlegend\":true,\"type\":\"scatter\",\"x\":[2019,2020],\"xaxis\":\"x\",\"y\":[2,1],\"yaxis\":\"y\"},{\"hovertemplate\":\"COD_UNIDADE_OR\\u00c7AMENTARIA=13.102<br>EXERC\\u00cdCIO=%{x}<br>0=%{y}<extra></extra>\",\"legendgroup\":\"13.102\",\"line\":{\"color\":\"#636efa\",\"dash\":\"solid\"},\"marker\":{\"symbol\":\"circle\"},\"mode\":\"lines\",\"name\":\"13.102\",\"orientation\":\"v\",\"showlegend\":true,\"type\":\"scatter\",\"x\":[2022],\"xaxis\":\"x\",\"y\":[1],\"yaxis\":\"y\"},{\"hovertemplate\":\"COD_UNIDADE_OR\\u00c7AMENTARIA=31.905<br>EXERC\\u00cdCIO=%{x}<br>0=%{y}<extra></extra>\",\"legendgroup\":\"31.905\",\"line\":{\"color\":\"#EF553B\",\"dash\":\"solid\"},\"marker\":{\"symbol\":\"circle\"},\"mode\":\"lines\",\"name\":\"31.905\",\"orientation\":\"v\",\"showlegend\":true,\"type\":\"scatter\",\"x\":[2022,2023],\"xaxis\":\"x\",\"y\":[6,1],\"yaxis\":\"y\"},{\"hovertemplate\":\"COD_UNIDADE_OR\\u00c7AMENTARIA=33.101<br>EXERC\\u00cdCIO=%{x}<br>0=%{y}<extra></extra>\",\"legendgroup\":\"33.101\",\"line\":{\"color\":\"#00cc96\",\"dash\":\"solid\"},\"marker\":{\"symbol\":\"circle\"},\"mode\":\"lines\",\"name\":\"33.101\",\"orientation\":\"v\",\"showlegend\":true,\"type\":\"scatter\",\"x\":[2022,2023],\"xaxis\":\"x\",\"y\":[3,1],\"yaxis\":\"y\"}],                        {\"legend\":{\"title\":{\"text\":\"COD_UNIDADE_OR\\u00c7AMENTARIA\"},\"tracegroupgap\":0},\"margin\":{\"t\":60},\"template\":{\"data\":{\"bar\":[{\"error_x\":{\"color\":\"#2a3f5f\"},\"error_y\":{\"color\":\"#2a3f5f\"},\"marker\":{\"line\":{\"color\":\"#E5ECF6\",\"width\":0.5},\"pattern\":{\"fillmode\":\"overlay\",\"size\":10,\"solidity\":0.2}},\"type\":\"bar\"}],\"barpolar\":[{\"marker\":{\"line\":{\"color\":\"#E5ECF6\",\"width\":0.5},\"pattern\":{\"fillmode\":\"overlay\",\"size\":10,\"solidity\":0.2}},\"type\":\"barpolar\"}],\"carpet\":[{\"aaxis\":{\"endlinecolor\":\"#2a3f5f\",\"gridcolor\":\"white\",\"linecolor\":\"white\",\"minorgridcolor\":\"white\",\"startlinecolor\":\"#2a3f5f\"},\"baxis\":{\"endlinecolor\":\"#2a3f5f\",\"gridcolor\":\"white\",\"linecolor\":\"white\",\"minorgridcolor\":\"white\",\"startlinecolor\":\"#2a3f5f\"},\"type\":\"carpet\"}],\"choropleth\":[{\"colorbar\":{\"outlinewidth\":0,\"ticks\":\"\"},\"type\":\"choropleth\"}],\"contour\":[{\"colorbar\":{\"outlinewidth\":0,\"ticks\":\"\"},\"colorscale\":[[0.0,\"#0d0887\"],[0.1111111111111111,\"#46039f\"],[0.2222222222222222,\"#7201a8\"],[0.3333333333333333,\"#9c179e\"],[0.4444444444444444,\"#bd3786\"],[0.5555555555555556,\"#d8576b\"],[0.6666666666666666,\"#ed7953\"],[0.7777777777777778,\"#fb9f3a\"],[0.8888888888888888,\"#fdca26\"],[1.0,\"#f0f921\"]],\"type\":\"contour\"}],\"contourcarpet\":[{\"colorbar\":{\"outlinewidth\":0,\"ticks\":\"\"},\"type\":\"contourcarpet\"}],\"heatmap\":[{\"colorbar\":{\"outlinewidth\":0,\"ticks\":\"\"},\"colorscale\":[[0.0,\"#0d0887\"],[0.1111111111111111,\"#46039f\"],[0.2222222222222222,\"#7201a8\"],[0.3333333333333333,\"#9c179e\"],[0.4444444444444444,\"#bd3786\"],[0.5555555555555556,\"#d8576b\"],[0.6666666666666666,\"#ed7953\"],[0.7777777777777778,\"#fb9f3a\"],[0.8888888888888888,\"#fdca26\"],[1.0,\"#f0f921\"]],\"type\":\"heatmap\"}],\"heatmapgl\":[{\"colorbar\":{\"outlinewidth\":0,\"ticks\":\"\"},\"colorscale\":[[0.0,\"#0d0887\"],[0.1111111111111111,\"#46039f\"],[0.2222222222222222,\"#7201a8\"],[0.3333333333333333,\"#9c179e\"],[0.4444444444444444,\"#bd3786\"],[0.5555555555555556,\"#d8576b\"],[0.6666666666666666,\"#ed7953\"],[0.7777777777777778,\"#fb9f3a\"],[0.8888888888888888,\"#fdca26\"],[1.0,\"#f0f921\"]],\"type\":\"heatmapgl\"}],\"histogram\":[{\"marker\":{\"pattern\":{\"fillmode\":\"overlay\",\"size\":10,\"solidity\":0.2}},\"type\":\"histogram\"}],\"histogram2d\":[{\"colorbar\":{\"outlinewidth\":0,\"ticks\":\"\"},\"colorscale\":[[0.0,\"#0d0887\"],[0.1111111111111111,\"#46039f\"],[0.2222222222222222,\"#7201a8\"],[0.3333333333333333,\"#9c179e\"],[0.4444444444444444,\"#bd3786\"],[0.5555555555555556,\"#d8576b\"],[0.6666666666666666,\"#ed7953\"],[0.7777777777777778,\"#fb9f3a\"],[0.8888888888888888,\"#fdca26\"],[1.0,\"#f0f921\"]],\"type\":\"histogram2d\"}],\"histogram2dcontour\":[{\"colorbar\":{\"outlinewidth\":0,\"ticks\":\"\"},\"colorscale\":[[0.0,\"#0d0887\"],[0.1111111111111111,\"#46039f\"],[0.2222222222222222,\"#7201a8\"],[0.3333333333333333,\"#9c179e\"],[0.4444444444444444,\"#bd3786\"],[0.5555555555555556,\"#d8576b\"],[0.6666666666666666,\"#ed7953\"],[0.7777777777777778,\"#fb9f3a\"],[0.8888888888888888,\"#fdca26\"],[1.0,\"#f0f921\"]],\"type\":\"histogram2dcontour\"}],\"mesh3d\":[{\"colorbar\":{\"outlinewidth\":0,\"ticks\":\"\"},\"type\":\"mesh3d\"}],\"parcoords\":[{\"line\":{\"colorbar\":{\"outlinewidth\":0,\"ticks\":\"\"}},\"type\":\"parcoords\"}],\"pie\":[{\"automargin\":true,\"type\":\"pie\"}],\"scatter\":[{\"marker\":{\"colorbar\":{\"outlinewidth\":0,\"ticks\":\"\"}},\"type\":\"scatter\"}],\"scatter3d\":[{\"line\":{\"colorbar\":{\"outlinewidth\":0,\"ticks\":\"\"}},\"marker\":{\"colorbar\":{\"outlinewidth\":0,\"ticks\":\"\"}},\"type\":\"scatter3d\"}],\"scattercarpet\":[{\"marker\":{\"colorbar\":{\"outlinewidth\":0,\"ticks\":\"\"}},\"type\":\"scattercarpet\"}],\"scattergeo\":[{\"marker\":{\"colorbar\":{\"outlinewidth\":0,\"ticks\":\"\"}},\"type\":\"scattergeo\"}],\"scattergl\":[{\"marker\":{\"colorbar\":{\"outlinewidth\":0,\"ticks\":\"\"}},\"type\":\"scattergl\"}],\"scattermapbox\":[{\"marker\":{\"colorbar\":{\"outlinewidth\":0,\"ticks\":\"\"}},\"type\":\"scattermapbox\"}],\"scatterpolar\":[{\"marker\":{\"colorbar\":{\"outlinewidth\":0,\"ticks\":\"\"}},\"type\":\"scatterpolar\"}],\"scatterpolargl\":[{\"marker\":{\"colorbar\":{\"outlinewidth\":0,\"ticks\":\"\"}},\"type\":\"scatterpolargl\"}],\"scatterternary\":[{\"marker\":{\"colorbar\":{\"outlinewidth\":0,\"ticks\":\"\"}},\"type\":\"scatterternary\"}],\"surface\":[{\"colorbar\":{\"outlinewidth\":0,\"ticks\":\"\"},\"colorscale\":[[0.0,\"#0d0887\"],[0.1111111111111111,\"#46039f\"],[0.2222222222222222,\"#7201a8\"],[0.3333333333333333,\"#9c179e\"],[0.4444444444444444,\"#bd3786\"],[0.5555555555555556,\"#d8576b\"],[0.6666666666666666,\"#ed7953\"],[0.7777777777777778,\"#fb9f3a\"],[0.8888888888888888,\"#fdca26\"],[1.0,\"#f0f921\"]],\"type\":\"surface\"}],\"table\":[{\"cells\":{\"fill\":{\"color\":\"#EBF0F8\"},\"line\":{\"color\":\"white\"}},\"header\":{\"fill\":{\"color\":\"#C8D4E3\"},\"line\":{\"color\":\"white\"}},\"type\":\"table\"}]},\"layout\":{\"annotationdefaults\":{\"arrowcolor\":\"#2a3f5f\",\"arrowhead\":0,\"arrowwidth\":1},\"autotypenumbers\":\"strict\",\"coloraxis\":{\"colorbar\":{\"outlinewidth\":0,\"ticks\":\"\"}},\"colorscale\":{\"diverging\":[[0,\"#8e0152\"],[0.1,\"#c51b7d\"],[0.2,\"#de77ae\"],[0.3,\"#f1b6da\"],[0.4,\"#fde0ef\"],[0.5,\"#f7f7f7\"],[0.6,\"#e6f5d0\"],[0.7,\"#b8e186\"],[0.8,\"#7fbc41\"],[0.9,\"#4d9221\"],[1,\"#276419\"]],\"sequential\":[[0.0,\"#0d0887\"],[0.1111111111111111,\"#46039f\"],[0.2222222222222222,\"#7201a8\"],[0.3333333333333333,\"#9c179e\"],[0.4444444444444444,\"#bd3786\"],[0.5555555555555556,\"#d8576b\"],[0.6666666666666666,\"#ed7953\"],[0.7777777777777778,\"#fb9f3a\"],[0.8888888888888888,\"#fdca26\"],[1.0,\"#f0f921\"]],\"sequentialminus\":[[0.0,\"#0d0887\"],[0.1111111111111111,\"#46039f\"],[0.2222222222222222,\"#7201a8\"],[0.3333333333333333,\"#9c179e\"],[0.4444444444444444,\"#bd3786\"],[0.5555555555555556,\"#d8576b\"],[0.6666666666666666,\"#ed7953\"],[0.7777777777777778,\"#fb9f3a\"],[0.8888888888888888,\"#fdca26\"],[1.0,\"#f0f921\"]]},\"colorway\":[\"#636efa\",\"#EF553B\",\"#00cc96\",\"#ab63fa\",\"#FFA15A\",\"#19d3f3\",\"#FF6692\",\"#B6E880\",\"#FF97FF\",\"#FECB52\"],\"font\":{\"color\":\"#2a3f5f\"},\"geo\":{\"bgcolor\":\"white\",\"lakecolor\":\"white\",\"landcolor\":\"#E5ECF6\",\"showlakes\":true,\"showland\":true,\"subunitcolor\":\"white\"},\"hoverlabel\":{\"align\":\"left\"},\"hovermode\":\"closest\",\"mapbox\":{\"style\":\"light\"},\"paper_bgcolor\":\"white\",\"plot_bgcolor\":\"#E5ECF6\",\"polar\":{\"angularaxis\":{\"gridcolor\":\"white\",\"linecolor\":\"white\",\"ticks\":\"\"},\"bgcolor\":\"#E5ECF6\",\"radialaxis\":{\"gridcolor\":\"white\",\"linecolor\":\"white\",\"ticks\":\"\"}},\"scene\":{\"xaxis\":{\"backgroundcolor\":\"#E5ECF6\",\"gridcolor\":\"white\",\"gridwidth\":2,\"linecolor\":\"white\",\"showbackground\":true,\"ticks\":\"\",\"zerolinecolor\":\"white\"},\"yaxis\":{\"backgroundcolor\":\"#E5ECF6\",\"gridcolor\":\"white\",\"gridwidth\":2,\"linecolor\":\"white\",\"showbackground\":true,\"ticks\":\"\",\"zerolinecolor\":\"white\"},\"zaxis\":{\"backgroundcolor\":\"#E5ECF6\",\"gridcolor\":\"white\",\"gridwidth\":2,\"linecolor\":\"white\",\"showbackground\":true,\"ticks\":\"\",\"zerolinecolor\":\"white\"}},\"shapedefaults\":{\"line\":{\"color\":\"#2a3f5f\"}},\"ternary\":{\"aaxis\":{\"gridcolor\":\"white\",\"linecolor\":\"white\",\"ticks\":\"\"},\"baxis\":{\"gridcolor\":\"white\",\"linecolor\":\"white\",\"ticks\":\"\"},\"bgcolor\":\"#E5ECF6\",\"caxis\":{\"gridcolor\":\"white\",\"linecolor\":\"white\",\"ticks\":\"\"}},\"title\":{\"x\":0.05},\"xaxis\":{\"automargin\":true,\"gridcolor\":\"white\",\"linecolor\":\"white\",\"ticks\":\"\",\"title\":{\"standoff\":15},\"zerolinecolor\":\"white\",\"zerolinewidth\":2},\"yaxis\":{\"automargin\":true,\"gridcolor\":\"white\",\"linecolor\":\"white\",\"ticks\":\"\",\"title\":{\"standoff\":15},\"zerolinecolor\":\"white\",\"zerolinewidth\":2}}},\"xaxis\":{\"anchor\":\"y\",\"domain\":[0.0,1.0],\"title\":{\"text\":\"EXERC\\u00cdCIO\"}},\"yaxis\":{\"anchor\":\"x\",\"domain\":[0.0,1.0],\"title\":{\"text\":\"0\"}}},                        {\"responsive\": true}                    ).then(function(){\n",
       "                            \n",
       "var gd = document.getElementById('1db0ab5d-5218-49ba-bd72-d7f550dfd677');\n",
       "var x = new MutationObserver(function (mutations, observer) {{\n",
       "        var display = window.getComputedStyle(gd).display;\n",
       "        if (!display || display === 'none') {{\n",
       "            console.log([gd, 'removed!']);\n",
       "            Plotly.purge(gd);\n",
       "            observer.disconnect();\n",
       "        }}\n",
       "}});\n",
       "\n",
       "// Listen for the removal of the full notebook cells\n",
       "var notebookContainer = gd.closest('#notebook-container');\n",
       "if (notebookContainer) {{\n",
       "    x.observe(notebookContainer, {childList: true});\n",
       "}}\n",
       "\n",
       "// Listen for the clearing of the current output cell\n",
       "var outputEl = gd.closest('.output');\n",
       "if (outputEl) {{\n",
       "    x.observe(outputEl, {childList: true});\n",
       "}}\n",
       "\n",
       "                        })                };                });            </script>        </div>"
      ]
     },
     "metadata": {},
     "output_type": "display_data"
    }
   ],
   "source": [
    "# visualizando os o total de diárias pagas por ano e por órgão (Será um impacto da pandemia na redução de viagens?)\n",
    "\n",
    "px.line(viagens_orgao_ano, y=0 , x='EXERCÍCIO', color='COD_UNIDADE_ORÇAMENTARIA')"
   ]
  },
  {
   "cell_type": "code",
   "execution_count": 74,
   "metadata": {
    "executionInfo": {
     "elapsed": 285,
     "status": "ok",
     "timestamp": 1688264145336,
     "user": {
      "displayName": "Gabriela Custódio",
      "userId": "17879241500396315997"
     },
     "user_tz": 180
    },
    "id": "zNSX7F2mjkdb"
   },
   "outputs": [],
   "source": [
    "# buscando a unidade orçamentária referente ao código\n",
    "\n",
    "def busca_unidade(cod):\n",
    "    return df_validos[df_validos['UNIDADE ORÇAMENTARIA'].str.contains(cod)]['UNIDADE ORÇAMENTARIA'].unique()"
   ]
  },
  {
   "cell_type": "code",
   "execution_count": 75,
   "metadata": {
    "colab": {
     "base_uri": "https://localhost:8080/"
    },
    "executionInfo": {
     "elapsed": 4,
     "status": "ok",
     "timestamp": 1688264146559,
     "user": {
      "displayName": "Gabriela Custódio",
      "userId": "17879241500396315997"
     },
     "user_tz": 180
    },
    "id": "aLLQk28-j3lv",
    "outputId": "d5a9dc70-f3a0-4995-b358-8a0a2f90edf6"
   },
   "outputs": [
    {
     "data": {
      "text/plain": [
       "array(['19.203-INSTITUTO DE PESOS E MEDIDAS',\n",
       "       '19.203-INSTITUTO DE PESOS E MEDIDAS DE FORTALEZA'], dtype=object)"
      ]
     },
     "execution_count": 75,
     "metadata": {},
     "output_type": "execute_result"
    }
   ],
   "source": [
    "busca_unidade('19.203')"
   ]
  },
  {
   "cell_type": "code",
   "execution_count": 76,
   "metadata": {
    "colab": {
     "base_uri": "https://localhost:8080/"
    },
    "executionInfo": {
     "elapsed": 4,
     "status": "ok",
     "timestamp": 1688264147556,
     "user": {
      "displayName": "Gabriela Custódio",
      "userId": "17879241500396315997"
     },
     "user_tz": 180
    },
    "id": "ycBt4j-PgGck",
    "outputId": "5a332af1-d6f5-4037-c1bf-73824bb522a7"
   },
   "outputs": [
    {
     "name": "stdout",
     "output_type": "stream",
     "text": [
      "Instituto de Pesos e Medidas: https://www.fortaleza.ce.gov.br/institucional/a-secretaria-349\n"
     ]
    }
   ],
   "source": [
    "print('Instituto de Pesos e Medidas: https://www.fortaleza.ce.gov.br/institucional/a-secretaria-349')"
   ]
  },
  {
   "cell_type": "code",
   "execution_count": 77,
   "metadata": {
    "executionInfo": {
     "elapsed": 2,
     "status": "ok",
     "timestamp": 1688264148461,
     "user": {
      "displayName": "Gabriela Custódio",
      "userId": "17879241500396315997"
     },
     "user_tz": 180
    },
    "id": "2T3-D_TzgGf9"
   },
   "outputs": [],
   "source": [
    "df_2021_2023 = df_validos[df_validos['EXERCÍCIO'].isin([2021, 2022, 2023])]"
   ]
  },
  {
   "cell_type": "code",
   "execution_count": 78,
   "metadata": {
    "colab": {
     "base_uri": "https://localhost:8080/"
    },
    "executionInfo": {
     "elapsed": 2,
     "status": "ok",
     "timestamp": 1688264149562,
     "user": {
      "displayName": "Gabriela Custódio",
      "userId": "17879241500396315997"
     },
     "user_tz": 180
    },
    "id": "U9n_suJ-FOqA",
    "outputId": "2f6cf820-61be-4afa-c887-fd7f855cb0ea"
   },
   "outputs": [
    {
     "data": {
      "text/plain": [
       "EXERCÍCIO  SITUAÇÃO EMPENHO\n",
       "2022       Pago                406\n",
       "2021       Pago                307\n",
       "2023       Pago                189\n",
       "2022       Liquidado            22\n",
       "2023       Liquidado             4\n",
       "2021       Empenhado             2\n",
       "2023       Empenhado             1\n",
       "dtype: int64"
      ]
     },
     "execution_count": 78,
     "metadata": {},
     "output_type": "execute_result"
    }
   ],
   "source": [
    "df_2021_2023[['EXERCÍCIO', 'SITUAÇÃO EMPENHO']].value_counts()"
   ]
  },
  {
   "cell_type": "code",
   "execution_count": 79,
   "metadata": {
    "colab": {
     "base_uri": "https://localhost:8080/",
     "height": 1000
    },
    "executionInfo": {
     "elapsed": 5,
     "status": "ok",
     "timestamp": 1688264150574,
     "user": {
      "displayName": "Gabriela Custódio",
      "userId": "17879241500396315997"
     },
     "user_tz": 180
    },
    "id": "58dLdHcQFOt_",
    "outputId": "18b787c7-7fa1-408a-8f78-8373ffc82549"
   },
   "outputs": [
    {
     "data": {
      "text/html": [
       "<div>\n",
       "<style scoped>\n",
       "    .dataframe tbody tr th:only-of-type {\n",
       "        vertical-align: middle;\n",
       "    }\n",
       "\n",
       "    .dataframe tbody tr th {\n",
       "        vertical-align: top;\n",
       "    }\n",
       "\n",
       "    .dataframe thead th {\n",
       "        text-align: right;\n",
       "    }\n",
       "</style>\n",
       "<table border=\"1\" class=\"dataframe\">\n",
       "  <thead>\n",
       "    <tr style=\"text-align: right;\">\n",
       "      <th>EXERCÍCIO</th>\n",
       "      <th>2021</th>\n",
       "      <th>2022</th>\n",
       "      <th>2023</th>\n",
       "      <th>Total</th>\n",
       "    </tr>\n",
       "    <tr>\n",
       "      <th>COD_UNIDADE_ORÇAMENTARIA</th>\n",
       "      <th></th>\n",
       "      <th></th>\n",
       "      <th></th>\n",
       "      <th></th>\n",
       "    </tr>\n",
       "  </thead>\n",
       "  <tbody>\n",
       "    <tr>\n",
       "      <th>19.203</th>\n",
       "      <td>218.0</td>\n",
       "      <td>105.0</td>\n",
       "      <td>25.0</td>\n",
       "      <td>348.0</td>\n",
       "    </tr>\n",
       "    <tr>\n",
       "      <th>24.901</th>\n",
       "      <td>4.0</td>\n",
       "      <td>34.0</td>\n",
       "      <td>11.0</td>\n",
       "      <td>49.0</td>\n",
       "    </tr>\n",
       "    <tr>\n",
       "      <th>12.101</th>\n",
       "      <td>8.0</td>\n",
       "      <td>33.0</td>\n",
       "      <td>22.0</td>\n",
       "      <td>63.0</td>\n",
       "    </tr>\n",
       "    <tr>\n",
       "      <th>23.901</th>\n",
       "      <td>21.0</td>\n",
       "      <td>30.0</td>\n",
       "      <td>19.0</td>\n",
       "      <td>70.0</td>\n",
       "    </tr>\n",
       "    <tr>\n",
       "      <th>11.202</th>\n",
       "      <td>2.0</td>\n",
       "      <td>28.0</td>\n",
       "      <td>4.0</td>\n",
       "      <td>34.0</td>\n",
       "    </tr>\n",
       "    <tr>\n",
       "      <th>30.101</th>\n",
       "      <td>15.0</td>\n",
       "      <td>23.0</td>\n",
       "      <td>32.0</td>\n",
       "      <td>70.0</td>\n",
       "    </tr>\n",
       "    <tr>\n",
       "      <th>17.101</th>\n",
       "      <td>9.0</td>\n",
       "      <td>18.0</td>\n",
       "      <td>9.0</td>\n",
       "      <td>36.0</td>\n",
       "    </tr>\n",
       "    <tr>\n",
       "      <th>11.204</th>\n",
       "      <td>0.0</td>\n",
       "      <td>18.0</td>\n",
       "      <td>0.0</td>\n",
       "      <td>18.0</td>\n",
       "    </tr>\n",
       "    <tr>\n",
       "      <th>11.205</th>\n",
       "      <td>0.0</td>\n",
       "      <td>16.0</td>\n",
       "      <td>7.0</td>\n",
       "      <td>23.0</td>\n",
       "    </tr>\n",
       "    <tr>\n",
       "      <th>17.102</th>\n",
       "      <td>4.0</td>\n",
       "      <td>15.0</td>\n",
       "      <td>2.0</td>\n",
       "      <td>21.0</td>\n",
       "    </tr>\n",
       "    <tr>\n",
       "      <th>11.101</th>\n",
       "      <td>3.0</td>\n",
       "      <td>13.0</td>\n",
       "      <td>11.0</td>\n",
       "      <td>27.0</td>\n",
       "    </tr>\n",
       "    <tr>\n",
       "      <th>31.201</th>\n",
       "      <td>7.0</td>\n",
       "      <td>12.0</td>\n",
       "      <td>2.0</td>\n",
       "      <td>21.0</td>\n",
       "    </tr>\n",
       "    <tr>\n",
       "      <th>15.101</th>\n",
       "      <td>1.0</td>\n",
       "      <td>11.0</td>\n",
       "      <td>6.0</td>\n",
       "      <td>18.0</td>\n",
       "    </tr>\n",
       "    <tr>\n",
       "      <th>25.901</th>\n",
       "      <td>6.0</td>\n",
       "      <td>10.0</td>\n",
       "      <td>6.0</td>\n",
       "      <td>22.0</td>\n",
       "    </tr>\n",
       "    <tr>\n",
       "      <th>13.101</th>\n",
       "      <td>0.0</td>\n",
       "      <td>9.0</td>\n",
       "      <td>2.0</td>\n",
       "      <td>11.0</td>\n",
       "    </tr>\n",
       "    <tr>\n",
       "      <th>31.101</th>\n",
       "      <td>0.0</td>\n",
       "      <td>7.0</td>\n",
       "      <td>1.0</td>\n",
       "      <td>8.0</td>\n",
       "    </tr>\n",
       "    <tr>\n",
       "      <th>31.905</th>\n",
       "      <td>0.0</td>\n",
       "      <td>6.0</td>\n",
       "      <td>1.0</td>\n",
       "      <td>7.0</td>\n",
       "    </tr>\n",
       "    <tr>\n",
       "      <th>18.101</th>\n",
       "      <td>2.0</td>\n",
       "      <td>6.0</td>\n",
       "      <td>1.0</td>\n",
       "      <td>9.0</td>\n",
       "    </tr>\n",
       "    <tr>\n",
       "      <th>19.201</th>\n",
       "      <td>1.0</td>\n",
       "      <td>5.0</td>\n",
       "      <td>2.0</td>\n",
       "      <td>8.0</td>\n",
       "    </tr>\n",
       "    <tr>\n",
       "      <th>13.901</th>\n",
       "      <td>0.0</td>\n",
       "      <td>5.0</td>\n",
       "      <td>8.0</td>\n",
       "      <td>13.0</td>\n",
       "    </tr>\n",
       "    <tr>\n",
       "      <th>34.101</th>\n",
       "      <td>0.0</td>\n",
       "      <td>3.0</td>\n",
       "      <td>1.0</td>\n",
       "      <td>4.0</td>\n",
       "    </tr>\n",
       "    <tr>\n",
       "      <th>23.101</th>\n",
       "      <td>0.0</td>\n",
       "      <td>3.0</td>\n",
       "      <td>2.0</td>\n",
       "      <td>5.0</td>\n",
       "    </tr>\n",
       "    <tr>\n",
       "      <th>33.101</th>\n",
       "      <td>0.0</td>\n",
       "      <td>3.0</td>\n",
       "      <td>1.0</td>\n",
       "      <td>4.0</td>\n",
       "    </tr>\n",
       "    <tr>\n",
       "      <th>16.101</th>\n",
       "      <td>0.0</td>\n",
       "      <td>3.0</td>\n",
       "      <td>1.0</td>\n",
       "      <td>4.0</td>\n",
       "    </tr>\n",
       "    <tr>\n",
       "      <th>14.101</th>\n",
       "      <td>2.0</td>\n",
       "      <td>3.0</td>\n",
       "      <td>2.0</td>\n",
       "      <td>7.0</td>\n",
       "    </tr>\n",
       "    <tr>\n",
       "      <th>28.902</th>\n",
       "      <td>2.0</td>\n",
       "      <td>2.0</td>\n",
       "      <td>2.0</td>\n",
       "      <td>6.0</td>\n",
       "    </tr>\n",
       "    <tr>\n",
       "      <th>27.101</th>\n",
       "      <td>0.0</td>\n",
       "      <td>2.0</td>\n",
       "      <td>0.0</td>\n",
       "      <td>2.0</td>\n",
       "    </tr>\n",
       "    <tr>\n",
       "      <th>28.101</th>\n",
       "      <td>0.0</td>\n",
       "      <td>1.0</td>\n",
       "      <td>0.0</td>\n",
       "      <td>1.0</td>\n",
       "    </tr>\n",
       "    <tr>\n",
       "      <th>28.901</th>\n",
       "      <td>0.0</td>\n",
       "      <td>1.0</td>\n",
       "      <td>1.0</td>\n",
       "      <td>2.0</td>\n",
       "    </tr>\n",
       "    <tr>\n",
       "      <th>26.101</th>\n",
       "      <td>0.0</td>\n",
       "      <td>1.0</td>\n",
       "      <td>4.0</td>\n",
       "      <td>5.0</td>\n",
       "    </tr>\n",
       "    <tr>\n",
       "      <th>13.102</th>\n",
       "      <td>0.0</td>\n",
       "      <td>1.0</td>\n",
       "      <td>0.0</td>\n",
       "      <td>1.0</td>\n",
       "    </tr>\n",
       "    <tr>\n",
       "      <th>19.101</th>\n",
       "      <td>0.0</td>\n",
       "      <td>1.0</td>\n",
       "      <td>2.0</td>\n",
       "      <td>3.0</td>\n",
       "    </tr>\n",
       "    <tr>\n",
       "      <th>18.102</th>\n",
       "      <td>2.0</td>\n",
       "      <td>0.0</td>\n",
       "      <td>0.0</td>\n",
       "      <td>2.0</td>\n",
       "    </tr>\n",
       "    <tr>\n",
       "      <th>13.201</th>\n",
       "      <td>0.0</td>\n",
       "      <td>0.0</td>\n",
       "      <td>3.0</td>\n",
       "      <td>3.0</td>\n",
       "    </tr>\n",
       "    <tr>\n",
       "      <th>31.901</th>\n",
       "      <td>0.0</td>\n",
       "      <td>0.0</td>\n",
       "      <td>1.0</td>\n",
       "      <td>1.0</td>\n",
       "    </tr>\n",
       "    <tr>\n",
       "      <th>32.101</th>\n",
       "      <td>2.0</td>\n",
       "      <td>0.0</td>\n",
       "      <td>2.0</td>\n",
       "      <td>4.0</td>\n",
       "    </tr>\n",
       "    <tr>\n",
       "      <th>18.202</th>\n",
       "      <td>0.0</td>\n",
       "      <td>0.0</td>\n",
       "      <td>1.0</td>\n",
       "      <td>1.0</td>\n",
       "    </tr>\n",
       "  </tbody>\n",
       "</table>\n",
       "</div>"
      ],
      "text/plain": [
       "EXERCÍCIO                  2021   2022  2023  Total\n",
       "COD_UNIDADE_ORÇAMENTARIA                           \n",
       "19.203                    218.0  105.0  25.0  348.0\n",
       "24.901                      4.0   34.0  11.0   49.0\n",
       "12.101                      8.0   33.0  22.0   63.0\n",
       "23.901                     21.0   30.0  19.0   70.0\n",
       "11.202                      2.0   28.0   4.0   34.0\n",
       "30.101                     15.0   23.0  32.0   70.0\n",
       "17.101                      9.0   18.0   9.0   36.0\n",
       "11.204                      0.0   18.0   0.0   18.0\n",
       "11.205                      0.0   16.0   7.0   23.0\n",
       "17.102                      4.0   15.0   2.0   21.0\n",
       "11.101                      3.0   13.0  11.0   27.0\n",
       "31.201                      7.0   12.0   2.0   21.0\n",
       "15.101                      1.0   11.0   6.0   18.0\n",
       "25.901                      6.0   10.0   6.0   22.0\n",
       "13.101                      0.0    9.0   2.0   11.0\n",
       "31.101                      0.0    7.0   1.0    8.0\n",
       "31.905                      0.0    6.0   1.0    7.0\n",
       "18.101                      2.0    6.0   1.0    9.0\n",
       "19.201                      1.0    5.0   2.0    8.0\n",
       "13.901                      0.0    5.0   8.0   13.0\n",
       "34.101                      0.0    3.0   1.0    4.0\n",
       "23.101                      0.0    3.0   2.0    5.0\n",
       "33.101                      0.0    3.0   1.0    4.0\n",
       "16.101                      0.0    3.0   1.0    4.0\n",
       "14.101                      2.0    3.0   2.0    7.0\n",
       "28.902                      2.0    2.0   2.0    6.0\n",
       "27.101                      0.0    2.0   0.0    2.0\n",
       "28.101                      0.0    1.0   0.0    1.0\n",
       "28.901                      0.0    1.0   1.0    2.0\n",
       "26.101                      0.0    1.0   4.0    5.0\n",
       "13.102                      0.0    1.0   0.0    1.0\n",
       "19.101                      0.0    1.0   2.0    3.0\n",
       "18.102                      2.0    0.0   0.0    2.0\n",
       "13.201                      0.0    0.0   3.0    3.0\n",
       "31.901                      0.0    0.0   1.0    1.0\n",
       "32.101                      2.0    0.0   2.0    4.0\n",
       "18.202                      0.0    0.0   1.0    1.0"
      ]
     },
     "execution_count": 79,
     "metadata": {},
     "output_type": "execute_result"
    }
   ],
   "source": [
    "# Quantidade de viagens por ano\n",
    "\n",
    "viagens_orgao_ano_2021_2023 = df_2021_2023[['EXERCÍCIO', 'COD_UNIDADE_ORÇAMENTARIA', 'DESTINO']].value_counts().groupby(['EXERCÍCIO', 'COD_UNIDADE_ORÇAMENTARIA']).sum().reset_index()\n",
    "viagens_orgao_ano_2021_2023_pivot = viagens_orgao_ano_2021_2023.pivot_table(index='COD_UNIDADE_ORÇAMENTARIA', columns='EXERCÍCIO', values=0).fillna(0)\n",
    "\n",
    "\n",
    "# Para ver o total de viagens por órgão juntando todos os anos, executar a linha abaixo\n",
    "viagens_orgao_ano_2021_2023_pivot['Total'] = viagens_orgao_ano_2021_2023_pivot.apply(lambda x: sum(x), axis=1)\n",
    "viagens_orgao_ano_2021_2023_pivot.sort_values(2022, ascending=False)"
   ]
  },
  {
   "cell_type": "markdown",
   "metadata": {
    "id": "2OPhOpYQfvFl"
   },
   "source": [
    "## Observando os dados da secretaria de turismo"
   ]
  },
  {
   "cell_type": "code",
   "execution_count": 202,
   "metadata": {
    "executionInfo": {
     "elapsed": 282,
     "status": "ok",
     "timestamp": 1688267442198,
     "user": {
      "displayName": "Gabriela Custódio",
      "userId": "17879241500396315997"
     },
     "user_tz": 180
    },
    "id": "uIumAUL_f_UT"
   },
   "outputs": [],
   "source": [
    "funcionarios = df_validos[['EXERCÍCIO', 'BENEFICIÁRIO', 'SG_DESTINO', 'COD_UNIDADE_ORÇAMENTARIA', 'VALOR_TOTAL_CONVERTIDO']]"
   ]
  },
  {
   "cell_type": "code",
   "execution_count": 210,
   "metadata": {
    "executionInfo": {
     "elapsed": 1,
     "status": "ok",
     "timestamp": 1688267608419,
     "user": {
      "displayName": "Gabriela Custódio",
      "userId": "17879241500396315997"
     },
     "user_tz": 180
    },
    "id": "IJ58KuNtldJq"
   },
   "outputs": [],
   "source": [
    "# quantidade de funcionários com diarias pagas por órgão da prefeitura e ano\n",
    "funcionarios_unidade_orcamentaria = funcionarios[['EXERCÍCIO', 'COD_UNIDADE_ORÇAMENTARIA', 'BENEFICIÁRIO']].groupby(['EXERCÍCIO', 'COD_UNIDADE_ORÇAMENTARIA']).count().reset_index()"
   ]
  },
  {
   "cell_type": "code",
   "execution_count": 213,
   "metadata": {
    "colab": {
     "base_uri": "https://localhost:8080/",
     "height": 542
    },
    "executionInfo": {
     "elapsed": 484,
     "status": "ok",
     "timestamp": 1688267677154,
     "user": {
      "displayName": "Gabriela Custódio",
      "userId": "17879241500396315997"
     },
     "user_tz": 180
    },
    "id": "daRWFX3pf_X1",
    "outputId": "baf46e1a-871a-4208-8c2c-4f62cff2b158"
   },
   "outputs": [
    {
     "data": {
      "text/html": [
       "<html>\n",
       "<head><meta charset=\"utf-8\" /></head>\n",
       "<body>\n",
       "    <div>            <script src=\"https://cdnjs.cloudflare.com/ajax/libs/mathjax/2.7.5/MathJax.js?config=TeX-AMS-MML_SVG\"></script><script type=\"text/javascript\">if (window.MathJax && window.MathJax.Hub && window.MathJax.Hub.Config) {window.MathJax.Hub.Config({SVG: {font: \"STIX-Web\"}});}</script>                <script type=\"text/javascript\">window.PlotlyConfig = {MathJaxConfig: 'local'};</script>\n",
       "        <script src=\"https://cdn.plot.ly/plotly-2.18.2.min.js\"></script>                <div id=\"1d5d486a-e17c-4022-93a6-9200b9489b8d\" class=\"plotly-graph-div\" style=\"height:525px; width:100%;\"></div>            <script type=\"text/javascript\">                                    window.PLOTLYENV=window.PLOTLYENV || {};                                    if (document.getElementById(\"1d5d486a-e17c-4022-93a6-9200b9489b8d\")) {                    Plotly.newPlot(                        \"1d5d486a-e17c-4022-93a6-9200b9489b8d\",                        [{\"hovertemplate\":\"COD_UNIDADE_OR\\u00c7AMENTARIA=01.101<br>EXERC\\u00cdCIO=%{x}<br>BENEFICI\\u00c1RIO=%{y}<extra></extra>\",\"legendgroup\":\"01.101\",\"line\":{\"color\":\"#636efa\",\"dash\":\"solid\"},\"marker\":{\"symbol\":\"circle\"},\"mode\":\"lines\",\"name\":\"01.101\",\"orientation\":\"v\",\"showlegend\":true,\"x\":[2014],\"xaxis\":\"x\",\"y\":[2],\"yaxis\":\"y\",\"type\":\"scatter\"},{\"hovertemplate\":\"COD_UNIDADE_OR\\u00c7AMENTARIA=11.101<br>EXERC\\u00cdCIO=%{x}<br>BENEFICI\\u00c1RIO=%{y}<extra></extra>\",\"legendgroup\":\"11.101\",\"line\":{\"color\":\"#EF553B\",\"dash\":\"solid\"},\"marker\":{\"symbol\":\"circle\"},\"mode\":\"lines\",\"name\":\"11.101\",\"orientation\":\"v\",\"showlegend\":true,\"x\":[2014,2015,2016,2017,2018,2019,2020,2021,2022,2023],\"xaxis\":\"x\",\"y\":[46,49,23,44,49,52,12,3,13,11],\"yaxis\":\"y\",\"type\":\"scatter\"},{\"hovertemplate\":\"COD_UNIDADE_OR\\u00c7AMENTARIA=11.202<br>EXERC\\u00cdCIO=%{x}<br>BENEFICI\\u00c1RIO=%{y}<extra></extra>\",\"legendgroup\":\"11.202\",\"line\":{\"color\":\"#00cc96\",\"dash\":\"solid\"},\"marker\":{\"symbol\":\"circle\"},\"mode\":\"lines\",\"name\":\"11.202\",\"orientation\":\"v\",\"showlegend\":true,\"x\":[2014,2015,2016,2017,2018,2020,2021,2022,2023],\"xaxis\":\"x\",\"y\":[5,4,1,3,2,1,2,28,4],\"yaxis\":\"y\",\"type\":\"scatter\"},{\"hovertemplate\":\"COD_UNIDADE_OR\\u00c7AMENTARIA=11.203<br>EXERC\\u00cdCIO=%{x}<br>BENEFICI\\u00c1RIO=%{y}<extra></extra>\",\"legendgroup\":\"11.203\",\"line\":{\"color\":\"#ab63fa\",\"dash\":\"solid\"},\"marker\":{\"symbol\":\"circle\"},\"mode\":\"lines\",\"name\":\"11.203\",\"orientation\":\"v\",\"showlegend\":true,\"x\":[2014],\"xaxis\":\"x\",\"y\":[10],\"yaxis\":\"y\",\"type\":\"scatter\"},{\"hovertemplate\":\"COD_UNIDADE_OR\\u00c7AMENTARIA=13.101<br>EXERC\\u00cdCIO=%{x}<br>BENEFICI\\u00c1RIO=%{y}<extra></extra>\",\"legendgroup\":\"13.101\",\"line\":{\"color\":\"#FFA15A\",\"dash\":\"solid\"},\"marker\":{\"symbol\":\"circle\"},\"mode\":\"lines\",\"name\":\"13.101\",\"orientation\":\"v\",\"showlegend\":true,\"x\":[2014,2015,2016,2017,2018,2019,2020,2022,2023],\"xaxis\":\"x\",\"y\":[14,16,46,40,17,3,5,9,2],\"yaxis\":\"y\",\"type\":\"scatter\"},{\"hovertemplate\":\"COD_UNIDADE_OR\\u00c7AMENTARIA=13.201<br>EXERC\\u00cdCIO=%{x}<br>BENEFICI\\u00c1RIO=%{y}<extra></extra>\",\"legendgroup\":\"13.201\",\"line\":{\"color\":\"#19d3f3\",\"dash\":\"solid\"},\"marker\":{\"symbol\":\"circle\"},\"mode\":\"lines\",\"name\":\"13.201\",\"orientation\":\"v\",\"showlegend\":true,\"x\":[2014,2015,2016,2023],\"xaxis\":\"x\",\"y\":[2,3,11,3],\"yaxis\":\"y\",\"type\":\"scatter\"},{\"hovertemplate\":\"COD_UNIDADE_OR\\u00c7AMENTARIA=13.901<br>EXERC\\u00cdCIO=%{x}<br>BENEFICI\\u00c1RIO=%{y}<extra></extra>\",\"legendgroup\":\"13.901\",\"line\":{\"color\":\"#FF6692\",\"dash\":\"solid\"},\"marker\":{\"symbol\":\"circle\"},\"mode\":\"lines\",\"name\":\"13.901\",\"orientation\":\"v\",\"showlegend\":true,\"x\":[2014,2015,2016,2017,2018,2019,2020,2022,2023],\"xaxis\":\"x\",\"y\":[24,19,25,42,27,27,3,5,8],\"yaxis\":\"y\",\"type\":\"scatter\"},{\"hovertemplate\":\"COD_UNIDADE_OR\\u00c7AMENTARIA=15.101<br>EXERC\\u00cdCIO=%{x}<br>BENEFICI\\u00c1RIO=%{y}<extra></extra>\",\"legendgroup\":\"15.101\",\"line\":{\"color\":\"#B6E880\",\"dash\":\"solid\"},\"marker\":{\"symbol\":\"circle\"},\"mode\":\"lines\",\"name\":\"15.101\",\"orientation\":\"v\",\"showlegend\":true,\"x\":[2014,2015,2016,2017,2018,2019,2020,2021,2022,2023],\"xaxis\":\"x\",\"y\":[15,15,4,35,40,34,7,1,11,6],\"yaxis\":\"y\",\"type\":\"scatter\"},{\"hovertemplate\":\"COD_UNIDADE_OR\\u00c7AMENTARIA=16.101<br>EXERC\\u00cdCIO=%{x}<br>BENEFICI\\u00c1RIO=%{y}<extra></extra>\",\"legendgroup\":\"16.101\",\"line\":{\"color\":\"#FF97FF\",\"dash\":\"solid\"},\"marker\":{\"symbol\":\"circle\"},\"mode\":\"lines\",\"name\":\"16.101\",\"orientation\":\"v\",\"showlegend\":true,\"x\":[2014,2022,2023],\"xaxis\":\"x\",\"y\":[16,3,1],\"yaxis\":\"y\",\"type\":\"scatter\"},{\"hovertemplate\":\"COD_UNIDADE_OR\\u00c7AMENTARIA=17.101<br>EXERC\\u00cdCIO=%{x}<br>BENEFICI\\u00c1RIO=%{y}<extra></extra>\",\"legendgroup\":\"17.101\",\"line\":{\"color\":\"#FECB52\",\"dash\":\"solid\"},\"marker\":{\"symbol\":\"circle\"},\"mode\":\"lines\",\"name\":\"17.101\",\"orientation\":\"v\",\"showlegend\":true,\"x\":[2014,2015,2016,2017,2018,2019,2020,2021,2022,2023],\"xaxis\":\"x\",\"y\":[3,4,10,26,8,7,1,9,18,9],\"yaxis\":\"y\",\"type\":\"scatter\"},{\"hovertemplate\":\"COD_UNIDADE_OR\\u00c7AMENTARIA=17.102<br>EXERC\\u00cdCIO=%{x}<br>BENEFICI\\u00c1RIO=%{y}<extra></extra>\",\"legendgroup\":\"17.102\",\"line\":{\"color\":\"#636efa\",\"dash\":\"solid\"},\"marker\":{\"symbol\":\"circle\"},\"mode\":\"lines\",\"name\":\"17.102\",\"orientation\":\"v\",\"showlegend\":true,\"x\":[2014,2015,2016,2018,2019,2020,2021,2022,2023],\"xaxis\":\"x\",\"y\":[11,3,8,1,5,2,4,15,2],\"yaxis\":\"y\",\"type\":\"scatter\"},{\"hovertemplate\":\"COD_UNIDADE_OR\\u00c7AMENTARIA=18.101<br>EXERC\\u00cdCIO=%{x}<br>BENEFICI\\u00c1RIO=%{y}<extra></extra>\",\"legendgroup\":\"18.101\",\"line\":{\"color\":\"#EF553B\",\"dash\":\"solid\"},\"marker\":{\"symbol\":\"circle\"},\"mode\":\"lines\",\"name\":\"18.101\",\"orientation\":\"v\",\"showlegend\":true,\"x\":[2014,2015,2016,2017,2018,2019,2020,2021,2022,2023],\"xaxis\":\"x\",\"y\":[6,45,20,10,11,12,3,2,6,1],\"yaxis\":\"y\",\"type\":\"scatter\"},{\"hovertemplate\":\"COD_UNIDADE_OR\\u00c7AMENTARIA=18.201<br>EXERC\\u00cdCIO=%{x}<br>BENEFICI\\u00c1RIO=%{y}<extra></extra>\",\"legendgroup\":\"18.201\",\"line\":{\"color\":\"#00cc96\",\"dash\":\"solid\"},\"marker\":{\"symbol\":\"circle\"},\"mode\":\"lines\",\"name\":\"18.201\",\"orientation\":\"v\",\"showlegend\":true,\"x\":[2014],\"xaxis\":\"x\",\"y\":[2],\"yaxis\":\"y\",\"type\":\"scatter\"},{\"hovertemplate\":\"COD_UNIDADE_OR\\u00c7AMENTARIA=18.202<br>EXERC\\u00cdCIO=%{x}<br>BENEFICI\\u00c1RIO=%{y}<extra></extra>\",\"legendgroup\":\"18.202\",\"line\":{\"color\":\"#ab63fa\",\"dash\":\"solid\"},\"marker\":{\"symbol\":\"circle\"},\"mode\":\"lines\",\"name\":\"18.202\",\"orientation\":\"v\",\"showlegend\":true,\"x\":[2014,2015,2016,2017,2018,2019,2020,2023],\"xaxis\":\"x\",\"y\":[13,14,7,6,5,9,1,1],\"yaxis\":\"y\",\"type\":\"scatter\"},{\"hovertemplate\":\"COD_UNIDADE_OR\\u00c7AMENTARIA=18.203<br>EXERC\\u00cdCIO=%{x}<br>BENEFICI\\u00c1RIO=%{y}<extra></extra>\",\"legendgroup\":\"18.203\",\"line\":{\"color\":\"#FFA15A\",\"dash\":\"solid\"},\"marker\":{\"symbol\":\"circle\"},\"mode\":\"lines\",\"name\":\"18.203\",\"orientation\":\"v\",\"showlegend\":true,\"x\":[2014,2015,2018,2019],\"xaxis\":\"x\",\"y\":[1,2,4,1],\"yaxis\":\"y\",\"type\":\"scatter\"},{\"hovertemplate\":\"COD_UNIDADE_OR\\u00c7AMENTARIA=19.101<br>EXERC\\u00cdCIO=%{x}<br>BENEFICI\\u00c1RIO=%{y}<extra></extra>\",\"legendgroup\":\"19.101\",\"line\":{\"color\":\"#19d3f3\",\"dash\":\"solid\"},\"marker\":{\"symbol\":\"circle\"},\"mode\":\"lines\",\"name\":\"19.101\",\"orientation\":\"v\",\"showlegend\":true,\"x\":[2014,2015,2016,2017,2018,2019,2020,2022,2023],\"xaxis\":\"x\",\"y\":[8,11,12,18,16,33,3,1,2],\"yaxis\":\"y\",\"type\":\"scatter\"},{\"hovertemplate\":\"COD_UNIDADE_OR\\u00c7AMENTARIA=19.201<br>EXERC\\u00cdCIO=%{x}<br>BENEFICI\\u00c1RIO=%{y}<extra></extra>\",\"legendgroup\":\"19.201\",\"line\":{\"color\":\"#FF6692\",\"dash\":\"solid\"},\"marker\":{\"symbol\":\"circle\"},\"mode\":\"lines\",\"name\":\"19.201\",\"orientation\":\"v\",\"showlegend\":true,\"x\":[2014,2015,2016,2017,2018,2019,2020,2021,2022,2023],\"xaxis\":\"x\",\"y\":[2,6,4,4,9,14,1,1,5,2],\"yaxis\":\"y\",\"type\":\"scatter\"},{\"hovertemplate\":\"COD_UNIDADE_OR\\u00c7AMENTARIA=19.203<br>EXERC\\u00cdCIO=%{x}<br>BENEFICI\\u00c1RIO=%{y}<extra></extra>\",\"legendgroup\":\"19.203\",\"line\":{\"color\":\"#B6E880\",\"dash\":\"solid\"},\"marker\":{\"symbol\":\"circle\"},\"mode\":\"lines\",\"name\":\"19.203\",\"orientation\":\"v\",\"showlegend\":true,\"x\":[2014,2015,2016,2017,2018,2019,2020,2021,2022,2023],\"xaxis\":\"x\",\"y\":[836,552,761,1000,903,537,398,218,105,25],\"yaxis\":\"y\",\"type\":\"scatter\"},{\"hovertemplate\":\"COD_UNIDADE_OR\\u00c7AMENTARIA=23.101<br>EXERC\\u00cdCIO=%{x}<br>BENEFICI\\u00c1RIO=%{y}<extra></extra>\",\"legendgroup\":\"23.101\",\"line\":{\"color\":\"#FF97FF\",\"dash\":\"solid\"},\"marker\":{\"symbol\":\"circle\"},\"mode\":\"lines\",\"name\":\"23.101\",\"orientation\":\"v\",\"showlegend\":true,\"x\":[2014,2015,2016,2017,2019,2022,2023],\"xaxis\":\"x\",\"y\":[106,75,8,7,18,3,2],\"yaxis\":\"y\",\"type\":\"scatter\"},{\"hovertemplate\":\"COD_UNIDADE_OR\\u00c7AMENTARIA=24.901<br>EXERC\\u00cdCIO=%{x}<br>BENEFICI\\u00c1RIO=%{y}<extra></extra>\",\"legendgroup\":\"24.901\",\"line\":{\"color\":\"#FECB52\",\"dash\":\"solid\"},\"marker\":{\"symbol\":\"circle\"},\"mode\":\"lines\",\"name\":\"24.901\",\"orientation\":\"v\",\"showlegend\":true,\"x\":[2014,2015,2016,2017,2018,2019,2020,2021,2022,2023],\"xaxis\":\"x\",\"y\":[43,107,70,45,34,47,5,4,34,11],\"yaxis\":\"y\",\"type\":\"scatter\"},{\"hovertemplate\":\"COD_UNIDADE_OR\\u00c7AMENTARIA=25.201<br>EXERC\\u00cdCIO=%{x}<br>BENEFICI\\u00c1RIO=%{y}<extra></extra>\",\"legendgroup\":\"25.201\",\"line\":{\"color\":\"#636efa\",\"dash\":\"solid\"},\"marker\":{\"symbol\":\"circle\"},\"mode\":\"lines\",\"name\":\"25.201\",\"orientation\":\"v\",\"showlegend\":true,\"x\":[2014,2016,2017,2018,2019],\"xaxis\":\"x\",\"y\":[3,6,2,2,2],\"yaxis\":\"y\",\"type\":\"scatter\"},{\"hovertemplate\":\"COD_UNIDADE_OR\\u00c7AMENTARIA=25.901<br>EXERC\\u00cdCIO=%{x}<br>BENEFICI\\u00c1RIO=%{y}<extra></extra>\",\"legendgroup\":\"25.901\",\"line\":{\"color\":\"#EF553B\",\"dash\":\"solid\"},\"marker\":{\"symbol\":\"circle\"},\"mode\":\"lines\",\"name\":\"25.901\",\"orientation\":\"v\",\"showlegend\":true,\"x\":[2014,2015,2016,2017,2018,2019,2020,2021,2022,2023],\"xaxis\":\"x\",\"y\":[26,23,13,28,42,34,5,6,10,6],\"yaxis\":\"y\",\"type\":\"scatter\"},{\"hovertemplate\":\"COD_UNIDADE_OR\\u00c7AMENTARIA=26.101<br>EXERC\\u00cdCIO=%{x}<br>BENEFICI\\u00c1RIO=%{y}<extra></extra>\",\"legendgroup\":\"26.101\",\"line\":{\"color\":\"#00cc96\",\"dash\":\"solid\"},\"marker\":{\"symbol\":\"circle\"},\"mode\":\"lines\",\"name\":\"26.101\",\"orientation\":\"v\",\"showlegend\":true,\"x\":[2014,2015,2016,2017,2018,2019,2022,2023],\"xaxis\":\"x\",\"y\":[12,16,4,9,6,8,1,4],\"yaxis\":\"y\",\"type\":\"scatter\"},{\"hovertemplate\":\"COD_UNIDADE_OR\\u00c7AMENTARIA=27.101<br>EXERC\\u00cdCIO=%{x}<br>BENEFICI\\u00c1RIO=%{y}<extra></extra>\",\"legendgroup\":\"27.101\",\"line\":{\"color\":\"#ab63fa\",\"dash\":\"solid\"},\"marker\":{\"symbol\":\"circle\"},\"mode\":\"lines\",\"name\":\"27.101\",\"orientation\":\"v\",\"showlegend\":true,\"x\":[2014,2015,2016,2017,2018,2019,2020,2022],\"xaxis\":\"x\",\"y\":[49,47,27,24,17,12,3,2],\"yaxis\":\"y\",\"type\":\"scatter\"},{\"hovertemplate\":\"COD_UNIDADE_OR\\u00c7AMENTARIA=28.101<br>EXERC\\u00cdCIO=%{x}<br>BENEFICI\\u00c1RIO=%{y}<extra></extra>\",\"legendgroup\":\"28.101\",\"line\":{\"color\":\"#FFA15A\",\"dash\":\"solid\"},\"marker\":{\"symbol\":\"circle\"},\"mode\":\"lines\",\"name\":\"28.101\",\"orientation\":\"v\",\"showlegend\":true,\"x\":[2014,2015,2016,2017,2018,2019,2020,2022],\"xaxis\":\"x\",\"y\":[24,21,19,14,5,5,1,1],\"yaxis\":\"y\",\"type\":\"scatter\"},{\"hovertemplate\":\"COD_UNIDADE_OR\\u00c7AMENTARIA=28.901<br>EXERC\\u00cdCIO=%{x}<br>BENEFICI\\u00c1RIO=%{y}<extra></extra>\",\"legendgroup\":\"28.901\",\"line\":{\"color\":\"#19d3f3\",\"dash\":\"solid\"},\"marker\":{\"symbol\":\"circle\"},\"mode\":\"lines\",\"name\":\"28.901\",\"orientation\":\"v\",\"showlegend\":true,\"x\":[2014,2015,2016,2017,2018,2019,2022,2023],\"xaxis\":\"x\",\"y\":[10,22,17,8,4,3,1,1],\"yaxis\":\"y\",\"type\":\"scatter\"},{\"hovertemplate\":\"COD_UNIDADE_OR\\u00c7AMENTARIA=29.101<br>EXERC\\u00cdCIO=%{x}<br>BENEFICI\\u00c1RIO=%{y}<extra></extra>\",\"legendgroup\":\"29.101\",\"line\":{\"color\":\"#FF6692\",\"dash\":\"solid\"},\"marker\":{\"symbol\":\"circle\"},\"mode\":\"lines\",\"name\":\"29.101\",\"orientation\":\"v\",\"showlegend\":true,\"x\":[2014,2015,2016,2017,2019],\"xaxis\":\"x\",\"y\":[9,5,3,3,7],\"yaxis\":\"y\",\"type\":\"scatter\"},{\"hovertemplate\":\"COD_UNIDADE_OR\\u00c7AMENTARIA=30.101<br>EXERC\\u00cdCIO=%{x}<br>BENEFICI\\u00c1RIO=%{y}<extra></extra>\",\"legendgroup\":\"30.101\",\"line\":{\"color\":\"#B6E880\",\"dash\":\"solid\"},\"marker\":{\"symbol\":\"circle\"},\"mode\":\"lines\",\"name\":\"30.101\",\"orientation\":\"v\",\"showlegend\":true,\"x\":[2014,2015,2016,2017,2018,2019,2020,2021,2022,2023],\"xaxis\":\"x\",\"y\":[29,30,23,20,15,41,5,15,23,32],\"yaxis\":\"y\",\"type\":\"scatter\"},{\"hovertemplate\":\"COD_UNIDADE_OR\\u00c7AMENTARIA=31.101<br>EXERC\\u00cdCIO=%{x}<br>BENEFICI\\u00c1RIO=%{y}<extra></extra>\",\"legendgroup\":\"31.101\",\"line\":{\"color\":\"#FF97FF\",\"dash\":\"solid\"},\"marker\":{\"symbol\":\"circle\"},\"mode\":\"lines\",\"name\":\"31.101\",\"orientation\":\"v\",\"showlegend\":true,\"x\":[2014,2015,2016,2017,2018,2019,2020,2022,2023],\"xaxis\":\"x\",\"y\":[16,41,18,3,9,14,3,7,1],\"yaxis\":\"y\",\"type\":\"scatter\"},{\"hovertemplate\":\"COD_UNIDADE_OR\\u00c7AMENTARIA=31.901<br>EXERC\\u00cdCIO=%{x}<br>BENEFICI\\u00c1RIO=%{y}<extra></extra>\",\"legendgroup\":\"31.901\",\"line\":{\"color\":\"#FECB52\",\"dash\":\"solid\"},\"marker\":{\"symbol\":\"circle\"},\"mode\":\"lines\",\"name\":\"31.901\",\"orientation\":\"v\",\"showlegend\":true,\"x\":[2014,2015,2016,2017,2018,2019,2020,2023],\"xaxis\":\"x\",\"y\":[1,11,4,10,15,9,1,1],\"yaxis\":\"y\",\"type\":\"scatter\"},{\"hovertemplate\":\"COD_UNIDADE_OR\\u00c7AMENTARIA=32.101<br>EXERC\\u00cdCIO=%{x}<br>BENEFICI\\u00c1RIO=%{y}<extra></extra>\",\"legendgroup\":\"32.101\",\"line\":{\"color\":\"#636efa\",\"dash\":\"solid\"},\"marker\":{\"symbol\":\"circle\"},\"mode\":\"lines\",\"name\":\"32.101\",\"orientation\":\"v\",\"showlegend\":true,\"x\":[2014,2015,2016,2017,2018,2019,2020,2021,2023],\"xaxis\":\"x\",\"y\":[13,11,7,7,7,15,4,2,2],\"yaxis\":\"y\",\"type\":\"scatter\"},{\"hovertemplate\":\"COD_UNIDADE_OR\\u00c7AMENTARIA=35.101<br>EXERC\\u00cdCIO=%{x}<br>BENEFICI\\u00c1RIO=%{y}<extra></extra>\",\"legendgroup\":\"35.101\",\"line\":{\"color\":\"#EF553B\",\"dash\":\"solid\"},\"marker\":{\"symbol\":\"circle\"},\"mode\":\"lines\",\"name\":\"35.101\",\"orientation\":\"v\",\"showlegend\":true,\"x\":[2014,2015,2016,2017],\"xaxis\":\"x\",\"y\":[11,12,5,1],\"yaxis\":\"y\",\"type\":\"scatter\"},{\"hovertemplate\":\"COD_UNIDADE_OR\\u00c7AMENTARIA=35.201<br>EXERC\\u00cdCIO=%{x}<br>BENEFICI\\u00c1RIO=%{y}<extra></extra>\",\"legendgroup\":\"35.201\",\"line\":{\"color\":\"#00cc96\",\"dash\":\"solid\"},\"marker\":{\"symbol\":\"circle\"},\"mode\":\"lines\",\"name\":\"35.201\",\"orientation\":\"v\",\"showlegend\":true,\"x\":[2014],\"xaxis\":\"x\",\"y\":[4],\"yaxis\":\"y\",\"type\":\"scatter\"},{\"hovertemplate\":\"COD_UNIDADE_OR\\u00c7AMENTARIA=52.101<br>EXERC\\u00cdCIO=%{x}<br>BENEFICI\\u00c1RIO=%{y}<extra></extra>\",\"legendgroup\":\"52.101\",\"line\":{\"color\":\"#ab63fa\",\"dash\":\"solid\"},\"marker\":{\"symbol\":\"circle\"},\"mode\":\"lines\",\"name\":\"52.101\",\"orientation\":\"v\",\"showlegend\":true,\"x\":[2014],\"xaxis\":\"x\",\"y\":[20],\"yaxis\":\"y\",\"type\":\"scatter\"},{\"hovertemplate\":\"COD_UNIDADE_OR\\u00c7AMENTARIA=11.204<br>EXERC\\u00cdCIO=%{x}<br>BENEFICI\\u00c1RIO=%{y}<extra></extra>\",\"legendgroup\":\"11.204\",\"line\":{\"color\":\"#FFA15A\",\"dash\":\"solid\"},\"marker\":{\"symbol\":\"circle\"},\"mode\":\"lines\",\"name\":\"11.204\",\"orientation\":\"v\",\"showlegend\":true,\"x\":[2015,2016,2017,2018,2019,2022],\"xaxis\":\"x\",\"y\":[4,7,3,16,19,18],\"yaxis\":\"y\",\"type\":\"scatter\"},{\"hovertemplate\":\"COD_UNIDADE_OR\\u00c7AMENTARIA=11.205<br>EXERC\\u00cdCIO=%{x}<br>BENEFICI\\u00c1RIO=%{y}<extra></extra>\",\"legendgroup\":\"11.205\",\"line\":{\"color\":\"#19d3f3\",\"dash\":\"solid\"},\"marker\":{\"symbol\":\"circle\"},\"mode\":\"lines\",\"name\":\"11.205\",\"orientation\":\"v\",\"showlegend\":true,\"x\":[2015,2016,2017,2018,2019,2022,2023],\"xaxis\":\"x\",\"y\":[3,4,9,11,11,16,7],\"yaxis\":\"y\",\"type\":\"scatter\"},{\"hovertemplate\":\"COD_UNIDADE_OR\\u00c7AMENTARIA=14.101<br>EXERC\\u00cdCIO=%{x}<br>BENEFICI\\u00c1RIO=%{y}<extra></extra>\",\"legendgroup\":\"14.101\",\"line\":{\"color\":\"#FF6692\",\"dash\":\"solid\"},\"marker\":{\"symbol\":\"circle\"},\"mode\":\"lines\",\"name\":\"14.101\",\"orientation\":\"v\",\"showlegend\":true,\"x\":[2015,2016,2017,2018,2019,2020,2021,2022,2023],\"xaxis\":\"x\",\"y\":[14,4,5,1,5,2,2,3,2],\"yaxis\":\"y\",\"type\":\"scatter\"},{\"hovertemplate\":\"COD_UNIDADE_OR\\u00c7AMENTARIA=31.201<br>EXERC\\u00cdCIO=%{x}<br>BENEFICI\\u00c1RIO=%{y}<extra></extra>\",\"legendgroup\":\"31.201\",\"line\":{\"color\":\"#B6E880\",\"dash\":\"solid\"},\"marker\":{\"symbol\":\"circle\"},\"mode\":\"lines\",\"name\":\"31.201\",\"orientation\":\"v\",\"showlegend\":true,\"x\":[2015,2016,2017,2018,2019,2020,2021,2022,2023],\"xaxis\":\"x\",\"y\":[12,5,19,19,14,1,7,12,2],\"yaxis\":\"y\",\"type\":\"scatter\"},{\"hovertemplate\":\"COD_UNIDADE_OR\\u00c7AMENTARIA=34.101<br>EXERC\\u00cdCIO=%{x}<br>BENEFICI\\u00c1RIO=%{y}<extra></extra>\",\"legendgroup\":\"34.101\",\"line\":{\"color\":\"#FF97FF\",\"dash\":\"solid\"},\"marker\":{\"symbol\":\"circle\"},\"mode\":\"lines\",\"name\":\"34.101\",\"orientation\":\"v\",\"showlegend\":true,\"x\":[2015,2016,2017,2018,2019,2020,2022,2023],\"xaxis\":\"x\",\"y\":[12,19,11,12,20,3,3,1],\"yaxis\":\"y\",\"type\":\"scatter\"},{\"hovertemplate\":\"COD_UNIDADE_OR\\u00c7AMENTARIA=35.102<br>EXERC\\u00cdCIO=%{x}<br>BENEFICI\\u00c1RIO=%{y}<extra></extra>\",\"legendgroup\":\"35.102\",\"line\":{\"color\":\"#FECB52\",\"dash\":\"solid\"},\"marker\":{\"symbol\":\"circle\"},\"mode\":\"lines\",\"name\":\"35.102\",\"orientation\":\"v\",\"showlegend\":true,\"x\":[2015,2016,2017],\"xaxis\":\"x\",\"y\":[3,5,2],\"yaxis\":\"y\",\"type\":\"scatter\"},{\"hovertemplate\":\"COD_UNIDADE_OR\\u00c7AMENTARIA=44.101<br>EXERC\\u00cdCIO=%{x}<br>BENEFICI\\u00c1RIO=%{y}<extra></extra>\",\"legendgroup\":\"44.101\",\"line\":{\"color\":\"#636efa\",\"dash\":\"solid\"},\"marker\":{\"symbol\":\"circle\"},\"mode\":\"lines\",\"name\":\"44.101\",\"orientation\":\"v\",\"showlegend\":true,\"x\":[2015,2016],\"xaxis\":\"x\",\"y\":[2,5],\"yaxis\":\"y\",\"type\":\"scatter\"},{\"hovertemplate\":\"COD_UNIDADE_OR\\u00c7AMENTARIA=23.901<br>EXERC\\u00cdCIO=%{x}<br>BENEFICI\\u00c1RIO=%{y}<extra></extra>\",\"legendgroup\":\"23.901\",\"line\":{\"color\":\"#EF553B\",\"dash\":\"solid\"},\"marker\":{\"symbol\":\"circle\"},\"mode\":\"lines\",\"name\":\"23.901\",\"orientation\":\"v\",\"showlegend\":true,\"x\":[2016,2017,2018,2019,2020,2021,2022,2023],\"xaxis\":\"x\",\"y\":[72,89,117,106,5,21,30,19],\"yaxis\":\"y\",\"type\":\"scatter\"},{\"hovertemplate\":\"COD_UNIDADE_OR\\u00c7AMENTARIA=45.101<br>EXERC\\u00cdCIO=%{x}<br>BENEFICI\\u00c1RIO=%{y}<extra></extra>\",\"legendgroup\":\"45.101\",\"line\":{\"color\":\"#00cc96\",\"dash\":\"solid\"},\"marker\":{\"symbol\":\"circle\"},\"mode\":\"lines\",\"name\":\"45.101\",\"orientation\":\"v\",\"showlegend\":true,\"x\":[2016],\"xaxis\":\"x\",\"y\":[1],\"yaxis\":\"y\",\"type\":\"scatter\"},{\"hovertemplate\":\"COD_UNIDADE_OR\\u00c7AMENTARIA=12.101<br>EXERC\\u00cdCIO=%{x}<br>BENEFICI\\u00c1RIO=%{y}<extra></extra>\",\"legendgroup\":\"12.101\",\"line\":{\"color\":\"#ab63fa\",\"dash\":\"solid\"},\"marker\":{\"symbol\":\"circle\"},\"mode\":\"lines\",\"name\":\"12.101\",\"orientation\":\"v\",\"showlegend\":true,\"x\":[2017,2018,2019,2020,2021,2022,2023],\"xaxis\":\"x\",\"y\":[8,19,10,1,8,33,22],\"yaxis\":\"y\",\"type\":\"scatter\"},{\"hovertemplate\":\"COD_UNIDADE_OR\\u00c7AMENTARIA=19.206<br>EXERC\\u00cdCIO=%{x}<br>BENEFICI\\u00c1RIO=%{y}<extra></extra>\",\"legendgroup\":\"19.206\",\"line\":{\"color\":\"#FFA15A\",\"dash\":\"solid\"},\"marker\":{\"symbol\":\"circle\"},\"mode\":\"lines\",\"name\":\"19.206\",\"orientation\":\"v\",\"showlegend\":true,\"x\":[2017,2018,2019],\"xaxis\":\"x\",\"y\":[3,1,1],\"yaxis\":\"y\",\"type\":\"scatter\"},{\"hovertemplate\":\"COD_UNIDADE_OR\\u00c7AMENTARIA=28.902<br>EXERC\\u00cdCIO=%{x}<br>BENEFICI\\u00c1RIO=%{y}<extra></extra>\",\"legendgroup\":\"28.902\",\"line\":{\"color\":\"#19d3f3\",\"dash\":\"solid\"},\"marker\":{\"symbol\":\"circle\"},\"mode\":\"lines\",\"name\":\"28.902\",\"orientation\":\"v\",\"showlegend\":true,\"x\":[2017,2018,2019,2020,2021,2022,2023],\"xaxis\":\"x\",\"y\":[9,24,32,1,2,2,2],\"yaxis\":\"y\",\"type\":\"scatter\"},{\"hovertemplate\":\"COD_UNIDADE_OR\\u00c7AMENTARIA=41.101<br>EXERC\\u00cdCIO=%{x}<br>BENEFICI\\u00c1RIO=%{y}<extra></extra>\",\"legendgroup\":\"41.101\",\"line\":{\"color\":\"#FF6692\",\"dash\":\"solid\"},\"marker\":{\"symbol\":\"circle\"},\"mode\":\"lines\",\"name\":\"41.101\",\"orientation\":\"v\",\"showlegend\":true,\"x\":[2017],\"xaxis\":\"x\",\"y\":[1],\"yaxis\":\"y\",\"type\":\"scatter\"},{\"hovertemplate\":\"COD_UNIDADE_OR\\u00c7AMENTARIA=18.102<br>EXERC\\u00cdCIO=%{x}<br>BENEFICI\\u00c1RIO=%{y}<extra></extra>\",\"legendgroup\":\"18.102\",\"line\":{\"color\":\"#B6E880\",\"dash\":\"solid\"},\"marker\":{\"symbol\":\"circle\"},\"mode\":\"lines\",\"name\":\"18.102\",\"orientation\":\"v\",\"showlegend\":true,\"x\":[2018,2019,2021],\"xaxis\":\"x\",\"y\":[5,2,2],\"yaxis\":\"y\",\"type\":\"scatter\"},{\"hovertemplate\":\"COD_UNIDADE_OR\\u00c7AMENTARIA=31.102<br>EXERC\\u00cdCIO=%{x}<br>BENEFICI\\u00c1RIO=%{y}<extra></extra>\",\"legendgroup\":\"31.102\",\"line\":{\"color\":\"#FF97FF\",\"dash\":\"solid\"},\"marker\":{\"symbol\":\"circle\"},\"mode\":\"lines\",\"name\":\"31.102\",\"orientation\":\"v\",\"showlegend\":true,\"x\":[2019],\"xaxis\":\"x\",\"y\":[2],\"yaxis\":\"y\",\"type\":\"scatter\"},{\"hovertemplate\":\"COD_UNIDADE_OR\\u00c7AMENTARIA=42.101<br>EXERC\\u00cdCIO=%{x}<br>BENEFICI\\u00c1RIO=%{y}<extra></extra>\",\"legendgroup\":\"42.101\",\"line\":{\"color\":\"#FECB52\",\"dash\":\"solid\"},\"marker\":{\"symbol\":\"circle\"},\"mode\":\"lines\",\"name\":\"42.101\",\"orientation\":\"v\",\"showlegend\":true,\"x\":[2019,2020],\"xaxis\":\"x\",\"y\":[2,1],\"yaxis\":\"y\",\"type\":\"scatter\"},{\"hovertemplate\":\"COD_UNIDADE_OR\\u00c7AMENTARIA=13.102<br>EXERC\\u00cdCIO=%{x}<br>BENEFICI\\u00c1RIO=%{y}<extra></extra>\",\"legendgroup\":\"13.102\",\"line\":{\"color\":\"#636efa\",\"dash\":\"solid\"},\"marker\":{\"symbol\":\"circle\"},\"mode\":\"lines\",\"name\":\"13.102\",\"orientation\":\"v\",\"showlegend\":true,\"x\":[2022],\"xaxis\":\"x\",\"y\":[1],\"yaxis\":\"y\",\"type\":\"scatter\"},{\"hovertemplate\":\"COD_UNIDADE_OR\\u00c7AMENTARIA=31.905<br>EXERC\\u00cdCIO=%{x}<br>BENEFICI\\u00c1RIO=%{y}<extra></extra>\",\"legendgroup\":\"31.905\",\"line\":{\"color\":\"#EF553B\",\"dash\":\"solid\"},\"marker\":{\"symbol\":\"circle\"},\"mode\":\"lines\",\"name\":\"31.905\",\"orientation\":\"v\",\"showlegend\":true,\"x\":[2022,2023],\"xaxis\":\"x\",\"y\":[6,1],\"yaxis\":\"y\",\"type\":\"scatter\"},{\"hovertemplate\":\"COD_UNIDADE_OR\\u00c7AMENTARIA=33.101<br>EXERC\\u00cdCIO=%{x}<br>BENEFICI\\u00c1RIO=%{y}<extra></extra>\",\"legendgroup\":\"33.101\",\"line\":{\"color\":\"#00cc96\",\"dash\":\"solid\"},\"marker\":{\"symbol\":\"circle\"},\"mode\":\"lines\",\"name\":\"33.101\",\"orientation\":\"v\",\"showlegend\":true,\"x\":[2022,2023],\"xaxis\":\"x\",\"y\":[3,1],\"yaxis\":\"y\",\"type\":\"scatter\"}],                        {\"template\":{\"data\":{\"histogram2dcontour\":[{\"type\":\"histogram2dcontour\",\"colorbar\":{\"outlinewidth\":0,\"ticks\":\"\"},\"colorscale\":[[0.0,\"#0d0887\"],[0.1111111111111111,\"#46039f\"],[0.2222222222222222,\"#7201a8\"],[0.3333333333333333,\"#9c179e\"],[0.4444444444444444,\"#bd3786\"],[0.5555555555555556,\"#d8576b\"],[0.6666666666666666,\"#ed7953\"],[0.7777777777777778,\"#fb9f3a\"],[0.8888888888888888,\"#fdca26\"],[1.0,\"#f0f921\"]]}],\"choropleth\":[{\"type\":\"choropleth\",\"colorbar\":{\"outlinewidth\":0,\"ticks\":\"\"}}],\"histogram2d\":[{\"type\":\"histogram2d\",\"colorbar\":{\"outlinewidth\":0,\"ticks\":\"\"},\"colorscale\":[[0.0,\"#0d0887\"],[0.1111111111111111,\"#46039f\"],[0.2222222222222222,\"#7201a8\"],[0.3333333333333333,\"#9c179e\"],[0.4444444444444444,\"#bd3786\"],[0.5555555555555556,\"#d8576b\"],[0.6666666666666666,\"#ed7953\"],[0.7777777777777778,\"#fb9f3a\"],[0.8888888888888888,\"#fdca26\"],[1.0,\"#f0f921\"]]}],\"heatmap\":[{\"type\":\"heatmap\",\"colorbar\":{\"outlinewidth\":0,\"ticks\":\"\"},\"colorscale\":[[0.0,\"#0d0887\"],[0.1111111111111111,\"#46039f\"],[0.2222222222222222,\"#7201a8\"],[0.3333333333333333,\"#9c179e\"],[0.4444444444444444,\"#bd3786\"],[0.5555555555555556,\"#d8576b\"],[0.6666666666666666,\"#ed7953\"],[0.7777777777777778,\"#fb9f3a\"],[0.8888888888888888,\"#fdca26\"],[1.0,\"#f0f921\"]]}],\"heatmapgl\":[{\"type\":\"heatmapgl\",\"colorbar\":{\"outlinewidth\":0,\"ticks\":\"\"},\"colorscale\":[[0.0,\"#0d0887\"],[0.1111111111111111,\"#46039f\"],[0.2222222222222222,\"#7201a8\"],[0.3333333333333333,\"#9c179e\"],[0.4444444444444444,\"#bd3786\"],[0.5555555555555556,\"#d8576b\"],[0.6666666666666666,\"#ed7953\"],[0.7777777777777778,\"#fb9f3a\"],[0.8888888888888888,\"#fdca26\"],[1.0,\"#f0f921\"]]}],\"contourcarpet\":[{\"type\":\"contourcarpet\",\"colorbar\":{\"outlinewidth\":0,\"ticks\":\"\"}}],\"contour\":[{\"type\":\"contour\",\"colorbar\":{\"outlinewidth\":0,\"ticks\":\"\"},\"colorscale\":[[0.0,\"#0d0887\"],[0.1111111111111111,\"#46039f\"],[0.2222222222222222,\"#7201a8\"],[0.3333333333333333,\"#9c179e\"],[0.4444444444444444,\"#bd3786\"],[0.5555555555555556,\"#d8576b\"],[0.6666666666666666,\"#ed7953\"],[0.7777777777777778,\"#fb9f3a\"],[0.8888888888888888,\"#fdca26\"],[1.0,\"#f0f921\"]]}],\"surface\":[{\"type\":\"surface\",\"colorbar\":{\"outlinewidth\":0,\"ticks\":\"\"},\"colorscale\":[[0.0,\"#0d0887\"],[0.1111111111111111,\"#46039f\"],[0.2222222222222222,\"#7201a8\"],[0.3333333333333333,\"#9c179e\"],[0.4444444444444444,\"#bd3786\"],[0.5555555555555556,\"#d8576b\"],[0.6666666666666666,\"#ed7953\"],[0.7777777777777778,\"#fb9f3a\"],[0.8888888888888888,\"#fdca26\"],[1.0,\"#f0f921\"]]}],\"mesh3d\":[{\"type\":\"mesh3d\",\"colorbar\":{\"outlinewidth\":0,\"ticks\":\"\"}}],\"scatter\":[{\"fillpattern\":{\"fillmode\":\"overlay\",\"size\":10,\"solidity\":0.2},\"type\":\"scatter\"}],\"parcoords\":[{\"type\":\"parcoords\",\"line\":{\"colorbar\":{\"outlinewidth\":0,\"ticks\":\"\"}}}],\"scatterpolargl\":[{\"type\":\"scatterpolargl\",\"marker\":{\"colorbar\":{\"outlinewidth\":0,\"ticks\":\"\"}}}],\"bar\":[{\"error_x\":{\"color\":\"#2a3f5f\"},\"error_y\":{\"color\":\"#2a3f5f\"},\"marker\":{\"line\":{\"color\":\"#E5ECF6\",\"width\":0.5},\"pattern\":{\"fillmode\":\"overlay\",\"size\":10,\"solidity\":0.2}},\"type\":\"bar\"}],\"scattergeo\":[{\"type\":\"scattergeo\",\"marker\":{\"colorbar\":{\"outlinewidth\":0,\"ticks\":\"\"}}}],\"scatterpolar\":[{\"type\":\"scatterpolar\",\"marker\":{\"colorbar\":{\"outlinewidth\":0,\"ticks\":\"\"}}}],\"histogram\":[{\"marker\":{\"pattern\":{\"fillmode\":\"overlay\",\"size\":10,\"solidity\":0.2}},\"type\":\"histogram\"}],\"scattergl\":[{\"type\":\"scattergl\",\"marker\":{\"colorbar\":{\"outlinewidth\":0,\"ticks\":\"\"}}}],\"scatter3d\":[{\"type\":\"scatter3d\",\"line\":{\"colorbar\":{\"outlinewidth\":0,\"ticks\":\"\"}},\"marker\":{\"colorbar\":{\"outlinewidth\":0,\"ticks\":\"\"}}}],\"scattermapbox\":[{\"type\":\"scattermapbox\",\"marker\":{\"colorbar\":{\"outlinewidth\":0,\"ticks\":\"\"}}}],\"scatterternary\":[{\"type\":\"scatterternary\",\"marker\":{\"colorbar\":{\"outlinewidth\":0,\"ticks\":\"\"}}}],\"scattercarpet\":[{\"type\":\"scattercarpet\",\"marker\":{\"colorbar\":{\"outlinewidth\":0,\"ticks\":\"\"}}}],\"carpet\":[{\"aaxis\":{\"endlinecolor\":\"#2a3f5f\",\"gridcolor\":\"white\",\"linecolor\":\"white\",\"minorgridcolor\":\"white\",\"startlinecolor\":\"#2a3f5f\"},\"baxis\":{\"endlinecolor\":\"#2a3f5f\",\"gridcolor\":\"white\",\"linecolor\":\"white\",\"minorgridcolor\":\"white\",\"startlinecolor\":\"#2a3f5f\"},\"type\":\"carpet\"}],\"table\":[{\"cells\":{\"fill\":{\"color\":\"#EBF0F8\"},\"line\":{\"color\":\"white\"}},\"header\":{\"fill\":{\"color\":\"#C8D4E3\"},\"line\":{\"color\":\"white\"}},\"type\":\"table\"}],\"barpolar\":[{\"marker\":{\"line\":{\"color\":\"#E5ECF6\",\"width\":0.5},\"pattern\":{\"fillmode\":\"overlay\",\"size\":10,\"solidity\":0.2}},\"type\":\"barpolar\"}],\"pie\":[{\"automargin\":true,\"type\":\"pie\"}]},\"layout\":{\"autotypenumbers\":\"strict\",\"colorway\":[\"#636efa\",\"#EF553B\",\"#00cc96\",\"#ab63fa\",\"#FFA15A\",\"#19d3f3\",\"#FF6692\",\"#B6E880\",\"#FF97FF\",\"#FECB52\"],\"font\":{\"color\":\"#2a3f5f\"},\"hovermode\":\"closest\",\"hoverlabel\":{\"align\":\"left\"},\"paper_bgcolor\":\"white\",\"plot_bgcolor\":\"#E5ECF6\",\"polar\":{\"bgcolor\":\"#E5ECF6\",\"angularaxis\":{\"gridcolor\":\"white\",\"linecolor\":\"white\",\"ticks\":\"\"},\"radialaxis\":{\"gridcolor\":\"white\",\"linecolor\":\"white\",\"ticks\":\"\"}},\"ternary\":{\"bgcolor\":\"#E5ECF6\",\"aaxis\":{\"gridcolor\":\"white\",\"linecolor\":\"white\",\"ticks\":\"\"},\"baxis\":{\"gridcolor\":\"white\",\"linecolor\":\"white\",\"ticks\":\"\"},\"caxis\":{\"gridcolor\":\"white\",\"linecolor\":\"white\",\"ticks\":\"\"}},\"coloraxis\":{\"colorbar\":{\"outlinewidth\":0,\"ticks\":\"\"}},\"colorscale\":{\"sequential\":[[0.0,\"#0d0887\"],[0.1111111111111111,\"#46039f\"],[0.2222222222222222,\"#7201a8\"],[0.3333333333333333,\"#9c179e\"],[0.4444444444444444,\"#bd3786\"],[0.5555555555555556,\"#d8576b\"],[0.6666666666666666,\"#ed7953\"],[0.7777777777777778,\"#fb9f3a\"],[0.8888888888888888,\"#fdca26\"],[1.0,\"#f0f921\"]],\"sequentialminus\":[[0.0,\"#0d0887\"],[0.1111111111111111,\"#46039f\"],[0.2222222222222222,\"#7201a8\"],[0.3333333333333333,\"#9c179e\"],[0.4444444444444444,\"#bd3786\"],[0.5555555555555556,\"#d8576b\"],[0.6666666666666666,\"#ed7953\"],[0.7777777777777778,\"#fb9f3a\"],[0.8888888888888888,\"#fdca26\"],[1.0,\"#f0f921\"]],\"diverging\":[[0,\"#8e0152\"],[0.1,\"#c51b7d\"],[0.2,\"#de77ae\"],[0.3,\"#f1b6da\"],[0.4,\"#fde0ef\"],[0.5,\"#f7f7f7\"],[0.6,\"#e6f5d0\"],[0.7,\"#b8e186\"],[0.8,\"#7fbc41\"],[0.9,\"#4d9221\"],[1,\"#276419\"]]},\"xaxis\":{\"gridcolor\":\"white\",\"linecolor\":\"white\",\"ticks\":\"\",\"title\":{\"standoff\":15},\"zerolinecolor\":\"white\",\"automargin\":true,\"zerolinewidth\":2},\"yaxis\":{\"gridcolor\":\"white\",\"linecolor\":\"white\",\"ticks\":\"\",\"title\":{\"standoff\":15},\"zerolinecolor\":\"white\",\"automargin\":true,\"zerolinewidth\":2},\"scene\":{\"xaxis\":{\"backgroundcolor\":\"#E5ECF6\",\"gridcolor\":\"white\",\"linecolor\":\"white\",\"showbackground\":true,\"ticks\":\"\",\"zerolinecolor\":\"white\",\"gridwidth\":2},\"yaxis\":{\"backgroundcolor\":\"#E5ECF6\",\"gridcolor\":\"white\",\"linecolor\":\"white\",\"showbackground\":true,\"ticks\":\"\",\"zerolinecolor\":\"white\",\"gridwidth\":2},\"zaxis\":{\"backgroundcolor\":\"#E5ECF6\",\"gridcolor\":\"white\",\"linecolor\":\"white\",\"showbackground\":true,\"ticks\":\"\",\"zerolinecolor\":\"white\",\"gridwidth\":2}},\"shapedefaults\":{\"line\":{\"color\":\"#2a3f5f\"}},\"annotationdefaults\":{\"arrowcolor\":\"#2a3f5f\",\"arrowhead\":0,\"arrowwidth\":1},\"geo\":{\"bgcolor\":\"white\",\"landcolor\":\"#E5ECF6\",\"subunitcolor\":\"white\",\"showland\":true,\"showlakes\":true,\"lakecolor\":\"white\"},\"title\":{\"x\":0.05},\"mapbox\":{\"style\":\"light\"}}},\"xaxis\":{\"anchor\":\"y\",\"domain\":[0.0,1.0],\"title\":{\"text\":\"EXERC\\u00cdCIO\"}},\"yaxis\":{\"anchor\":\"x\",\"domain\":[0.0,1.0],\"title\":{\"text\":\"BENEFICI\\u00c1RIO\"}},\"legend\":{\"title\":{\"text\":\"COD_UNIDADE_OR\\u00c7AMENTARIA\"},\"tracegroupgap\":0},\"margin\":{\"t\":60}},                        {\"responsive\": true}                    ).then(function(){\n",
       "                            \n",
       "var gd = document.getElementById('1d5d486a-e17c-4022-93a6-9200b9489b8d');\n",
       "var x = new MutationObserver(function (mutations, observer) {{\n",
       "        var display = window.getComputedStyle(gd).display;\n",
       "        if (!display || display === 'none') {{\n",
       "            console.log([gd, 'removed!']);\n",
       "            Plotly.purge(gd);\n",
       "            observer.disconnect();\n",
       "        }}\n",
       "}});\n",
       "\n",
       "// Listen for the removal of the full notebook cells\n",
       "var notebookContainer = gd.closest('#notebook-container');\n",
       "if (notebookContainer) {{\n",
       "    x.observe(notebookContainer, {childList: true});\n",
       "}}\n",
       "\n",
       "// Listen for the clearing of the current output cell\n",
       "var outputEl = gd.closest('.output');\n",
       "if (outputEl) {{\n",
       "    x.observe(outputEl, {childList: true});\n",
       "}}\n",
       "\n",
       "                        })                };                            </script>        </div>\n",
       "</body>\n",
       "</html>"
      ]
     },
     "metadata": {},
     "output_type": "display_data"
    }
   ],
   "source": [
    "px.line(funcionarios_unidade_orcamentaria, y='BENEFICIÁRIO' , x='EXERCÍCIO', color='COD_UNIDADE_ORÇAMENTARIA')"
   ]
  },
  {
   "cell_type": "code",
   "execution_count": 222,
   "metadata": {
    "colab": {
     "base_uri": "https://localhost:8080/"
    },
    "executionInfo": {
     "elapsed": 302,
     "status": "ok",
     "timestamp": 1688268048886,
     "user": {
      "displayName": "Gabriela Custódio",
      "userId": "17879241500396315997"
     },
     "user_tz": 180
    },
    "id": "Nb1CpA8bmK5O",
    "outputId": "86f5bbf7-811a-4e96-d73b-35956f78299c"
   },
   "outputs": [
    {
     "data": {
      "text/plain": [
       "array(['30.101-SECRETARIA MUNICIPAL DO TURISMO DE FORTALEZA',\n",
       "       '30.101-SECRETARIA MUNICIPAL DE TURISMO DE FORTALEZA'],\n",
       "      dtype=object)"
      ]
     },
     "execution_count": 222,
     "metadata": {},
     "output_type": "execute_result"
    }
   ],
   "source": [
    "busca_unidade('30.101')"
   ]
  },
  {
   "cell_type": "code",
   "execution_count": 219,
   "metadata": {
    "colab": {
     "base_uri": "https://localhost:8080/",
     "height": 1000
    },
    "executionInfo": {
     "elapsed": 509,
     "status": "ok",
     "timestamp": 1688267906196,
     "user": {
      "displayName": "Gabriela Custódio",
      "userId": "17879241500396315997"
     },
     "user_tz": 180
    },
    "id": "NZm-NJndjnE2",
    "outputId": "f5602edf-23fe-41a5-cffd-aa840d559a19"
   },
   "outputs": [
    {
     "data": {
      "text/html": [
       "\n",
       "  <div id=\"df-80ebde8d-d3a3-456f-a6cc-70b1ba4dc8cf\">\n",
       "    <div class=\"colab-df-container\">\n",
       "      <div>\n",
       "<style scoped>\n",
       "    .dataframe tbody tr th:only-of-type {\n",
       "        vertical-align: middle;\n",
       "    }\n",
       "\n",
       "    .dataframe tbody tr th {\n",
       "        vertical-align: top;\n",
       "    }\n",
       "\n",
       "    .dataframe thead tr th {\n",
       "        text-align: left;\n",
       "    }\n",
       "\n",
       "    .dataframe thead tr:last-of-type th {\n",
       "        text-align: right;\n",
       "    }\n",
       "</style>\n",
       "<table border=\"1\" class=\"dataframe\">\n",
       "  <thead>\n",
       "    <tr>\n",
       "      <th></th>\n",
       "      <th colspan=\"10\" halign=\"left\">BENEFICIÁRIO</th>\n",
       "    </tr>\n",
       "    <tr>\n",
       "      <th>EXERCÍCIO</th>\n",
       "      <th>2014</th>\n",
       "      <th>2015</th>\n",
       "      <th>2016</th>\n",
       "      <th>2017</th>\n",
       "      <th>2018</th>\n",
       "      <th>2019</th>\n",
       "      <th>2020</th>\n",
       "      <th>2021</th>\n",
       "      <th>2022</th>\n",
       "      <th>2023</th>\n",
       "    </tr>\n",
       "    <tr>\n",
       "      <th>COD_UNIDADE_ORÇAMENTARIA</th>\n",
       "      <th></th>\n",
       "      <th></th>\n",
       "      <th></th>\n",
       "      <th></th>\n",
       "      <th></th>\n",
       "      <th></th>\n",
       "      <th></th>\n",
       "      <th></th>\n",
       "      <th></th>\n",
       "      <th></th>\n",
       "    </tr>\n",
       "  </thead>\n",
       "  <tbody>\n",
       "    <tr>\n",
       "      <th>30.101</th>\n",
       "      <td>29.0</td>\n",
       "      <td>30.0</td>\n",
       "      <td>23.0</td>\n",
       "      <td>20.0</td>\n",
       "      <td>15.0</td>\n",
       "      <td>41.0</td>\n",
       "      <td>5.0</td>\n",
       "      <td>15.0</td>\n",
       "      <td>23.0</td>\n",
       "      <td>32.0</td>\n",
       "    </tr>\n",
       "    <tr>\n",
       "      <th>19.203</th>\n",
       "      <td>836.0</td>\n",
       "      <td>552.0</td>\n",
       "      <td>761.0</td>\n",
       "      <td>1000.0</td>\n",
       "      <td>903.0</td>\n",
       "      <td>537.0</td>\n",
       "      <td>398.0</td>\n",
       "      <td>218.0</td>\n",
       "      <td>105.0</td>\n",
       "      <td>25.0</td>\n",
       "    </tr>\n",
       "    <tr>\n",
       "      <th>12.101</th>\n",
       "      <td>0.0</td>\n",
       "      <td>0.0</td>\n",
       "      <td>0.0</td>\n",
       "      <td>8.0</td>\n",
       "      <td>19.0</td>\n",
       "      <td>10.0</td>\n",
       "      <td>1.0</td>\n",
       "      <td>8.0</td>\n",
       "      <td>33.0</td>\n",
       "      <td>22.0</td>\n",
       "    </tr>\n",
       "    <tr>\n",
       "      <th>23.901</th>\n",
       "      <td>0.0</td>\n",
       "      <td>0.0</td>\n",
       "      <td>72.0</td>\n",
       "      <td>89.0</td>\n",
       "      <td>117.0</td>\n",
       "      <td>106.0</td>\n",
       "      <td>5.0</td>\n",
       "      <td>21.0</td>\n",
       "      <td>30.0</td>\n",
       "      <td>19.0</td>\n",
       "    </tr>\n",
       "    <tr>\n",
       "      <th>11.101</th>\n",
       "      <td>46.0</td>\n",
       "      <td>49.0</td>\n",
       "      <td>23.0</td>\n",
       "      <td>44.0</td>\n",
       "      <td>49.0</td>\n",
       "      <td>52.0</td>\n",
       "      <td>12.0</td>\n",
       "      <td>3.0</td>\n",
       "      <td>13.0</td>\n",
       "      <td>11.0</td>\n",
       "    </tr>\n",
       "    <tr>\n",
       "      <th>24.901</th>\n",
       "      <td>43.0</td>\n",
       "      <td>107.0</td>\n",
       "      <td>70.0</td>\n",
       "      <td>45.0</td>\n",
       "      <td>34.0</td>\n",
       "      <td>47.0</td>\n",
       "      <td>5.0</td>\n",
       "      <td>4.0</td>\n",
       "      <td>34.0</td>\n",
       "      <td>11.0</td>\n",
       "    </tr>\n",
       "    <tr>\n",
       "      <th>17.101</th>\n",
       "      <td>3.0</td>\n",
       "      <td>4.0</td>\n",
       "      <td>10.0</td>\n",
       "      <td>26.0</td>\n",
       "      <td>8.0</td>\n",
       "      <td>7.0</td>\n",
       "      <td>1.0</td>\n",
       "      <td>9.0</td>\n",
       "      <td>18.0</td>\n",
       "      <td>9.0</td>\n",
       "    </tr>\n",
       "    <tr>\n",
       "      <th>13.901</th>\n",
       "      <td>24.0</td>\n",
       "      <td>19.0</td>\n",
       "      <td>25.0</td>\n",
       "      <td>42.0</td>\n",
       "      <td>27.0</td>\n",
       "      <td>27.0</td>\n",
       "      <td>3.0</td>\n",
       "      <td>0.0</td>\n",
       "      <td>5.0</td>\n",
       "      <td>8.0</td>\n",
       "    </tr>\n",
       "    <tr>\n",
       "      <th>11.205</th>\n",
       "      <td>0.0</td>\n",
       "      <td>3.0</td>\n",
       "      <td>4.0</td>\n",
       "      <td>9.0</td>\n",
       "      <td>11.0</td>\n",
       "      <td>11.0</td>\n",
       "      <td>0.0</td>\n",
       "      <td>0.0</td>\n",
       "      <td>16.0</td>\n",
       "      <td>7.0</td>\n",
       "    </tr>\n",
       "    <tr>\n",
       "      <th>15.101</th>\n",
       "      <td>15.0</td>\n",
       "      <td>15.0</td>\n",
       "      <td>4.0</td>\n",
       "      <td>35.0</td>\n",
       "      <td>40.0</td>\n",
       "      <td>34.0</td>\n",
       "      <td>7.0</td>\n",
       "      <td>1.0</td>\n",
       "      <td>11.0</td>\n",
       "      <td>6.0</td>\n",
       "    </tr>\n",
       "    <tr>\n",
       "      <th>25.901</th>\n",
       "      <td>26.0</td>\n",
       "      <td>23.0</td>\n",
       "      <td>13.0</td>\n",
       "      <td>28.0</td>\n",
       "      <td>42.0</td>\n",
       "      <td>34.0</td>\n",
       "      <td>5.0</td>\n",
       "      <td>6.0</td>\n",
       "      <td>10.0</td>\n",
       "      <td>6.0</td>\n",
       "    </tr>\n",
       "    <tr>\n",
       "      <th>11.202</th>\n",
       "      <td>5.0</td>\n",
       "      <td>4.0</td>\n",
       "      <td>1.0</td>\n",
       "      <td>3.0</td>\n",
       "      <td>2.0</td>\n",
       "      <td>0.0</td>\n",
       "      <td>1.0</td>\n",
       "      <td>2.0</td>\n",
       "      <td>28.0</td>\n",
       "      <td>4.0</td>\n",
       "    </tr>\n",
       "    <tr>\n",
       "      <th>26.101</th>\n",
       "      <td>12.0</td>\n",
       "      <td>16.0</td>\n",
       "      <td>4.0</td>\n",
       "      <td>9.0</td>\n",
       "      <td>6.0</td>\n",
       "      <td>8.0</td>\n",
       "      <td>0.0</td>\n",
       "      <td>0.0</td>\n",
       "      <td>1.0</td>\n",
       "      <td>4.0</td>\n",
       "    </tr>\n",
       "    <tr>\n",
       "      <th>13.201</th>\n",
       "      <td>2.0</td>\n",
       "      <td>3.0</td>\n",
       "      <td>11.0</td>\n",
       "      <td>0.0</td>\n",
       "      <td>0.0</td>\n",
       "      <td>0.0</td>\n",
       "      <td>0.0</td>\n",
       "      <td>0.0</td>\n",
       "      <td>0.0</td>\n",
       "      <td>3.0</td>\n",
       "    </tr>\n",
       "    <tr>\n",
       "      <th>31.201</th>\n",
       "      <td>0.0</td>\n",
       "      <td>12.0</td>\n",
       "      <td>5.0</td>\n",
       "      <td>19.0</td>\n",
       "      <td>19.0</td>\n",
       "      <td>14.0</td>\n",
       "      <td>1.0</td>\n",
       "      <td>7.0</td>\n",
       "      <td>12.0</td>\n",
       "      <td>2.0</td>\n",
       "    </tr>\n",
       "    <tr>\n",
       "      <th>23.101</th>\n",
       "      <td>106.0</td>\n",
       "      <td>75.0</td>\n",
       "      <td>8.0</td>\n",
       "      <td>7.0</td>\n",
       "      <td>0.0</td>\n",
       "      <td>18.0</td>\n",
       "      <td>0.0</td>\n",
       "      <td>0.0</td>\n",
       "      <td>3.0</td>\n",
       "      <td>2.0</td>\n",
       "    </tr>\n",
       "    <tr>\n",
       "      <th>19.201</th>\n",
       "      <td>2.0</td>\n",
       "      <td>6.0</td>\n",
       "      <td>4.0</td>\n",
       "      <td>4.0</td>\n",
       "      <td>9.0</td>\n",
       "      <td>14.0</td>\n",
       "      <td>1.0</td>\n",
       "      <td>1.0</td>\n",
       "      <td>5.0</td>\n",
       "      <td>2.0</td>\n",
       "    </tr>\n",
       "    <tr>\n",
       "      <th>19.101</th>\n",
       "      <td>8.0</td>\n",
       "      <td>11.0</td>\n",
       "      <td>12.0</td>\n",
       "      <td>18.0</td>\n",
       "      <td>16.0</td>\n",
       "      <td>33.0</td>\n",
       "      <td>3.0</td>\n",
       "      <td>0.0</td>\n",
       "      <td>1.0</td>\n",
       "      <td>2.0</td>\n",
       "    </tr>\n",
       "    <tr>\n",
       "      <th>32.101</th>\n",
       "      <td>13.0</td>\n",
       "      <td>11.0</td>\n",
       "      <td>7.0</td>\n",
       "      <td>7.0</td>\n",
       "      <td>7.0</td>\n",
       "      <td>15.0</td>\n",
       "      <td>4.0</td>\n",
       "      <td>2.0</td>\n",
       "      <td>0.0</td>\n",
       "      <td>2.0</td>\n",
       "    </tr>\n",
       "    <tr>\n",
       "      <th>13.101</th>\n",
       "      <td>14.0</td>\n",
       "      <td>16.0</td>\n",
       "      <td>46.0</td>\n",
       "      <td>40.0</td>\n",
       "      <td>17.0</td>\n",
       "      <td>3.0</td>\n",
       "      <td>5.0</td>\n",
       "      <td>0.0</td>\n",
       "      <td>9.0</td>\n",
       "      <td>2.0</td>\n",
       "    </tr>\n",
       "    <tr>\n",
       "      <th>17.102</th>\n",
       "      <td>11.0</td>\n",
       "      <td>3.0</td>\n",
       "      <td>8.0</td>\n",
       "      <td>0.0</td>\n",
       "      <td>1.0</td>\n",
       "      <td>5.0</td>\n",
       "      <td>2.0</td>\n",
       "      <td>4.0</td>\n",
       "      <td>15.0</td>\n",
       "      <td>2.0</td>\n",
       "    </tr>\n",
       "    <tr>\n",
       "      <th>28.902</th>\n",
       "      <td>0.0</td>\n",
       "      <td>0.0</td>\n",
       "      <td>0.0</td>\n",
       "      <td>9.0</td>\n",
       "      <td>24.0</td>\n",
       "      <td>32.0</td>\n",
       "      <td>1.0</td>\n",
       "      <td>2.0</td>\n",
       "      <td>2.0</td>\n",
       "      <td>2.0</td>\n",
       "    </tr>\n",
       "    <tr>\n",
       "      <th>14.101</th>\n",
       "      <td>0.0</td>\n",
       "      <td>14.0</td>\n",
       "      <td>4.0</td>\n",
       "      <td>5.0</td>\n",
       "      <td>1.0</td>\n",
       "      <td>5.0</td>\n",
       "      <td>2.0</td>\n",
       "      <td>2.0</td>\n",
       "      <td>3.0</td>\n",
       "      <td>2.0</td>\n",
       "    </tr>\n",
       "    <tr>\n",
       "      <th>31.905</th>\n",
       "      <td>0.0</td>\n",
       "      <td>0.0</td>\n",
       "      <td>0.0</td>\n",
       "      <td>0.0</td>\n",
       "      <td>0.0</td>\n",
       "      <td>0.0</td>\n",
       "      <td>0.0</td>\n",
       "      <td>0.0</td>\n",
       "      <td>6.0</td>\n",
       "      <td>1.0</td>\n",
       "    </tr>\n",
       "    <tr>\n",
       "      <th>28.901</th>\n",
       "      <td>10.0</td>\n",
       "      <td>22.0</td>\n",
       "      <td>17.0</td>\n",
       "      <td>8.0</td>\n",
       "      <td>4.0</td>\n",
       "      <td>3.0</td>\n",
       "      <td>0.0</td>\n",
       "      <td>0.0</td>\n",
       "      <td>1.0</td>\n",
       "      <td>1.0</td>\n",
       "    </tr>\n",
       "    <tr>\n",
       "      <th>31.101</th>\n",
       "      <td>16.0</td>\n",
       "      <td>41.0</td>\n",
       "      <td>18.0</td>\n",
       "      <td>3.0</td>\n",
       "      <td>9.0</td>\n",
       "      <td>14.0</td>\n",
       "      <td>3.0</td>\n",
       "      <td>0.0</td>\n",
       "      <td>7.0</td>\n",
       "      <td>1.0</td>\n",
       "    </tr>\n",
       "    <tr>\n",
       "      <th>34.101</th>\n",
       "      <td>0.0</td>\n",
       "      <td>12.0</td>\n",
       "      <td>19.0</td>\n",
       "      <td>11.0</td>\n",
       "      <td>12.0</td>\n",
       "      <td>20.0</td>\n",
       "      <td>3.0</td>\n",
       "      <td>0.0</td>\n",
       "      <td>3.0</td>\n",
       "      <td>1.0</td>\n",
       "    </tr>\n",
       "    <tr>\n",
       "      <th>33.101</th>\n",
       "      <td>0.0</td>\n",
       "      <td>0.0</td>\n",
       "      <td>0.0</td>\n",
       "      <td>0.0</td>\n",
       "      <td>0.0</td>\n",
       "      <td>0.0</td>\n",
       "      <td>0.0</td>\n",
       "      <td>0.0</td>\n",
       "      <td>3.0</td>\n",
       "      <td>1.0</td>\n",
       "    </tr>\n",
       "    <tr>\n",
       "      <th>18.202</th>\n",
       "      <td>13.0</td>\n",
       "      <td>14.0</td>\n",
       "      <td>7.0</td>\n",
       "      <td>6.0</td>\n",
       "      <td>5.0</td>\n",
       "      <td>9.0</td>\n",
       "      <td>1.0</td>\n",
       "      <td>0.0</td>\n",
       "      <td>0.0</td>\n",
       "      <td>1.0</td>\n",
       "    </tr>\n",
       "    <tr>\n",
       "      <th>18.101</th>\n",
       "      <td>6.0</td>\n",
       "      <td>45.0</td>\n",
       "      <td>20.0</td>\n",
       "      <td>10.0</td>\n",
       "      <td>11.0</td>\n",
       "      <td>12.0</td>\n",
       "      <td>3.0</td>\n",
       "      <td>2.0</td>\n",
       "      <td>6.0</td>\n",
       "      <td>1.0</td>\n",
       "    </tr>\n",
       "    <tr>\n",
       "      <th>16.101</th>\n",
       "      <td>16.0</td>\n",
       "      <td>0.0</td>\n",
       "      <td>0.0</td>\n",
       "      <td>0.0</td>\n",
       "      <td>0.0</td>\n",
       "      <td>0.0</td>\n",
       "      <td>0.0</td>\n",
       "      <td>0.0</td>\n",
       "      <td>3.0</td>\n",
       "      <td>1.0</td>\n",
       "    </tr>\n",
       "    <tr>\n",
       "      <th>31.901</th>\n",
       "      <td>1.0</td>\n",
       "      <td>11.0</td>\n",
       "      <td>4.0</td>\n",
       "      <td>10.0</td>\n",
       "      <td>15.0</td>\n",
       "      <td>9.0</td>\n",
       "      <td>1.0</td>\n",
       "      <td>0.0</td>\n",
       "      <td>0.0</td>\n",
       "      <td>1.0</td>\n",
       "    </tr>\n",
       "    <tr>\n",
       "      <th>35.101</th>\n",
       "      <td>11.0</td>\n",
       "      <td>12.0</td>\n",
       "      <td>5.0</td>\n",
       "      <td>1.0</td>\n",
       "      <td>0.0</td>\n",
       "      <td>0.0</td>\n",
       "      <td>0.0</td>\n",
       "      <td>0.0</td>\n",
       "      <td>0.0</td>\n",
       "      <td>0.0</td>\n",
       "    </tr>\n",
       "    <tr>\n",
       "      <th>35.102</th>\n",
       "      <td>0.0</td>\n",
       "      <td>3.0</td>\n",
       "      <td>5.0</td>\n",
       "      <td>2.0</td>\n",
       "      <td>0.0</td>\n",
       "      <td>0.0</td>\n",
       "      <td>0.0</td>\n",
       "      <td>0.0</td>\n",
       "      <td>0.0</td>\n",
       "      <td>0.0</td>\n",
       "    </tr>\n",
       "    <tr>\n",
       "      <th>35.201</th>\n",
       "      <td>4.0</td>\n",
       "      <td>0.0</td>\n",
       "      <td>0.0</td>\n",
       "      <td>0.0</td>\n",
       "      <td>0.0</td>\n",
       "      <td>0.0</td>\n",
       "      <td>0.0</td>\n",
       "      <td>0.0</td>\n",
       "      <td>0.0</td>\n",
       "      <td>0.0</td>\n",
       "    </tr>\n",
       "    <tr>\n",
       "      <th>41.101</th>\n",
       "      <td>0.0</td>\n",
       "      <td>0.0</td>\n",
       "      <td>0.0</td>\n",
       "      <td>1.0</td>\n",
       "      <td>0.0</td>\n",
       "      <td>0.0</td>\n",
       "      <td>0.0</td>\n",
       "      <td>0.0</td>\n",
       "      <td>0.0</td>\n",
       "      <td>0.0</td>\n",
       "    </tr>\n",
       "    <tr>\n",
       "      <th>42.101</th>\n",
       "      <td>0.0</td>\n",
       "      <td>0.0</td>\n",
       "      <td>0.0</td>\n",
       "      <td>0.0</td>\n",
       "      <td>0.0</td>\n",
       "      <td>2.0</td>\n",
       "      <td>1.0</td>\n",
       "      <td>0.0</td>\n",
       "      <td>0.0</td>\n",
       "      <td>0.0</td>\n",
       "    </tr>\n",
       "    <tr>\n",
       "      <th>44.101</th>\n",
       "      <td>0.0</td>\n",
       "      <td>2.0</td>\n",
       "      <td>5.0</td>\n",
       "      <td>0.0</td>\n",
       "      <td>0.0</td>\n",
       "      <td>0.0</td>\n",
       "      <td>0.0</td>\n",
       "      <td>0.0</td>\n",
       "      <td>0.0</td>\n",
       "      <td>0.0</td>\n",
       "    </tr>\n",
       "    <tr>\n",
       "      <th>45.101</th>\n",
       "      <td>0.0</td>\n",
       "      <td>0.0</td>\n",
       "      <td>1.0</td>\n",
       "      <td>0.0</td>\n",
       "      <td>0.0</td>\n",
       "      <td>0.0</td>\n",
       "      <td>0.0</td>\n",
       "      <td>0.0</td>\n",
       "      <td>0.0</td>\n",
       "      <td>0.0</td>\n",
       "    </tr>\n",
       "    <tr>\n",
       "      <th>01.101</th>\n",
       "      <td>2.0</td>\n",
       "      <td>0.0</td>\n",
       "      <td>0.0</td>\n",
       "      <td>0.0</td>\n",
       "      <td>0.0</td>\n",
       "      <td>0.0</td>\n",
       "      <td>0.0</td>\n",
       "      <td>0.0</td>\n",
       "      <td>0.0</td>\n",
       "      <td>0.0</td>\n",
       "    </tr>\n",
       "    <tr>\n",
       "      <th>31.102</th>\n",
       "      <td>0.0</td>\n",
       "      <td>0.0</td>\n",
       "      <td>0.0</td>\n",
       "      <td>0.0</td>\n",
       "      <td>0.0</td>\n",
       "      <td>2.0</td>\n",
       "      <td>0.0</td>\n",
       "      <td>0.0</td>\n",
       "      <td>0.0</td>\n",
       "      <td>0.0</td>\n",
       "    </tr>\n",
       "    <tr>\n",
       "      <th>29.101</th>\n",
       "      <td>9.0</td>\n",
       "      <td>5.0</td>\n",
       "      <td>3.0</td>\n",
       "      <td>3.0</td>\n",
       "      <td>0.0</td>\n",
       "      <td>7.0</td>\n",
       "      <td>0.0</td>\n",
       "      <td>0.0</td>\n",
       "      <td>0.0</td>\n",
       "      <td>0.0</td>\n",
       "    </tr>\n",
       "    <tr>\n",
       "      <th>28.101</th>\n",
       "      <td>24.0</td>\n",
       "      <td>21.0</td>\n",
       "      <td>19.0</td>\n",
       "      <td>14.0</td>\n",
       "      <td>5.0</td>\n",
       "      <td>5.0</td>\n",
       "      <td>1.0</td>\n",
       "      <td>0.0</td>\n",
       "      <td>1.0</td>\n",
       "      <td>0.0</td>\n",
       "    </tr>\n",
       "    <tr>\n",
       "      <th>27.101</th>\n",
       "      <td>49.0</td>\n",
       "      <td>47.0</td>\n",
       "      <td>27.0</td>\n",
       "      <td>24.0</td>\n",
       "      <td>17.0</td>\n",
       "      <td>12.0</td>\n",
       "      <td>3.0</td>\n",
       "      <td>0.0</td>\n",
       "      <td>2.0</td>\n",
       "      <td>0.0</td>\n",
       "    </tr>\n",
       "    <tr>\n",
       "      <th>25.201</th>\n",
       "      <td>3.0</td>\n",
       "      <td>0.0</td>\n",
       "      <td>6.0</td>\n",
       "      <td>2.0</td>\n",
       "      <td>2.0</td>\n",
       "      <td>2.0</td>\n",
       "      <td>0.0</td>\n",
       "      <td>0.0</td>\n",
       "      <td>0.0</td>\n",
       "      <td>0.0</td>\n",
       "    </tr>\n",
       "    <tr>\n",
       "      <th>19.206</th>\n",
       "      <td>0.0</td>\n",
       "      <td>0.0</td>\n",
       "      <td>0.0</td>\n",
       "      <td>3.0</td>\n",
       "      <td>1.0</td>\n",
       "      <td>1.0</td>\n",
       "      <td>0.0</td>\n",
       "      <td>0.0</td>\n",
       "      <td>0.0</td>\n",
       "      <td>0.0</td>\n",
       "    </tr>\n",
       "    <tr>\n",
       "      <th>18.203</th>\n",
       "      <td>1.0</td>\n",
       "      <td>2.0</td>\n",
       "      <td>0.0</td>\n",
       "      <td>0.0</td>\n",
       "      <td>4.0</td>\n",
       "      <td>1.0</td>\n",
       "      <td>0.0</td>\n",
       "      <td>0.0</td>\n",
       "      <td>0.0</td>\n",
       "      <td>0.0</td>\n",
       "    </tr>\n",
       "    <tr>\n",
       "      <th>18.201</th>\n",
       "      <td>2.0</td>\n",
       "      <td>0.0</td>\n",
       "      <td>0.0</td>\n",
       "      <td>0.0</td>\n",
       "      <td>0.0</td>\n",
       "      <td>0.0</td>\n",
       "      <td>0.0</td>\n",
       "      <td>0.0</td>\n",
       "      <td>0.0</td>\n",
       "      <td>0.0</td>\n",
       "    </tr>\n",
       "    <tr>\n",
       "      <th>18.102</th>\n",
       "      <td>0.0</td>\n",
       "      <td>0.0</td>\n",
       "      <td>0.0</td>\n",
       "      <td>0.0</td>\n",
       "      <td>5.0</td>\n",
       "      <td>2.0</td>\n",
       "      <td>0.0</td>\n",
       "      <td>2.0</td>\n",
       "      <td>0.0</td>\n",
       "      <td>0.0</td>\n",
       "    </tr>\n",
       "    <tr>\n",
       "      <th>13.102</th>\n",
       "      <td>0.0</td>\n",
       "      <td>0.0</td>\n",
       "      <td>0.0</td>\n",
       "      <td>0.0</td>\n",
       "      <td>0.0</td>\n",
       "      <td>0.0</td>\n",
       "      <td>0.0</td>\n",
       "      <td>0.0</td>\n",
       "      <td>1.0</td>\n",
       "      <td>0.0</td>\n",
       "    </tr>\n",
       "    <tr>\n",
       "      <th>11.204</th>\n",
       "      <td>0.0</td>\n",
       "      <td>4.0</td>\n",
       "      <td>7.0</td>\n",
       "      <td>3.0</td>\n",
       "      <td>16.0</td>\n",
       "      <td>19.0</td>\n",
       "      <td>0.0</td>\n",
       "      <td>0.0</td>\n",
       "      <td>18.0</td>\n",
       "      <td>0.0</td>\n",
       "    </tr>\n",
       "    <tr>\n",
       "      <th>11.203</th>\n",
       "      <td>10.0</td>\n",
       "      <td>0.0</td>\n",
       "      <td>0.0</td>\n",
       "      <td>0.0</td>\n",
       "      <td>0.0</td>\n",
       "      <td>0.0</td>\n",
       "      <td>0.0</td>\n",
       "      <td>0.0</td>\n",
       "      <td>0.0</td>\n",
       "      <td>0.0</td>\n",
       "    </tr>\n",
       "    <tr>\n",
       "      <th>52.101</th>\n",
       "      <td>20.0</td>\n",
       "      <td>0.0</td>\n",
       "      <td>0.0</td>\n",
       "      <td>0.0</td>\n",
       "      <td>0.0</td>\n",
       "      <td>0.0</td>\n",
       "      <td>0.0</td>\n",
       "      <td>0.0</td>\n",
       "      <td>0.0</td>\n",
       "      <td>0.0</td>\n",
       "    </tr>\n",
       "  </tbody>\n",
       "</table>\n",
       "</div>\n",
       "      <button class=\"colab-df-convert\" onclick=\"convertToInteractive('df-80ebde8d-d3a3-456f-a6cc-70b1ba4dc8cf')\"\n",
       "              title=\"Convert this dataframe to an interactive table.\"\n",
       "              style=\"display:none;\">\n",
       "        \n",
       "  <svg xmlns=\"http://www.w3.org/2000/svg\" height=\"24px\"viewBox=\"0 0 24 24\"\n",
       "       width=\"24px\">\n",
       "    <path d=\"M0 0h24v24H0V0z\" fill=\"none\"/>\n",
       "    <path d=\"M18.56 5.44l.94 2.06.94-2.06 2.06-.94-2.06-.94-.94-2.06-.94 2.06-2.06.94zm-11 1L8.5 8.5l.94-2.06 2.06-.94-2.06-.94L8.5 2.5l-.94 2.06-2.06.94zm10 10l.94 2.06.94-2.06 2.06-.94-2.06-.94-.94-2.06-.94 2.06-2.06.94z\"/><path d=\"M17.41 7.96l-1.37-1.37c-.4-.4-.92-.59-1.43-.59-.52 0-1.04.2-1.43.59L10.3 9.45l-7.72 7.72c-.78.78-.78 2.05 0 2.83L4 21.41c.39.39.9.59 1.41.59.51 0 1.02-.2 1.41-.59l7.78-7.78 2.81-2.81c.8-.78.8-2.07 0-2.86zM5.41 20L4 18.59l7.72-7.72 1.47 1.35L5.41 20z\"/>\n",
       "  </svg>\n",
       "      </button>\n",
       "      \n",
       "  <style>\n",
       "    .colab-df-container {\n",
       "      display:flex;\n",
       "      flex-wrap:wrap;\n",
       "      gap: 12px;\n",
       "    }\n",
       "\n",
       "    .colab-df-convert {\n",
       "      background-color: #E8F0FE;\n",
       "      border: none;\n",
       "      border-radius: 50%;\n",
       "      cursor: pointer;\n",
       "      display: none;\n",
       "      fill: #1967D2;\n",
       "      height: 32px;\n",
       "      padding: 0 0 0 0;\n",
       "      width: 32px;\n",
       "    }\n",
       "\n",
       "    .colab-df-convert:hover {\n",
       "      background-color: #E2EBFA;\n",
       "      box-shadow: 0px 1px 2px rgba(60, 64, 67, 0.3), 0px 1px 3px 1px rgba(60, 64, 67, 0.15);\n",
       "      fill: #174EA6;\n",
       "    }\n",
       "\n",
       "    [theme=dark] .colab-df-convert {\n",
       "      background-color: #3B4455;\n",
       "      fill: #D2E3FC;\n",
       "    }\n",
       "\n",
       "    [theme=dark] .colab-df-convert:hover {\n",
       "      background-color: #434B5C;\n",
       "      box-shadow: 0px 1px 3px 1px rgba(0, 0, 0, 0.15);\n",
       "      filter: drop-shadow(0px 1px 2px rgba(0, 0, 0, 0.3));\n",
       "      fill: #FFFFFF;\n",
       "    }\n",
       "  </style>\n",
       "\n",
       "      <script>\n",
       "        const buttonEl =\n",
       "          document.querySelector('#df-80ebde8d-d3a3-456f-a6cc-70b1ba4dc8cf button.colab-df-convert');\n",
       "        buttonEl.style.display =\n",
       "          google.colab.kernel.accessAllowed ? 'block' : 'none';\n",
       "\n",
       "        async function convertToInteractive(key) {\n",
       "          const element = document.querySelector('#df-80ebde8d-d3a3-456f-a6cc-70b1ba4dc8cf');\n",
       "          const dataTable =\n",
       "            await google.colab.kernel.invokeFunction('convertToInteractive',\n",
       "                                                     [key], {});\n",
       "          if (!dataTable) return;\n",
       "\n",
       "          const docLinkHtml = 'Like what you see? Visit the ' +\n",
       "            '<a target=\"_blank\" href=https://colab.research.google.com/notebooks/data_table.ipynb>data table notebook</a>'\n",
       "            + ' to learn more about interactive tables.';\n",
       "          element.innerHTML = '';\n",
       "          dataTable['output_type'] = 'display_data';\n",
       "          await google.colab.output.renderOutput(dataTable, element);\n",
       "          const docLink = document.createElement('div');\n",
       "          docLink.innerHTML = docLinkHtml;\n",
       "          element.appendChild(docLink);\n",
       "        }\n",
       "      </script>\n",
       "    </div>\n",
       "  </div>\n",
       "  "
      ],
      "text/plain": [
       "                         BENEFICIÁRIO                                      \\\n",
       "EXERCÍCIO                        2014   2015   2016    2017   2018   2019   \n",
       "COD_UNIDADE_ORÇAMENTARIA                                                    \n",
       "30.101                           29.0   30.0   23.0    20.0   15.0   41.0   \n",
       "19.203                          836.0  552.0  761.0  1000.0  903.0  537.0   \n",
       "12.101                            0.0    0.0    0.0     8.0   19.0   10.0   \n",
       "23.901                            0.0    0.0   72.0    89.0  117.0  106.0   \n",
       "11.101                           46.0   49.0   23.0    44.0   49.0   52.0   \n",
       "24.901                           43.0  107.0   70.0    45.0   34.0   47.0   \n",
       "17.101                            3.0    4.0   10.0    26.0    8.0    7.0   \n",
       "13.901                           24.0   19.0   25.0    42.0   27.0   27.0   \n",
       "11.205                            0.0    3.0    4.0     9.0   11.0   11.0   \n",
       "15.101                           15.0   15.0    4.0    35.0   40.0   34.0   \n",
       "25.901                           26.0   23.0   13.0    28.0   42.0   34.0   \n",
       "11.202                            5.0    4.0    1.0     3.0    2.0    0.0   \n",
       "26.101                           12.0   16.0    4.0     9.0    6.0    8.0   \n",
       "13.201                            2.0    3.0   11.0     0.0    0.0    0.0   \n",
       "31.201                            0.0   12.0    5.0    19.0   19.0   14.0   \n",
       "23.101                          106.0   75.0    8.0     7.0    0.0   18.0   \n",
       "19.201                            2.0    6.0    4.0     4.0    9.0   14.0   \n",
       "19.101                            8.0   11.0   12.0    18.0   16.0   33.0   \n",
       "32.101                           13.0   11.0    7.0     7.0    7.0   15.0   \n",
       "13.101                           14.0   16.0   46.0    40.0   17.0    3.0   \n",
       "17.102                           11.0    3.0    8.0     0.0    1.0    5.0   \n",
       "28.902                            0.0    0.0    0.0     9.0   24.0   32.0   \n",
       "14.101                            0.0   14.0    4.0     5.0    1.0    5.0   \n",
       "31.905                            0.0    0.0    0.0     0.0    0.0    0.0   \n",
       "28.901                           10.0   22.0   17.0     8.0    4.0    3.0   \n",
       "31.101                           16.0   41.0   18.0     3.0    9.0   14.0   \n",
       "34.101                            0.0   12.0   19.0    11.0   12.0   20.0   \n",
       "33.101                            0.0    0.0    0.0     0.0    0.0    0.0   \n",
       "18.202                           13.0   14.0    7.0     6.0    5.0    9.0   \n",
       "18.101                            6.0   45.0   20.0    10.0   11.0   12.0   \n",
       "16.101                           16.0    0.0    0.0     0.0    0.0    0.0   \n",
       "31.901                            1.0   11.0    4.0    10.0   15.0    9.0   \n",
       "35.101                           11.0   12.0    5.0     1.0    0.0    0.0   \n",
       "35.102                            0.0    3.0    5.0     2.0    0.0    0.0   \n",
       "35.201                            4.0    0.0    0.0     0.0    0.0    0.0   \n",
       "41.101                            0.0    0.0    0.0     1.0    0.0    0.0   \n",
       "42.101                            0.0    0.0    0.0     0.0    0.0    2.0   \n",
       "44.101                            0.0    2.0    5.0     0.0    0.0    0.0   \n",
       "45.101                            0.0    0.0    1.0     0.0    0.0    0.0   \n",
       "01.101                            2.0    0.0    0.0     0.0    0.0    0.0   \n",
       "31.102                            0.0    0.0    0.0     0.0    0.0    2.0   \n",
       "29.101                            9.0    5.0    3.0     3.0    0.0    7.0   \n",
       "28.101                           24.0   21.0   19.0    14.0    5.0    5.0   \n",
       "27.101                           49.0   47.0   27.0    24.0   17.0   12.0   \n",
       "25.201                            3.0    0.0    6.0     2.0    2.0    2.0   \n",
       "19.206                            0.0    0.0    0.0     3.0    1.0    1.0   \n",
       "18.203                            1.0    2.0    0.0     0.0    4.0    1.0   \n",
       "18.201                            2.0    0.0    0.0     0.0    0.0    0.0   \n",
       "18.102                            0.0    0.0    0.0     0.0    5.0    2.0   \n",
       "13.102                            0.0    0.0    0.0     0.0    0.0    0.0   \n",
       "11.204                            0.0    4.0    7.0     3.0   16.0   19.0   \n",
       "11.203                           10.0    0.0    0.0     0.0    0.0    0.0   \n",
       "52.101                           20.0    0.0    0.0     0.0    0.0    0.0   \n",
       "\n",
       "                                                     \n",
       "EXERCÍCIO                  2020   2021   2022  2023  \n",
       "COD_UNIDADE_ORÇAMENTARIA                             \n",
       "30.101                      5.0   15.0   23.0  32.0  \n",
       "19.203                    398.0  218.0  105.0  25.0  \n",
       "12.101                      1.0    8.0   33.0  22.0  \n",
       "23.901                      5.0   21.0   30.0  19.0  \n",
       "11.101                     12.0    3.0   13.0  11.0  \n",
       "24.901                      5.0    4.0   34.0  11.0  \n",
       "17.101                      1.0    9.0   18.0   9.0  \n",
       "13.901                      3.0    0.0    5.0   8.0  \n",
       "11.205                      0.0    0.0   16.0   7.0  \n",
       "15.101                      7.0    1.0   11.0   6.0  \n",
       "25.901                      5.0    6.0   10.0   6.0  \n",
       "11.202                      1.0    2.0   28.0   4.0  \n",
       "26.101                      0.0    0.0    1.0   4.0  \n",
       "13.201                      0.0    0.0    0.0   3.0  \n",
       "31.201                      1.0    7.0   12.0   2.0  \n",
       "23.101                      0.0    0.0    3.0   2.0  \n",
       "19.201                      1.0    1.0    5.0   2.0  \n",
       "19.101                      3.0    0.0    1.0   2.0  \n",
       "32.101                      4.0    2.0    0.0   2.0  \n",
       "13.101                      5.0    0.0    9.0   2.0  \n",
       "17.102                      2.0    4.0   15.0   2.0  \n",
       "28.902                      1.0    2.0    2.0   2.0  \n",
       "14.101                      2.0    2.0    3.0   2.0  \n",
       "31.905                      0.0    0.0    6.0   1.0  \n",
       "28.901                      0.0    0.0    1.0   1.0  \n",
       "31.101                      3.0    0.0    7.0   1.0  \n",
       "34.101                      3.0    0.0    3.0   1.0  \n",
       "33.101                      0.0    0.0    3.0   1.0  \n",
       "18.202                      1.0    0.0    0.0   1.0  \n",
       "18.101                      3.0    2.0    6.0   1.0  \n",
       "16.101                      0.0    0.0    3.0   1.0  \n",
       "31.901                      1.0    0.0    0.0   1.0  \n",
       "35.101                      0.0    0.0    0.0   0.0  \n",
       "35.102                      0.0    0.0    0.0   0.0  \n",
       "35.201                      0.0    0.0    0.0   0.0  \n",
       "41.101                      0.0    0.0    0.0   0.0  \n",
       "42.101                      1.0    0.0    0.0   0.0  \n",
       "44.101                      0.0    0.0    0.0   0.0  \n",
       "45.101                      0.0    0.0    0.0   0.0  \n",
       "01.101                      0.0    0.0    0.0   0.0  \n",
       "31.102                      0.0    0.0    0.0   0.0  \n",
       "29.101                      0.0    0.0    0.0   0.0  \n",
       "28.101                      1.0    0.0    1.0   0.0  \n",
       "27.101                      3.0    0.0    2.0   0.0  \n",
       "25.201                      0.0    0.0    0.0   0.0  \n",
       "19.206                      0.0    0.0    0.0   0.0  \n",
       "18.203                      0.0    0.0    0.0   0.0  \n",
       "18.201                      0.0    0.0    0.0   0.0  \n",
       "18.102                      0.0    2.0    0.0   0.0  \n",
       "13.102                      0.0    0.0    1.0   0.0  \n",
       "11.204                      0.0    0.0   18.0   0.0  \n",
       "11.203                      0.0    0.0    0.0   0.0  \n",
       "52.101                      0.0    0.0    0.0   0.0  "
      ]
     },
     "execution_count": 219,
     "metadata": {},
     "output_type": "execute_result"
    }
   ],
   "source": [
    "funcionarios_unidade_orcamentaria.pivot_table(index='COD_UNIDADE_ORÇAMENTARIA', columns='EXERCÍCIO', aggfunc='sum').fillna(0).sort_values(('BENEFICIÁRIO', 2023), ascending=False)"
   ]
  },
  {
   "cell_type": "code",
   "execution_count": 238,
   "metadata": {
    "executionInfo": {
     "elapsed": 3,
     "status": "ok",
     "timestamp": 1688268555029,
     "user": {
      "displayName": "Gabriela Custódio",
      "userId": "17879241500396315997"
     },
     "user_tz": 180
    },
    "id": "tTZ1PcsOpJsB"
   },
   "outputs": [],
   "source": [
    "# viagens_exterior\n",
    "\n",
    "viagens_exterior = df_validos[df_validos['SG_DESTINO'] == 'EX']"
   ]
  },
  {
   "cell_type": "code",
   "execution_count": 244,
   "metadata": {
    "executionInfo": {
     "elapsed": 2,
     "status": "ok",
     "timestamp": 1688268666052,
     "user": {
      "displayName": "Gabriela Custódio",
      "userId": "17879241500396315997"
     },
     "user_tz": 180
    },
    "id": "1shkKNJFpdXY"
   },
   "outputs": [],
   "source": [
    "df_viagens_exterior = viagens_exterior[['EXERCÍCIO', 'COD_UNIDADE_ORÇAMENTARIA', 'DESTINO', 'BENEFICIÁRIO', 'DURAÇÃO_VIAGEM']]"
   ]
  },
  {
   "cell_type": "code",
   "execution_count": 253,
   "metadata": {
    "executionInfo": {
     "elapsed": 475,
     "status": "ok",
     "timestamp": 1688268776755,
     "user": {
      "displayName": "Gabriela Custódio",
      "userId": "17879241500396315997"
     },
     "user_tz": 180
    },
    "id": "wAdL0U4VpdZ9"
   },
   "outputs": [],
   "source": [
    "df_viagens_exterior_orgao = df_viagens_exterior[['EXERCÍCIO', 'COD_UNIDADE_ORÇAMENTARIA']].value_counts().reset_index()"
   ]
  },
  {
   "cell_type": "code",
   "execution_count": 270,
   "metadata": {
    "colab": {
     "base_uri": "https://localhost:8080/",
     "height": 542
    },
    "executionInfo": {
     "elapsed": 6,
     "status": "ok",
     "timestamp": 1688269196542,
     "user": {
      "displayName": "Gabriela Custódio",
      "userId": "17879241500396315997"
     },
     "user_tz": 180
    },
    "id": "_brX742spdcJ",
    "outputId": "bb1a3cef-f3fd-4f14-ffd3-d7859da3f151"
   },
   "outputs": [
    {
     "data": {
      "text/html": [
       "<html>\n",
       "<head><meta charset=\"utf-8\" /></head>\n",
       "<body>\n",
       "    <div>            <script src=\"https://cdnjs.cloudflare.com/ajax/libs/mathjax/2.7.5/MathJax.js?config=TeX-AMS-MML_SVG\"></script><script type=\"text/javascript\">if (window.MathJax && window.MathJax.Hub && window.MathJax.Hub.Config) {window.MathJax.Hub.Config({SVG: {font: \"STIX-Web\"}});}</script>                <script type=\"text/javascript\">window.PlotlyConfig = {MathJaxConfig: 'local'};</script>\n",
       "        <script src=\"https://cdn.plot.ly/plotly-2.18.2.min.js\"></script>                <div id=\"3e1704e8-6bff-4838-8e86-342550b4def1\" class=\"plotly-graph-div\" style=\"height:525px; width:100%;\"></div>            <script type=\"text/javascript\">                                    window.PLOTLYENV=window.PLOTLYENV || {};                                    if (document.getElementById(\"3e1704e8-6bff-4838-8e86-342550b4def1\")) {                    Plotly.newPlot(                        \"3e1704e8-6bff-4838-8e86-342550b4def1\",                        [{\"alignmentgroup\":\"True\",\"hovertemplate\":\"COD_UNIDADE_OR\\u00c7AMENTARIA=11.101<br>EXERC\\u00cdCIO=%{x}<br>0=%{y}<extra></extra>\",\"legendgroup\":\"11.101\",\"marker\":{\"color\":\"#636efa\",\"pattern\":{\"shape\":\"\"}},\"name\":\"11.101\",\"offsetgroup\":\"11.101\",\"orientation\":\"v\",\"showlegend\":true,\"textposition\":\"auto\",\"x\":[2018,2017,2015,2019,2022,2016,2023,2020,2021,2014],\"xaxis\":\"x\",\"y\":[20,18,13,11,5,5,3,3,1,1],\"yaxis\":\"y\",\"type\":\"bar\"},{\"alignmentgroup\":\"True\",\"hovertemplate\":\"COD_UNIDADE_OR\\u00c7AMENTARIA=19.101<br>EXERC\\u00cdCIO=%{x}<br>0=%{y}<extra></extra>\",\"legendgroup\":\"19.101\",\"marker\":{\"color\":\"#EF553B\",\"pattern\":{\"shape\":\"\"}},\"name\":\"19.101\",\"offsetgroup\":\"19.101\",\"orientation\":\"v\",\"showlegend\":true,\"textposition\":\"auto\",\"x\":[2019,2017,2016,2018,2015,2020,2023,2022],\"xaxis\":\"x\",\"y\":[15,10,8,6,2,2,1,1],\"yaxis\":\"y\",\"type\":\"bar\"},{\"alignmentgroup\":\"True\",\"hovertemplate\":\"COD_UNIDADE_OR\\u00c7AMENTARIA=30.101<br>EXERC\\u00cdCIO=%{x}<br>0=%{y}<extra></extra>\",\"legendgroup\":\"30.101\",\"marker\":{\"color\":\"#00cc96\",\"pattern\":{\"shape\":\"\"}},\"name\":\"30.101\",\"offsetgroup\":\"30.101\",\"orientation\":\"v\",\"showlegend\":true,\"textposition\":\"auto\",\"x\":[2019,2023,2015,2016,2022,2021,2020,2017],\"xaxis\":\"x\",\"y\":[13,8,7,6,5,2,2,2],\"yaxis\":\"y\",\"type\":\"bar\"},{\"alignmentgroup\":\"True\",\"hovertemplate\":\"COD_UNIDADE_OR\\u00c7AMENTARIA=13.901<br>EXERC\\u00cdCIO=%{x}<br>0=%{y}<extra></extra>\",\"legendgroup\":\"13.901\",\"marker\":{\"color\":\"#ab63fa\",\"pattern\":{\"shape\":\"\"}},\"name\":\"13.901\",\"offsetgroup\":\"13.901\",\"orientation\":\"v\",\"showlegend\":true,\"textposition\":\"auto\",\"x\":[2017,2016,2018,2019,2015],\"xaxis\":\"x\",\"y\":[8,5,3,3,1],\"yaxis\":\"y\",\"type\":\"bar\"},{\"alignmentgroup\":\"True\",\"hovertemplate\":\"COD_UNIDADE_OR\\u00c7AMENTARIA=11.205<br>EXERC\\u00cdCIO=%{x}<br>0=%{y}<extra></extra>\",\"legendgroup\":\"11.205\",\"marker\":{\"color\":\"#FFA15A\",\"pattern\":{\"shape\":\"\"}},\"name\":\"11.205\",\"offsetgroup\":\"11.205\",\"orientation\":\"v\",\"showlegend\":true,\"textposition\":\"auto\",\"x\":[2023,2022,2018,2016,2019],\"xaxis\":\"x\",\"y\":[6,5,2,1,1],\"yaxis\":\"y\",\"type\":\"bar\"},{\"alignmentgroup\":\"True\",\"hovertemplate\":\"COD_UNIDADE_OR\\u00c7AMENTARIA=12.101<br>EXERC\\u00cdCIO=%{x}<br>0=%{y}<extra></extra>\",\"legendgroup\":\"12.101\",\"marker\":{\"color\":\"#19d3f3\",\"pattern\":{\"shape\":\"\"}},\"name\":\"12.101\",\"offsetgroup\":\"12.101\",\"orientation\":\"v\",\"showlegend\":true,\"textposition\":\"auto\",\"x\":[2022,2018,2023,2021,2017],\"xaxis\":\"x\",\"y\":[5,3,2,1,1],\"yaxis\":\"y\",\"type\":\"bar\"},{\"alignmentgroup\":\"True\",\"hovertemplate\":\"COD_UNIDADE_OR\\u00c7AMENTARIA=15.101<br>EXERC\\u00cdCIO=%{x}<br>0=%{y}<extra></extra>\",\"legendgroup\":\"15.101\",\"marker\":{\"color\":\"#FF6692\",\"pattern\":{\"shape\":\"\"}},\"name\":\"15.101\",\"offsetgroup\":\"15.101\",\"orientation\":\"v\",\"showlegend\":true,\"textposition\":\"auto\",\"x\":[2017,2018,2015,2019,2022,2023],\"xaxis\":\"x\",\"y\":[5,5,3,3,2,1],\"yaxis\":\"y\",\"type\":\"bar\"},{\"alignmentgroup\":\"True\",\"hovertemplate\":\"COD_UNIDADE_OR\\u00c7AMENTARIA=24.901<br>EXERC\\u00cdCIO=%{x}<br>0=%{y}<extra></extra>\",\"legendgroup\":\"24.901\",\"marker\":{\"color\":\"#B6E880\",\"pattern\":{\"shape\":\"\"}},\"name\":\"24.901\",\"offsetgroup\":\"24.901\",\"orientation\":\"v\",\"showlegend\":true,\"textposition\":\"auto\",\"x\":[2023,2019,2015],\"xaxis\":\"x\",\"y\":[5,1,1],\"yaxis\":\"y\",\"type\":\"bar\"},{\"alignmentgroup\":\"True\",\"hovertemplate\":\"COD_UNIDADE_OR\\u00c7AMENTARIA=25.901<br>EXERC\\u00cdCIO=%{x}<br>0=%{y}<extra></extra>\",\"legendgroup\":\"25.901\",\"marker\":{\"color\":\"#FF97FF\",\"pattern\":{\"shape\":\"\"}},\"name\":\"25.901\",\"offsetgroup\":\"25.901\",\"orientation\":\"v\",\"showlegend\":true,\"textposition\":\"auto\",\"x\":[2018,2019,2017,2015],\"xaxis\":\"x\",\"y\":[4,3,1,1],\"yaxis\":\"y\",\"type\":\"bar\"},{\"alignmentgroup\":\"True\",\"hovertemplate\":\"COD_UNIDADE_OR\\u00c7AMENTARIA=28.901<br>EXERC\\u00cdCIO=%{x}<br>0=%{y}<extra></extra>\",\"legendgroup\":\"28.901\",\"marker\":{\"color\":\"#FECB52\",\"pattern\":{\"shape\":\"\"}},\"name\":\"28.901\",\"offsetgroup\":\"28.901\",\"orientation\":\"v\",\"showlegend\":true,\"textposition\":\"auto\",\"x\":[2015,2022,2016,2017],\"xaxis\":\"x\",\"y\":[4,1,1,1],\"yaxis\":\"y\",\"type\":\"bar\"},{\"alignmentgroup\":\"True\",\"hovertemplate\":\"COD_UNIDADE_OR\\u00c7AMENTARIA=19.201<br>EXERC\\u00cdCIO=%{x}<br>0=%{y}<extra></extra>\",\"legendgroup\":\"19.201\",\"marker\":{\"color\":\"#636efa\",\"pattern\":{\"shape\":\"\"}},\"name\":\"19.201\",\"offsetgroup\":\"19.201\",\"orientation\":\"v\",\"showlegend\":true,\"textposition\":\"auto\",\"x\":[2019,2018],\"xaxis\":\"x\",\"y\":[3,2],\"yaxis\":\"y\",\"type\":\"bar\"},{\"alignmentgroup\":\"True\",\"hovertemplate\":\"COD_UNIDADE_OR\\u00c7AMENTARIA=23.901<br>EXERC\\u00cdCIO=%{x}<br>0=%{y}<extra></extra>\",\"legendgroup\":\"23.901\",\"marker\":{\"color\":\"#EF553B\",\"pattern\":{\"shape\":\"\"}},\"name\":\"23.901\",\"offsetgroup\":\"23.901\",\"orientation\":\"v\",\"showlegend\":true,\"textposition\":\"auto\",\"x\":[2022,2023,2019],\"xaxis\":\"x\",\"y\":[3,2,1],\"yaxis\":\"y\",\"type\":\"bar\"},{\"alignmentgroup\":\"True\",\"hovertemplate\":\"COD_UNIDADE_OR\\u00c7AMENTARIA=32.101<br>EXERC\\u00cdCIO=%{x}<br>0=%{y}<extra></extra>\",\"legendgroup\":\"32.101\",\"marker\":{\"color\":\"#00cc96\",\"pattern\":{\"shape\":\"\"}},\"name\":\"32.101\",\"offsetgroup\":\"32.101\",\"orientation\":\"v\",\"showlegend\":true,\"textposition\":\"auto\",\"x\":[2019,2015],\"xaxis\":\"x\",\"y\":[3,1],\"yaxis\":\"y\",\"type\":\"bar\"},{\"alignmentgroup\":\"True\",\"hovertemplate\":\"COD_UNIDADE_OR\\u00c7AMENTARIA=11.202<br>EXERC\\u00cdCIO=%{x}<br>0=%{y}<extra></extra>\",\"legendgroup\":\"11.202\",\"marker\":{\"color\":\"#ab63fa\",\"pattern\":{\"shape\":\"\"}},\"name\":\"11.202\",\"offsetgroup\":\"11.202\",\"orientation\":\"v\",\"showlegend\":true,\"textposition\":\"auto\",\"x\":[2022,2015,2023,2017,2018],\"xaxis\":\"x\",\"y\":[2,1,1,1,1],\"yaxis\":\"y\",\"type\":\"bar\"},{\"alignmentgroup\":\"True\",\"hovertemplate\":\"COD_UNIDADE_OR\\u00c7AMENTARIA=28.902<br>EXERC\\u00cdCIO=%{x}<br>0=%{y}<extra></extra>\",\"legendgroup\":\"28.902\",\"marker\":{\"color\":\"#FFA15A\",\"pattern\":{\"shape\":\"\"}},\"name\":\"28.902\",\"offsetgroup\":\"28.902\",\"orientation\":\"v\",\"showlegend\":true,\"textposition\":\"auto\",\"x\":[2018,2019,2017],\"xaxis\":\"x\",\"y\":[2,1,1],\"yaxis\":\"y\",\"type\":\"bar\"},{\"alignmentgroup\":\"True\",\"hovertemplate\":\"COD_UNIDADE_OR\\u00c7AMENTARIA=23.101<br>EXERC\\u00cdCIO=%{x}<br>0=%{y}<extra></extra>\",\"legendgroup\":\"23.101\",\"marker\":{\"color\":\"#19d3f3\",\"pattern\":{\"shape\":\"\"}},\"name\":\"23.101\",\"offsetgroup\":\"23.101\",\"orientation\":\"v\",\"showlegend\":true,\"textposition\":\"auto\",\"x\":[2015,2023,2022],\"xaxis\":\"x\",\"y\":[2,1,1],\"yaxis\":\"y\",\"type\":\"bar\"},{\"alignmentgroup\":\"True\",\"hovertemplate\":\"COD_UNIDADE_OR\\u00c7AMENTARIA=27.101<br>EXERC\\u00cdCIO=%{x}<br>0=%{y}<extra></extra>\",\"legendgroup\":\"27.101\",\"marker\":{\"color\":\"#FF6692\",\"pattern\":{\"shape\":\"\"}},\"name\":\"27.101\",\"offsetgroup\":\"27.101\",\"orientation\":\"v\",\"showlegend\":true,\"textposition\":\"auto\",\"x\":[2017,2015],\"xaxis\":\"x\",\"y\":[2,1],\"yaxis\":\"y\",\"type\":\"bar\"},{\"alignmentgroup\":\"True\",\"hovertemplate\":\"COD_UNIDADE_OR\\u00c7AMENTARIA=35.101<br>EXERC\\u00cdCIO=%{x}<br>0=%{y}<extra></extra>\",\"legendgroup\":\"35.101\",\"marker\":{\"color\":\"#B6E880\",\"pattern\":{\"shape\":\"\"}},\"name\":\"35.101\",\"offsetgroup\":\"35.101\",\"orientation\":\"v\",\"showlegend\":true,\"textposition\":\"auto\",\"x\":[2015],\"xaxis\":\"x\",\"y\":[2],\"yaxis\":\"y\",\"type\":\"bar\"},{\"alignmentgroup\":\"True\",\"hovertemplate\":\"COD_UNIDADE_OR\\u00c7AMENTARIA=33.101<br>EXERC\\u00cdCIO=%{x}<br>0=%{y}<extra></extra>\",\"legendgroup\":\"33.101\",\"marker\":{\"color\":\"#FF97FF\",\"pattern\":{\"shape\":\"\"}},\"name\":\"33.101\",\"offsetgroup\":\"33.101\",\"orientation\":\"v\",\"showlegend\":true,\"textposition\":\"auto\",\"x\":[2022],\"xaxis\":\"x\",\"y\":[1],\"yaxis\":\"y\",\"type\":\"bar\"},{\"alignmentgroup\":\"True\",\"hovertemplate\":\"COD_UNIDADE_OR\\u00c7AMENTARIA=28.101<br>EXERC\\u00cdCIO=%{x}<br>0=%{y}<extra></extra>\",\"legendgroup\":\"28.101\",\"marker\":{\"color\":\"#FECB52\",\"pattern\":{\"shape\":\"\"}},\"name\":\"28.101\",\"offsetgroup\":\"28.101\",\"orientation\":\"v\",\"showlegend\":true,\"textposition\":\"auto\",\"x\":[2014,2017,2016],\"xaxis\":\"x\",\"y\":[1,1,1],\"yaxis\":\"y\",\"type\":\"bar\"},{\"alignmentgroup\":\"True\",\"hovertemplate\":\"COD_UNIDADE_OR\\u00c7AMENTARIA=13.101<br>EXERC\\u00cdCIO=%{x}<br>0=%{y}<extra></extra>\",\"legendgroup\":\"13.101\",\"marker\":{\"color\":\"#636efa\",\"pattern\":{\"shape\":\"\"}},\"name\":\"13.101\",\"offsetgroup\":\"13.101\",\"orientation\":\"v\",\"showlegend\":true,\"textposition\":\"auto\",\"x\":[2015],\"xaxis\":\"x\",\"y\":[1],\"yaxis\":\"y\",\"type\":\"bar\"},{\"alignmentgroup\":\"True\",\"hovertemplate\":\"COD_UNIDADE_OR\\u00c7AMENTARIA=17.101<br>EXERC\\u00cdCIO=%{x}<br>0=%{y}<extra></extra>\",\"legendgroup\":\"17.101\",\"marker\":{\"color\":\"#EF553B\",\"pattern\":{\"shape\":\"\"}},\"name\":\"17.101\",\"offsetgroup\":\"17.101\",\"orientation\":\"v\",\"showlegend\":true,\"textposition\":\"auto\",\"x\":[2023],\"xaxis\":\"x\",\"y\":[1],\"yaxis\":\"y\",\"type\":\"bar\"},{\"alignmentgroup\":\"True\",\"hovertemplate\":\"COD_UNIDADE_OR\\u00c7AMENTARIA=31.201<br>EXERC\\u00cdCIO=%{x}<br>0=%{y}<extra></extra>\",\"legendgroup\":\"31.201\",\"marker\":{\"color\":\"#00cc96\",\"pattern\":{\"shape\":\"\"}},\"name\":\"31.201\",\"offsetgroup\":\"31.201\",\"orientation\":\"v\",\"showlegend\":true,\"textposition\":\"auto\",\"x\":[2022],\"xaxis\":\"x\",\"y\":[1],\"yaxis\":\"y\",\"type\":\"bar\"},{\"alignmentgroup\":\"True\",\"hovertemplate\":\"COD_UNIDADE_OR\\u00c7AMENTARIA=16.101<br>EXERC\\u00cdCIO=%{x}<br>0=%{y}<extra></extra>\",\"legendgroup\":\"16.101\",\"marker\":{\"color\":\"#ab63fa\",\"pattern\":{\"shape\":\"\"}},\"name\":\"16.101\",\"offsetgroup\":\"16.101\",\"orientation\":\"v\",\"showlegend\":true,\"textposition\":\"auto\",\"x\":[2023],\"xaxis\":\"x\",\"y\":[1],\"yaxis\":\"y\",\"type\":\"bar\"},{\"alignmentgroup\":\"True\",\"hovertemplate\":\"COD_UNIDADE_OR\\u00c7AMENTARIA=31.101<br>EXERC\\u00cdCIO=%{x}<br>0=%{y}<extra></extra>\",\"legendgroup\":\"31.101\",\"marker\":{\"color\":\"#FFA15A\",\"pattern\":{\"shape\":\"\"}},\"name\":\"31.101\",\"offsetgroup\":\"31.101\",\"orientation\":\"v\",\"showlegend\":true,\"textposition\":\"auto\",\"x\":[2016,2015],\"xaxis\":\"x\",\"y\":[1,1],\"yaxis\":\"y\",\"type\":\"bar\"},{\"alignmentgroup\":\"True\",\"hovertemplate\":\"COD_UNIDADE_OR\\u00c7AMENTARIA=18.101<br>EXERC\\u00cdCIO=%{x}<br>0=%{y}<extra></extra>\",\"legendgroup\":\"18.101\",\"marker\":{\"color\":\"#19d3f3\",\"pattern\":{\"shape\":\"\"}},\"name\":\"18.101\",\"offsetgroup\":\"18.101\",\"orientation\":\"v\",\"showlegend\":true,\"textposition\":\"auto\",\"x\":[2017,2019],\"xaxis\":\"x\",\"y\":[1,1],\"yaxis\":\"y\",\"type\":\"bar\"},{\"alignmentgroup\":\"True\",\"hovertemplate\":\"COD_UNIDADE_OR\\u00c7AMENTARIA=19.206<br>EXERC\\u00cdCIO=%{x}<br>0=%{y}<extra></extra>\",\"legendgroup\":\"19.206\",\"marker\":{\"color\":\"#FF6692\",\"pattern\":{\"shape\":\"\"}},\"name\":\"19.206\",\"offsetgroup\":\"19.206\",\"orientation\":\"v\",\"showlegend\":true,\"textposition\":\"auto\",\"x\":[2017],\"xaxis\":\"x\",\"y\":[1],\"yaxis\":\"y\",\"type\":\"bar\"},{\"alignmentgroup\":\"True\",\"hovertemplate\":\"COD_UNIDADE_OR\\u00c7AMENTARIA=26.101<br>EXERC\\u00cdCIO=%{x}<br>0=%{y}<extra></extra>\",\"legendgroup\":\"26.101\",\"marker\":{\"color\":\"#B6E880\",\"pattern\":{\"shape\":\"\"}},\"name\":\"26.101\",\"offsetgroup\":\"26.101\",\"orientation\":\"v\",\"showlegend\":true,\"textposition\":\"auto\",\"x\":[2017,2015,2016],\"xaxis\":\"x\",\"y\":[1,1,1],\"yaxis\":\"y\",\"type\":\"bar\"},{\"alignmentgroup\":\"True\",\"hovertemplate\":\"COD_UNIDADE_OR\\u00c7AMENTARIA=18.202<br>EXERC\\u00cdCIO=%{x}<br>0=%{y}<extra></extra>\",\"legendgroup\":\"18.202\",\"marker\":{\"color\":\"#FF97FF\",\"pattern\":{\"shape\":\"\"}},\"name\":\"18.202\",\"offsetgroup\":\"18.202\",\"orientation\":\"v\",\"showlegend\":true,\"textposition\":\"auto\",\"x\":[2014],\"xaxis\":\"x\",\"y\":[1],\"yaxis\":\"y\",\"type\":\"bar\"}],                        {\"template\":{\"data\":{\"histogram2dcontour\":[{\"type\":\"histogram2dcontour\",\"colorbar\":{\"outlinewidth\":0,\"ticks\":\"\"},\"colorscale\":[[0.0,\"#0d0887\"],[0.1111111111111111,\"#46039f\"],[0.2222222222222222,\"#7201a8\"],[0.3333333333333333,\"#9c179e\"],[0.4444444444444444,\"#bd3786\"],[0.5555555555555556,\"#d8576b\"],[0.6666666666666666,\"#ed7953\"],[0.7777777777777778,\"#fb9f3a\"],[0.8888888888888888,\"#fdca26\"],[1.0,\"#f0f921\"]]}],\"choropleth\":[{\"type\":\"choropleth\",\"colorbar\":{\"outlinewidth\":0,\"ticks\":\"\"}}],\"histogram2d\":[{\"type\":\"histogram2d\",\"colorbar\":{\"outlinewidth\":0,\"ticks\":\"\"},\"colorscale\":[[0.0,\"#0d0887\"],[0.1111111111111111,\"#46039f\"],[0.2222222222222222,\"#7201a8\"],[0.3333333333333333,\"#9c179e\"],[0.4444444444444444,\"#bd3786\"],[0.5555555555555556,\"#d8576b\"],[0.6666666666666666,\"#ed7953\"],[0.7777777777777778,\"#fb9f3a\"],[0.8888888888888888,\"#fdca26\"],[1.0,\"#f0f921\"]]}],\"heatmap\":[{\"type\":\"heatmap\",\"colorbar\":{\"outlinewidth\":0,\"ticks\":\"\"},\"colorscale\":[[0.0,\"#0d0887\"],[0.1111111111111111,\"#46039f\"],[0.2222222222222222,\"#7201a8\"],[0.3333333333333333,\"#9c179e\"],[0.4444444444444444,\"#bd3786\"],[0.5555555555555556,\"#d8576b\"],[0.6666666666666666,\"#ed7953\"],[0.7777777777777778,\"#fb9f3a\"],[0.8888888888888888,\"#fdca26\"],[1.0,\"#f0f921\"]]}],\"heatmapgl\":[{\"type\":\"heatmapgl\",\"colorbar\":{\"outlinewidth\":0,\"ticks\":\"\"},\"colorscale\":[[0.0,\"#0d0887\"],[0.1111111111111111,\"#46039f\"],[0.2222222222222222,\"#7201a8\"],[0.3333333333333333,\"#9c179e\"],[0.4444444444444444,\"#bd3786\"],[0.5555555555555556,\"#d8576b\"],[0.6666666666666666,\"#ed7953\"],[0.7777777777777778,\"#fb9f3a\"],[0.8888888888888888,\"#fdca26\"],[1.0,\"#f0f921\"]]}],\"contourcarpet\":[{\"type\":\"contourcarpet\",\"colorbar\":{\"outlinewidth\":0,\"ticks\":\"\"}}],\"contour\":[{\"type\":\"contour\",\"colorbar\":{\"outlinewidth\":0,\"ticks\":\"\"},\"colorscale\":[[0.0,\"#0d0887\"],[0.1111111111111111,\"#46039f\"],[0.2222222222222222,\"#7201a8\"],[0.3333333333333333,\"#9c179e\"],[0.4444444444444444,\"#bd3786\"],[0.5555555555555556,\"#d8576b\"],[0.6666666666666666,\"#ed7953\"],[0.7777777777777778,\"#fb9f3a\"],[0.8888888888888888,\"#fdca26\"],[1.0,\"#f0f921\"]]}],\"surface\":[{\"type\":\"surface\",\"colorbar\":{\"outlinewidth\":0,\"ticks\":\"\"},\"colorscale\":[[0.0,\"#0d0887\"],[0.1111111111111111,\"#46039f\"],[0.2222222222222222,\"#7201a8\"],[0.3333333333333333,\"#9c179e\"],[0.4444444444444444,\"#bd3786\"],[0.5555555555555556,\"#d8576b\"],[0.6666666666666666,\"#ed7953\"],[0.7777777777777778,\"#fb9f3a\"],[0.8888888888888888,\"#fdca26\"],[1.0,\"#f0f921\"]]}],\"mesh3d\":[{\"type\":\"mesh3d\",\"colorbar\":{\"outlinewidth\":0,\"ticks\":\"\"}}],\"scatter\":[{\"fillpattern\":{\"fillmode\":\"overlay\",\"size\":10,\"solidity\":0.2},\"type\":\"scatter\"}],\"parcoords\":[{\"type\":\"parcoords\",\"line\":{\"colorbar\":{\"outlinewidth\":0,\"ticks\":\"\"}}}],\"scatterpolargl\":[{\"type\":\"scatterpolargl\",\"marker\":{\"colorbar\":{\"outlinewidth\":0,\"ticks\":\"\"}}}],\"bar\":[{\"error_x\":{\"color\":\"#2a3f5f\"},\"error_y\":{\"color\":\"#2a3f5f\"},\"marker\":{\"line\":{\"color\":\"#E5ECF6\",\"width\":0.5},\"pattern\":{\"fillmode\":\"overlay\",\"size\":10,\"solidity\":0.2}},\"type\":\"bar\"}],\"scattergeo\":[{\"type\":\"scattergeo\",\"marker\":{\"colorbar\":{\"outlinewidth\":0,\"ticks\":\"\"}}}],\"scatterpolar\":[{\"type\":\"scatterpolar\",\"marker\":{\"colorbar\":{\"outlinewidth\":0,\"ticks\":\"\"}}}],\"histogram\":[{\"marker\":{\"pattern\":{\"fillmode\":\"overlay\",\"size\":10,\"solidity\":0.2}},\"type\":\"histogram\"}],\"scattergl\":[{\"type\":\"scattergl\",\"marker\":{\"colorbar\":{\"outlinewidth\":0,\"ticks\":\"\"}}}],\"scatter3d\":[{\"type\":\"scatter3d\",\"line\":{\"colorbar\":{\"outlinewidth\":0,\"ticks\":\"\"}},\"marker\":{\"colorbar\":{\"outlinewidth\":0,\"ticks\":\"\"}}}],\"scattermapbox\":[{\"type\":\"scattermapbox\",\"marker\":{\"colorbar\":{\"outlinewidth\":0,\"ticks\":\"\"}}}],\"scatterternary\":[{\"type\":\"scatterternary\",\"marker\":{\"colorbar\":{\"outlinewidth\":0,\"ticks\":\"\"}}}],\"scattercarpet\":[{\"type\":\"scattercarpet\",\"marker\":{\"colorbar\":{\"outlinewidth\":0,\"ticks\":\"\"}}}],\"carpet\":[{\"aaxis\":{\"endlinecolor\":\"#2a3f5f\",\"gridcolor\":\"white\",\"linecolor\":\"white\",\"minorgridcolor\":\"white\",\"startlinecolor\":\"#2a3f5f\"},\"baxis\":{\"endlinecolor\":\"#2a3f5f\",\"gridcolor\":\"white\",\"linecolor\":\"white\",\"minorgridcolor\":\"white\",\"startlinecolor\":\"#2a3f5f\"},\"type\":\"carpet\"}],\"table\":[{\"cells\":{\"fill\":{\"color\":\"#EBF0F8\"},\"line\":{\"color\":\"white\"}},\"header\":{\"fill\":{\"color\":\"#C8D4E3\"},\"line\":{\"color\":\"white\"}},\"type\":\"table\"}],\"barpolar\":[{\"marker\":{\"line\":{\"color\":\"#E5ECF6\",\"width\":0.5},\"pattern\":{\"fillmode\":\"overlay\",\"size\":10,\"solidity\":0.2}},\"type\":\"barpolar\"}],\"pie\":[{\"automargin\":true,\"type\":\"pie\"}]},\"layout\":{\"autotypenumbers\":\"strict\",\"colorway\":[\"#636efa\",\"#EF553B\",\"#00cc96\",\"#ab63fa\",\"#FFA15A\",\"#19d3f3\",\"#FF6692\",\"#B6E880\",\"#FF97FF\",\"#FECB52\"],\"font\":{\"color\":\"#2a3f5f\"},\"hovermode\":\"closest\",\"hoverlabel\":{\"align\":\"left\"},\"paper_bgcolor\":\"white\",\"plot_bgcolor\":\"#E5ECF6\",\"polar\":{\"bgcolor\":\"#E5ECF6\",\"angularaxis\":{\"gridcolor\":\"white\",\"linecolor\":\"white\",\"ticks\":\"\"},\"radialaxis\":{\"gridcolor\":\"white\",\"linecolor\":\"white\",\"ticks\":\"\"}},\"ternary\":{\"bgcolor\":\"#E5ECF6\",\"aaxis\":{\"gridcolor\":\"white\",\"linecolor\":\"white\",\"ticks\":\"\"},\"baxis\":{\"gridcolor\":\"white\",\"linecolor\":\"white\",\"ticks\":\"\"},\"caxis\":{\"gridcolor\":\"white\",\"linecolor\":\"white\",\"ticks\":\"\"}},\"coloraxis\":{\"colorbar\":{\"outlinewidth\":0,\"ticks\":\"\"}},\"colorscale\":{\"sequential\":[[0.0,\"#0d0887\"],[0.1111111111111111,\"#46039f\"],[0.2222222222222222,\"#7201a8\"],[0.3333333333333333,\"#9c179e\"],[0.4444444444444444,\"#bd3786\"],[0.5555555555555556,\"#d8576b\"],[0.6666666666666666,\"#ed7953\"],[0.7777777777777778,\"#fb9f3a\"],[0.8888888888888888,\"#fdca26\"],[1.0,\"#f0f921\"]],\"sequentialminus\":[[0.0,\"#0d0887\"],[0.1111111111111111,\"#46039f\"],[0.2222222222222222,\"#7201a8\"],[0.3333333333333333,\"#9c179e\"],[0.4444444444444444,\"#bd3786\"],[0.5555555555555556,\"#d8576b\"],[0.6666666666666666,\"#ed7953\"],[0.7777777777777778,\"#fb9f3a\"],[0.8888888888888888,\"#fdca26\"],[1.0,\"#f0f921\"]],\"diverging\":[[0,\"#8e0152\"],[0.1,\"#c51b7d\"],[0.2,\"#de77ae\"],[0.3,\"#f1b6da\"],[0.4,\"#fde0ef\"],[0.5,\"#f7f7f7\"],[0.6,\"#e6f5d0\"],[0.7,\"#b8e186\"],[0.8,\"#7fbc41\"],[0.9,\"#4d9221\"],[1,\"#276419\"]]},\"xaxis\":{\"gridcolor\":\"white\",\"linecolor\":\"white\",\"ticks\":\"\",\"title\":{\"standoff\":15},\"zerolinecolor\":\"white\",\"automargin\":true,\"zerolinewidth\":2},\"yaxis\":{\"gridcolor\":\"white\",\"linecolor\":\"white\",\"ticks\":\"\",\"title\":{\"standoff\":15},\"zerolinecolor\":\"white\",\"automargin\":true,\"zerolinewidth\":2},\"scene\":{\"xaxis\":{\"backgroundcolor\":\"#E5ECF6\",\"gridcolor\":\"white\",\"linecolor\":\"white\",\"showbackground\":true,\"ticks\":\"\",\"zerolinecolor\":\"white\",\"gridwidth\":2},\"yaxis\":{\"backgroundcolor\":\"#E5ECF6\",\"gridcolor\":\"white\",\"linecolor\":\"white\",\"showbackground\":true,\"ticks\":\"\",\"zerolinecolor\":\"white\",\"gridwidth\":2},\"zaxis\":{\"backgroundcolor\":\"#E5ECF6\",\"gridcolor\":\"white\",\"linecolor\":\"white\",\"showbackground\":true,\"ticks\":\"\",\"zerolinecolor\":\"white\",\"gridwidth\":2}},\"shapedefaults\":{\"line\":{\"color\":\"#2a3f5f\"}},\"annotationdefaults\":{\"arrowcolor\":\"#2a3f5f\",\"arrowhead\":0,\"arrowwidth\":1},\"geo\":{\"bgcolor\":\"white\",\"landcolor\":\"#E5ECF6\",\"subunitcolor\":\"white\",\"showland\":true,\"showlakes\":true,\"lakecolor\":\"white\"},\"title\":{\"x\":0.05},\"mapbox\":{\"style\":\"light\"}}},\"xaxis\":{\"anchor\":\"y\",\"domain\":[0.0,1.0],\"title\":{\"text\":\"EXERC\\u00cdCIO\"}},\"yaxis\":{\"anchor\":\"x\",\"domain\":[0.0,1.0],\"title\":{\"text\":\"0\"}},\"legend\":{\"title\":{\"text\":\"COD_UNIDADE_OR\\u00c7AMENTARIA\"},\"tracegroupgap\":0},\"margin\":{\"t\":60},\"barmode\":\"relative\"},                        {\"responsive\": true}                    ).then(function(){\n",
       "                            \n",
       "var gd = document.getElementById('3e1704e8-6bff-4838-8e86-342550b4def1');\n",
       "var x = new MutationObserver(function (mutations, observer) {{\n",
       "        var display = window.getComputedStyle(gd).display;\n",
       "        if (!display || display === 'none') {{\n",
       "            console.log([gd, 'removed!']);\n",
       "            Plotly.purge(gd);\n",
       "            observer.disconnect();\n",
       "        }}\n",
       "}});\n",
       "\n",
       "// Listen for the removal of the full notebook cells\n",
       "var notebookContainer = gd.closest('#notebook-container');\n",
       "if (notebookContainer) {{\n",
       "    x.observe(notebookContainer, {childList: true});\n",
       "}}\n",
       "\n",
       "// Listen for the clearing of the current output cell\n",
       "var outputEl = gd.closest('.output');\n",
       "if (outputEl) {{\n",
       "    x.observe(outputEl, {childList: true});\n",
       "}}\n",
       "\n",
       "                        })                };                            </script>        </div>\n",
       "</body>\n",
       "</html>"
      ]
     },
     "metadata": {},
     "output_type": "display_data"
    }
   ],
   "source": [
    "px.bar(df_viagens_exterior_orgao, x='EXERCÍCIO', y=0, color='COD_UNIDADE_ORÇAMENTARIA')"
   ]
  },
  {
   "cell_type": "code",
   "execution_count": 271,
   "metadata": {
    "colab": {
     "base_uri": "https://localhost:8080/"
    },
    "executionInfo": {
     "elapsed": 2,
     "status": "ok",
     "timestamp": 1688269197021,
     "user": {
      "displayName": "Gabriela Custódio",
      "userId": "17879241500396315997"
     },
     "user_tz": 180
    },
    "id": "UyFGsQcypdfi",
    "outputId": "dcaf4b87-439d-463e-fd36-e8d8fe8dde7d"
   },
   "outputs": [
    {
     "data": {
      "text/plain": [
       "array(['24.901-FUNDO MUNICIPAL DE EDUCACAO'], dtype=object)"
      ]
     },
     "execution_count": 271,
     "metadata": {},
     "output_type": "execute_result"
    }
   ],
   "source": [
    "busca_unidade('24.901')"
   ]
  },
  {
   "cell_type": "code",
   "execution_count": 277,
   "metadata": {
    "colab": {
     "base_uri": "https://localhost:8080/",
     "height": 990
    },
    "executionInfo": {
     "elapsed": 6,
     "status": "ok",
     "timestamp": 1688269308006,
     "user": {
      "displayName": "Gabriela Custódio",
      "userId": "17879241500396315997"
     },
     "user_tz": 180
    },
    "id": "nRoERpuZr5p7",
    "outputId": "c7c118e3-ea04-4eb4-c411-343373c1aec9"
   },
   "outputs": [
    {
     "data": {
      "text/html": [
       "\n",
       "  <div id=\"df-c0e0f2d5-6dab-4f91-876d-d38b9ad860c7\">\n",
       "    <div class=\"colab-df-container\">\n",
       "      <div>\n",
       "<style scoped>\n",
       "    .dataframe tbody tr th:only-of-type {\n",
       "        vertical-align: middle;\n",
       "    }\n",
       "\n",
       "    .dataframe tbody tr th {\n",
       "        vertical-align: top;\n",
       "    }\n",
       "\n",
       "    .dataframe thead th {\n",
       "        text-align: right;\n",
       "    }\n",
       "</style>\n",
       "<table border=\"1\" class=\"dataframe\">\n",
       "  <thead>\n",
       "    <tr style=\"text-align: right;\">\n",
       "      <th></th>\n",
       "      <th>2014</th>\n",
       "      <th>2015</th>\n",
       "      <th>2016</th>\n",
       "      <th>2017</th>\n",
       "      <th>2018</th>\n",
       "      <th>2019</th>\n",
       "      <th>2020</th>\n",
       "      <th>2021</th>\n",
       "      <th>2022</th>\n",
       "      <th>2023</th>\n",
       "    </tr>\n",
       "    <tr>\n",
       "      <th>COD_UNIDADE_ORÇAMENTARIA</th>\n",
       "      <th></th>\n",
       "      <th></th>\n",
       "      <th></th>\n",
       "      <th></th>\n",
       "      <th></th>\n",
       "      <th></th>\n",
       "      <th></th>\n",
       "      <th></th>\n",
       "      <th></th>\n",
       "      <th></th>\n",
       "    </tr>\n",
       "  </thead>\n",
       "  <tbody>\n",
       "    <tr>\n",
       "      <th>11.101</th>\n",
       "      <td>1.0</td>\n",
       "      <td>13.0</td>\n",
       "      <td>5.0</td>\n",
       "      <td>18.0</td>\n",
       "      <td>20.0</td>\n",
       "      <td>11.0</td>\n",
       "      <td>3.0</td>\n",
       "      <td>1.0</td>\n",
       "      <td>5.0</td>\n",
       "      <td>3.0</td>\n",
       "    </tr>\n",
       "    <tr>\n",
       "      <th>11.202</th>\n",
       "      <td>0.0</td>\n",
       "      <td>1.0</td>\n",
       "      <td>0.0</td>\n",
       "      <td>1.0</td>\n",
       "      <td>1.0</td>\n",
       "      <td>0.0</td>\n",
       "      <td>0.0</td>\n",
       "      <td>0.0</td>\n",
       "      <td>2.0</td>\n",
       "      <td>1.0</td>\n",
       "    </tr>\n",
       "    <tr>\n",
       "      <th>11.205</th>\n",
       "      <td>0.0</td>\n",
       "      <td>0.0</td>\n",
       "      <td>1.0</td>\n",
       "      <td>0.0</td>\n",
       "      <td>2.0</td>\n",
       "      <td>1.0</td>\n",
       "      <td>0.0</td>\n",
       "      <td>0.0</td>\n",
       "      <td>5.0</td>\n",
       "      <td>6.0</td>\n",
       "    </tr>\n",
       "    <tr>\n",
       "      <th>12.101</th>\n",
       "      <td>0.0</td>\n",
       "      <td>0.0</td>\n",
       "      <td>0.0</td>\n",
       "      <td>1.0</td>\n",
       "      <td>3.0</td>\n",
       "      <td>0.0</td>\n",
       "      <td>0.0</td>\n",
       "      <td>1.0</td>\n",
       "      <td>5.0</td>\n",
       "      <td>2.0</td>\n",
       "    </tr>\n",
       "    <tr>\n",
       "      <th>13.101</th>\n",
       "      <td>0.0</td>\n",
       "      <td>1.0</td>\n",
       "      <td>0.0</td>\n",
       "      <td>0.0</td>\n",
       "      <td>0.0</td>\n",
       "      <td>0.0</td>\n",
       "      <td>0.0</td>\n",
       "      <td>0.0</td>\n",
       "      <td>0.0</td>\n",
       "      <td>0.0</td>\n",
       "    </tr>\n",
       "    <tr>\n",
       "      <th>13.901</th>\n",
       "      <td>0.0</td>\n",
       "      <td>1.0</td>\n",
       "      <td>5.0</td>\n",
       "      <td>8.0</td>\n",
       "      <td>3.0</td>\n",
       "      <td>3.0</td>\n",
       "      <td>0.0</td>\n",
       "      <td>0.0</td>\n",
       "      <td>0.0</td>\n",
       "      <td>0.0</td>\n",
       "    </tr>\n",
       "    <tr>\n",
       "      <th>15.101</th>\n",
       "      <td>0.0</td>\n",
       "      <td>3.0</td>\n",
       "      <td>0.0</td>\n",
       "      <td>5.0</td>\n",
       "      <td>5.0</td>\n",
       "      <td>3.0</td>\n",
       "      <td>0.0</td>\n",
       "      <td>0.0</td>\n",
       "      <td>2.0</td>\n",
       "      <td>1.0</td>\n",
       "    </tr>\n",
       "    <tr>\n",
       "      <th>16.101</th>\n",
       "      <td>0.0</td>\n",
       "      <td>0.0</td>\n",
       "      <td>0.0</td>\n",
       "      <td>0.0</td>\n",
       "      <td>0.0</td>\n",
       "      <td>0.0</td>\n",
       "      <td>0.0</td>\n",
       "      <td>0.0</td>\n",
       "      <td>0.0</td>\n",
       "      <td>1.0</td>\n",
       "    </tr>\n",
       "    <tr>\n",
       "      <th>17.101</th>\n",
       "      <td>0.0</td>\n",
       "      <td>0.0</td>\n",
       "      <td>0.0</td>\n",
       "      <td>0.0</td>\n",
       "      <td>0.0</td>\n",
       "      <td>0.0</td>\n",
       "      <td>0.0</td>\n",
       "      <td>0.0</td>\n",
       "      <td>0.0</td>\n",
       "      <td>1.0</td>\n",
       "    </tr>\n",
       "    <tr>\n",
       "      <th>18.101</th>\n",
       "      <td>0.0</td>\n",
       "      <td>0.0</td>\n",
       "      <td>0.0</td>\n",
       "      <td>1.0</td>\n",
       "      <td>0.0</td>\n",
       "      <td>1.0</td>\n",
       "      <td>0.0</td>\n",
       "      <td>0.0</td>\n",
       "      <td>0.0</td>\n",
       "      <td>0.0</td>\n",
       "    </tr>\n",
       "    <tr>\n",
       "      <th>18.202</th>\n",
       "      <td>1.0</td>\n",
       "      <td>0.0</td>\n",
       "      <td>0.0</td>\n",
       "      <td>0.0</td>\n",
       "      <td>0.0</td>\n",
       "      <td>0.0</td>\n",
       "      <td>0.0</td>\n",
       "      <td>0.0</td>\n",
       "      <td>0.0</td>\n",
       "      <td>0.0</td>\n",
       "    </tr>\n",
       "    <tr>\n",
       "      <th>19.101</th>\n",
       "      <td>0.0</td>\n",
       "      <td>2.0</td>\n",
       "      <td>8.0</td>\n",
       "      <td>10.0</td>\n",
       "      <td>6.0</td>\n",
       "      <td>15.0</td>\n",
       "      <td>2.0</td>\n",
       "      <td>0.0</td>\n",
       "      <td>1.0</td>\n",
       "      <td>1.0</td>\n",
       "    </tr>\n",
       "    <tr>\n",
       "      <th>19.201</th>\n",
       "      <td>0.0</td>\n",
       "      <td>0.0</td>\n",
       "      <td>0.0</td>\n",
       "      <td>0.0</td>\n",
       "      <td>2.0</td>\n",
       "      <td>3.0</td>\n",
       "      <td>0.0</td>\n",
       "      <td>0.0</td>\n",
       "      <td>0.0</td>\n",
       "      <td>0.0</td>\n",
       "    </tr>\n",
       "    <tr>\n",
       "      <th>19.206</th>\n",
       "      <td>0.0</td>\n",
       "      <td>0.0</td>\n",
       "      <td>0.0</td>\n",
       "      <td>1.0</td>\n",
       "      <td>0.0</td>\n",
       "      <td>0.0</td>\n",
       "      <td>0.0</td>\n",
       "      <td>0.0</td>\n",
       "      <td>0.0</td>\n",
       "      <td>0.0</td>\n",
       "    </tr>\n",
       "    <tr>\n",
       "      <th>23.101</th>\n",
       "      <td>0.0</td>\n",
       "      <td>2.0</td>\n",
       "      <td>0.0</td>\n",
       "      <td>0.0</td>\n",
       "      <td>0.0</td>\n",
       "      <td>0.0</td>\n",
       "      <td>0.0</td>\n",
       "      <td>0.0</td>\n",
       "      <td>1.0</td>\n",
       "      <td>1.0</td>\n",
       "    </tr>\n",
       "    <tr>\n",
       "      <th>23.901</th>\n",
       "      <td>0.0</td>\n",
       "      <td>0.0</td>\n",
       "      <td>0.0</td>\n",
       "      <td>0.0</td>\n",
       "      <td>0.0</td>\n",
       "      <td>1.0</td>\n",
       "      <td>0.0</td>\n",
       "      <td>0.0</td>\n",
       "      <td>3.0</td>\n",
       "      <td>2.0</td>\n",
       "    </tr>\n",
       "    <tr>\n",
       "      <th>24.901</th>\n",
       "      <td>0.0</td>\n",
       "      <td>1.0</td>\n",
       "      <td>0.0</td>\n",
       "      <td>0.0</td>\n",
       "      <td>0.0</td>\n",
       "      <td>1.0</td>\n",
       "      <td>0.0</td>\n",
       "      <td>0.0</td>\n",
       "      <td>0.0</td>\n",
       "      <td>5.0</td>\n",
       "    </tr>\n",
       "    <tr>\n",
       "      <th>25.901</th>\n",
       "      <td>0.0</td>\n",
       "      <td>1.0</td>\n",
       "      <td>0.0</td>\n",
       "      <td>1.0</td>\n",
       "      <td>4.0</td>\n",
       "      <td>3.0</td>\n",
       "      <td>0.0</td>\n",
       "      <td>0.0</td>\n",
       "      <td>0.0</td>\n",
       "      <td>0.0</td>\n",
       "    </tr>\n",
       "    <tr>\n",
       "      <th>26.101</th>\n",
       "      <td>0.0</td>\n",
       "      <td>1.0</td>\n",
       "      <td>1.0</td>\n",
       "      <td>1.0</td>\n",
       "      <td>0.0</td>\n",
       "      <td>0.0</td>\n",
       "      <td>0.0</td>\n",
       "      <td>0.0</td>\n",
       "      <td>0.0</td>\n",
       "      <td>0.0</td>\n",
       "    </tr>\n",
       "    <tr>\n",
       "      <th>27.101</th>\n",
       "      <td>0.0</td>\n",
       "      <td>1.0</td>\n",
       "      <td>0.0</td>\n",
       "      <td>2.0</td>\n",
       "      <td>0.0</td>\n",
       "      <td>0.0</td>\n",
       "      <td>0.0</td>\n",
       "      <td>0.0</td>\n",
       "      <td>0.0</td>\n",
       "      <td>0.0</td>\n",
       "    </tr>\n",
       "    <tr>\n",
       "      <th>28.101</th>\n",
       "      <td>1.0</td>\n",
       "      <td>0.0</td>\n",
       "      <td>1.0</td>\n",
       "      <td>1.0</td>\n",
       "      <td>0.0</td>\n",
       "      <td>0.0</td>\n",
       "      <td>0.0</td>\n",
       "      <td>0.0</td>\n",
       "      <td>0.0</td>\n",
       "      <td>0.0</td>\n",
       "    </tr>\n",
       "    <tr>\n",
       "      <th>28.901</th>\n",
       "      <td>0.0</td>\n",
       "      <td>4.0</td>\n",
       "      <td>1.0</td>\n",
       "      <td>1.0</td>\n",
       "      <td>0.0</td>\n",
       "      <td>0.0</td>\n",
       "      <td>0.0</td>\n",
       "      <td>0.0</td>\n",
       "      <td>1.0</td>\n",
       "      <td>0.0</td>\n",
       "    </tr>\n",
       "    <tr>\n",
       "      <th>28.902</th>\n",
       "      <td>0.0</td>\n",
       "      <td>0.0</td>\n",
       "      <td>0.0</td>\n",
       "      <td>1.0</td>\n",
       "      <td>2.0</td>\n",
       "      <td>1.0</td>\n",
       "      <td>0.0</td>\n",
       "      <td>0.0</td>\n",
       "      <td>0.0</td>\n",
       "      <td>0.0</td>\n",
       "    </tr>\n",
       "    <tr>\n",
       "      <th>30.101</th>\n",
       "      <td>0.0</td>\n",
       "      <td>7.0</td>\n",
       "      <td>6.0</td>\n",
       "      <td>2.0</td>\n",
       "      <td>0.0</td>\n",
       "      <td>13.0</td>\n",
       "      <td>2.0</td>\n",
       "      <td>2.0</td>\n",
       "      <td>5.0</td>\n",
       "      <td>8.0</td>\n",
       "    </tr>\n",
       "    <tr>\n",
       "      <th>31.101</th>\n",
       "      <td>0.0</td>\n",
       "      <td>1.0</td>\n",
       "      <td>1.0</td>\n",
       "      <td>0.0</td>\n",
       "      <td>0.0</td>\n",
       "      <td>0.0</td>\n",
       "      <td>0.0</td>\n",
       "      <td>0.0</td>\n",
       "      <td>0.0</td>\n",
       "      <td>0.0</td>\n",
       "    </tr>\n",
       "    <tr>\n",
       "      <th>31.201</th>\n",
       "      <td>0.0</td>\n",
       "      <td>0.0</td>\n",
       "      <td>0.0</td>\n",
       "      <td>0.0</td>\n",
       "      <td>0.0</td>\n",
       "      <td>0.0</td>\n",
       "      <td>0.0</td>\n",
       "      <td>0.0</td>\n",
       "      <td>1.0</td>\n",
       "      <td>0.0</td>\n",
       "    </tr>\n",
       "    <tr>\n",
       "      <th>32.101</th>\n",
       "      <td>0.0</td>\n",
       "      <td>1.0</td>\n",
       "      <td>0.0</td>\n",
       "      <td>0.0</td>\n",
       "      <td>0.0</td>\n",
       "      <td>3.0</td>\n",
       "      <td>0.0</td>\n",
       "      <td>0.0</td>\n",
       "      <td>0.0</td>\n",
       "      <td>0.0</td>\n",
       "    </tr>\n",
       "    <tr>\n",
       "      <th>33.101</th>\n",
       "      <td>0.0</td>\n",
       "      <td>0.0</td>\n",
       "      <td>0.0</td>\n",
       "      <td>0.0</td>\n",
       "      <td>0.0</td>\n",
       "      <td>0.0</td>\n",
       "      <td>0.0</td>\n",
       "      <td>0.0</td>\n",
       "      <td>1.0</td>\n",
       "      <td>0.0</td>\n",
       "    </tr>\n",
       "    <tr>\n",
       "      <th>35.101</th>\n",
       "      <td>0.0</td>\n",
       "      <td>2.0</td>\n",
       "      <td>0.0</td>\n",
       "      <td>0.0</td>\n",
       "      <td>0.0</td>\n",
       "      <td>0.0</td>\n",
       "      <td>0.0</td>\n",
       "      <td>0.0</td>\n",
       "      <td>0.0</td>\n",
       "      <td>0.0</td>\n",
       "    </tr>\n",
       "  </tbody>\n",
       "</table>\n",
       "</div>\n",
       "      <button class=\"colab-df-convert\" onclick=\"convertToInteractive('df-c0e0f2d5-6dab-4f91-876d-d38b9ad860c7')\"\n",
       "              title=\"Convert this dataframe to an interactive table.\"\n",
       "              style=\"display:none;\">\n",
       "        \n",
       "  <svg xmlns=\"http://www.w3.org/2000/svg\" height=\"24px\"viewBox=\"0 0 24 24\"\n",
       "       width=\"24px\">\n",
       "    <path d=\"M0 0h24v24H0V0z\" fill=\"none\"/>\n",
       "    <path d=\"M18.56 5.44l.94 2.06.94-2.06 2.06-.94-2.06-.94-.94-2.06-.94 2.06-2.06.94zm-11 1L8.5 8.5l.94-2.06 2.06-.94-2.06-.94L8.5 2.5l-.94 2.06-2.06.94zm10 10l.94 2.06.94-2.06 2.06-.94-2.06-.94-.94-2.06-.94 2.06-2.06.94z\"/><path d=\"M17.41 7.96l-1.37-1.37c-.4-.4-.92-.59-1.43-.59-.52 0-1.04.2-1.43.59L10.3 9.45l-7.72 7.72c-.78.78-.78 2.05 0 2.83L4 21.41c.39.39.9.59 1.41.59.51 0 1.02-.2 1.41-.59l7.78-7.78 2.81-2.81c.8-.78.8-2.07 0-2.86zM5.41 20L4 18.59l7.72-7.72 1.47 1.35L5.41 20z\"/>\n",
       "  </svg>\n",
       "      </button>\n",
       "      \n",
       "  <style>\n",
       "    .colab-df-container {\n",
       "      display:flex;\n",
       "      flex-wrap:wrap;\n",
       "      gap: 12px;\n",
       "    }\n",
       "\n",
       "    .colab-df-convert {\n",
       "      background-color: #E8F0FE;\n",
       "      border: none;\n",
       "      border-radius: 50%;\n",
       "      cursor: pointer;\n",
       "      display: none;\n",
       "      fill: #1967D2;\n",
       "      height: 32px;\n",
       "      padding: 0 0 0 0;\n",
       "      width: 32px;\n",
       "    }\n",
       "\n",
       "    .colab-df-convert:hover {\n",
       "      background-color: #E2EBFA;\n",
       "      box-shadow: 0px 1px 2px rgba(60, 64, 67, 0.3), 0px 1px 3px 1px rgba(60, 64, 67, 0.15);\n",
       "      fill: #174EA6;\n",
       "    }\n",
       "\n",
       "    [theme=dark] .colab-df-convert {\n",
       "      background-color: #3B4455;\n",
       "      fill: #D2E3FC;\n",
       "    }\n",
       "\n",
       "    [theme=dark] .colab-df-convert:hover {\n",
       "      background-color: #434B5C;\n",
       "      box-shadow: 0px 1px 3px 1px rgba(0, 0, 0, 0.15);\n",
       "      filter: drop-shadow(0px 1px 2px rgba(0, 0, 0, 0.3));\n",
       "      fill: #FFFFFF;\n",
       "    }\n",
       "  </style>\n",
       "\n",
       "      <script>\n",
       "        const buttonEl =\n",
       "          document.querySelector('#df-c0e0f2d5-6dab-4f91-876d-d38b9ad860c7 button.colab-df-convert');\n",
       "        buttonEl.style.display =\n",
       "          google.colab.kernel.accessAllowed ? 'block' : 'none';\n",
       "\n",
       "        async function convertToInteractive(key) {\n",
       "          const element = document.querySelector('#df-c0e0f2d5-6dab-4f91-876d-d38b9ad860c7');\n",
       "          const dataTable =\n",
       "            await google.colab.kernel.invokeFunction('convertToInteractive',\n",
       "                                                     [key], {});\n",
       "          if (!dataTable) return;\n",
       "\n",
       "          const docLinkHtml = 'Like what you see? Visit the ' +\n",
       "            '<a target=\"_blank\" href=https://colab.research.google.com/notebooks/data_table.ipynb>data table notebook</a>'\n",
       "            + ' to learn more about interactive tables.';\n",
       "          element.innerHTML = '';\n",
       "          dataTable['output_type'] = 'display_data';\n",
       "          await google.colab.output.renderOutput(dataTable, element);\n",
       "          const docLink = document.createElement('div');\n",
       "          docLink.innerHTML = docLinkHtml;\n",
       "          element.appendChild(docLink);\n",
       "        }\n",
       "      </script>\n",
       "    </div>\n",
       "  </div>\n",
       "  "
      ],
      "text/plain": [
       "                          2014  2015  2016  2017  2018  2019  2020  2021  \\\n",
       "COD_UNIDADE_ORÇAMENTARIA                                                   \n",
       "11.101                     1.0  13.0   5.0  18.0  20.0  11.0   3.0   1.0   \n",
       "11.202                     0.0   1.0   0.0   1.0   1.0   0.0   0.0   0.0   \n",
       "11.205                     0.0   0.0   1.0   0.0   2.0   1.0   0.0   0.0   \n",
       "12.101                     0.0   0.0   0.0   1.0   3.0   0.0   0.0   1.0   \n",
       "13.101                     0.0   1.0   0.0   0.0   0.0   0.0   0.0   0.0   \n",
       "13.901                     0.0   1.0   5.0   8.0   3.0   3.0   0.0   0.0   \n",
       "15.101                     0.0   3.0   0.0   5.0   5.0   3.0   0.0   0.0   \n",
       "16.101                     0.0   0.0   0.0   0.0   0.0   0.0   0.0   0.0   \n",
       "17.101                     0.0   0.0   0.0   0.0   0.0   0.0   0.0   0.0   \n",
       "18.101                     0.0   0.0   0.0   1.0   0.0   1.0   0.0   0.0   \n",
       "18.202                     1.0   0.0   0.0   0.0   0.0   0.0   0.0   0.0   \n",
       "19.101                     0.0   2.0   8.0  10.0   6.0  15.0   2.0   0.0   \n",
       "19.201                     0.0   0.0   0.0   0.0   2.0   3.0   0.0   0.0   \n",
       "19.206                     0.0   0.0   0.0   1.0   0.0   0.0   0.0   0.0   \n",
       "23.101                     0.0   2.0   0.0   0.0   0.0   0.0   0.0   0.0   \n",
       "23.901                     0.0   0.0   0.0   0.0   0.0   1.0   0.0   0.0   \n",
       "24.901                     0.0   1.0   0.0   0.0   0.0   1.0   0.0   0.0   \n",
       "25.901                     0.0   1.0   0.0   1.0   4.0   3.0   0.0   0.0   \n",
       "26.101                     0.0   1.0   1.0   1.0   0.0   0.0   0.0   0.0   \n",
       "27.101                     0.0   1.0   0.0   2.0   0.0   0.0   0.0   0.0   \n",
       "28.101                     1.0   0.0   1.0   1.0   0.0   0.0   0.0   0.0   \n",
       "28.901                     0.0   4.0   1.0   1.0   0.0   0.0   0.0   0.0   \n",
       "28.902                     0.0   0.0   0.0   1.0   2.0   1.0   0.0   0.0   \n",
       "30.101                     0.0   7.0   6.0   2.0   0.0  13.0   2.0   2.0   \n",
       "31.101                     0.0   1.0   1.0   0.0   0.0   0.0   0.0   0.0   \n",
       "31.201                     0.0   0.0   0.0   0.0   0.0   0.0   0.0   0.0   \n",
       "32.101                     0.0   1.0   0.0   0.0   0.0   3.0   0.0   0.0   \n",
       "33.101                     0.0   0.0   0.0   0.0   0.0   0.0   0.0   0.0   \n",
       "35.101                     0.0   2.0   0.0   0.0   0.0   0.0   0.0   0.0   \n",
       "\n",
       "                          2022  2023  \n",
       "COD_UNIDADE_ORÇAMENTARIA              \n",
       "11.101                     5.0   3.0  \n",
       "11.202                     2.0   1.0  \n",
       "11.205                     5.0   6.0  \n",
       "12.101                     5.0   2.0  \n",
       "13.101                     0.0   0.0  \n",
       "13.901                     0.0   0.0  \n",
       "15.101                     2.0   1.0  \n",
       "16.101                     0.0   1.0  \n",
       "17.101                     0.0   1.0  \n",
       "18.101                     0.0   0.0  \n",
       "18.202                     0.0   0.0  \n",
       "19.101                     1.0   1.0  \n",
       "19.201                     0.0   0.0  \n",
       "19.206                     0.0   0.0  \n",
       "23.101                     1.0   1.0  \n",
       "23.901                     3.0   2.0  \n",
       "24.901                     0.0   5.0  \n",
       "25.901                     0.0   0.0  \n",
       "26.101                     0.0   0.0  \n",
       "27.101                     0.0   0.0  \n",
       "28.101                     0.0   0.0  \n",
       "28.901                     1.0   0.0  \n",
       "28.902                     0.0   0.0  \n",
       "30.101                     5.0   8.0  \n",
       "31.101                     0.0   0.0  \n",
       "31.201                     1.0   0.0  \n",
       "32.101                     0.0   0.0  \n",
       "33.101                     1.0   0.0  \n",
       "35.101                     0.0   0.0  "
      ]
     },
     "execution_count": 277,
     "metadata": {},
     "output_type": "execute_result"
    }
   ],
   "source": [
    "df_viagens_exterior_orgao_pivot = df_viagens_exterior_orgao.pivot_table(index='COD_UNIDADE_ORÇAMENTARIA', columns='EXERCÍCIO', aggfunc='sum').fillna(0)\n",
    "df_viagens_exterior_orgao_pivot.columns = list(range(2014, 2024, 1))\n",
    "df_viagens_exterior_orgao_pivot"
   ]
  },
  {
   "cell_type": "code",
   "execution_count": null,
   "metadata": {
    "id": "fSn-UIbUr5sI"
   },
   "outputs": [],
   "source": []
  },
  {
   "cell_type": "code",
   "execution_count": null,
   "metadata": {
    "id": "7K2RM8gYr5ve"
   },
   "outputs": [],
   "source": []
  },
  {
   "cell_type": "code",
   "execution_count": 225,
   "metadata": {
    "executionInfo": {
     "elapsed": 2,
     "status": "ok",
     "timestamp": 1688268172733,
     "user": {
      "displayName": "Gabriela Custódio",
      "userId": "17879241500396315997"
     },
     "user_tz": 180
    },
    "id": "4hkxpleakUsM"
   },
   "outputs": [],
   "source": [
    "funcionarios_turismo = funcionarios[funcionarios['COD_UNIDADE_ORÇAMENTARIA'] == '30.101']"
   ]
  },
  {
   "cell_type": "code",
   "execution_count": 229,
   "metadata": {
    "executionInfo": {
     "elapsed": 393,
     "status": "ok",
     "timestamp": 1688268231389,
     "user": {
      "displayName": "Gabriela Custódio",
      "userId": "17879241500396315997"
     },
     "user_tz": 180
    },
    "id": "GjGXNSh7nvxc"
   },
   "outputs": [],
   "source": [
    "funcionarios_turismo_destino_ano = funcionarios_turismo[['EXERCÍCIO', 'SG_DESTINO']].value_counts().reset_index()"
   ]
  },
  {
   "cell_type": "code",
   "execution_count": 235,
   "metadata": {
    "colab": {
     "base_uri": "https://localhost:8080/",
     "height": 677
    },
    "executionInfo": {
     "elapsed": 14,
     "status": "ok",
     "timestamp": 1688268366548,
     "user": {
      "displayName": "Gabriela Custódio",
      "userId": "17879241500396315997"
     },
     "user_tz": 180
    },
    "id": "NniNk0rSn-3L",
    "outputId": "8f8fd235-dd38-4018-894e-70f27d90092d"
   },
   "outputs": [
    {
     "data": {
      "text/html": [
       "\n",
       "  <div id=\"df-df0ee94f-82fb-4df8-befa-b84750904bac\">\n",
       "    <div class=\"colab-df-container\">\n",
       "      <div>\n",
       "<style scoped>\n",
       "    .dataframe tbody tr th:only-of-type {\n",
       "        vertical-align: middle;\n",
       "    }\n",
       "\n",
       "    .dataframe tbody tr th {\n",
       "        vertical-align: top;\n",
       "    }\n",
       "\n",
       "    .dataframe thead tr th {\n",
       "        text-align: left;\n",
       "    }\n",
       "\n",
       "    .dataframe thead tr:last-of-type th {\n",
       "        text-align: right;\n",
       "    }\n",
       "</style>\n",
       "<table border=\"1\" class=\"dataframe\">\n",
       "  <thead>\n",
       "    <tr>\n",
       "      <th></th>\n",
       "      <th colspan=\"10\" halign=\"left\">0</th>\n",
       "    </tr>\n",
       "    <tr>\n",
       "      <th>EXERCÍCIO</th>\n",
       "      <th>2014</th>\n",
       "      <th>2015</th>\n",
       "      <th>2016</th>\n",
       "      <th>2017</th>\n",
       "      <th>2018</th>\n",
       "      <th>2019</th>\n",
       "      <th>2020</th>\n",
       "      <th>2021</th>\n",
       "      <th>2022</th>\n",
       "      <th>2023</th>\n",
       "    </tr>\n",
       "    <tr>\n",
       "      <th>SG_DESTINO</th>\n",
       "      <th></th>\n",
       "      <th></th>\n",
       "      <th></th>\n",
       "      <th></th>\n",
       "      <th></th>\n",
       "      <th></th>\n",
       "      <th></th>\n",
       "      <th></th>\n",
       "      <th></th>\n",
       "      <th></th>\n",
       "    </tr>\n",
       "  </thead>\n",
       "  <tbody>\n",
       "    <tr>\n",
       "      <th>AC</th>\n",
       "      <td>22.0</td>\n",
       "      <td>0.0</td>\n",
       "      <td>0.0</td>\n",
       "      <td>0.0</td>\n",
       "      <td>0.0</td>\n",
       "      <td>0.0</td>\n",
       "      <td>0.0</td>\n",
       "      <td>0.0</td>\n",
       "      <td>0.0</td>\n",
       "      <td>0.0</td>\n",
       "    </tr>\n",
       "    <tr>\n",
       "      <th>AM</th>\n",
       "      <td>0.0</td>\n",
       "      <td>0.0</td>\n",
       "      <td>0.0</td>\n",
       "      <td>0.0</td>\n",
       "      <td>0.0</td>\n",
       "      <td>0.0</td>\n",
       "      <td>0.0</td>\n",
       "      <td>0.0</td>\n",
       "      <td>0.0</td>\n",
       "      <td>2.0</td>\n",
       "    </tr>\n",
       "    <tr>\n",
       "      <th>BA</th>\n",
       "      <td>0.0</td>\n",
       "      <td>0.0</td>\n",
       "      <td>0.0</td>\n",
       "      <td>0.0</td>\n",
       "      <td>1.0</td>\n",
       "      <td>0.0</td>\n",
       "      <td>0.0</td>\n",
       "      <td>0.0</td>\n",
       "      <td>0.0</td>\n",
       "      <td>0.0</td>\n",
       "    </tr>\n",
       "    <tr>\n",
       "      <th>CE</th>\n",
       "      <td>0.0</td>\n",
       "      <td>0.0</td>\n",
       "      <td>4.0</td>\n",
       "      <td>1.0</td>\n",
       "      <td>0.0</td>\n",
       "      <td>0.0</td>\n",
       "      <td>0.0</td>\n",
       "      <td>1.0</td>\n",
       "      <td>2.0</td>\n",
       "      <td>1.0</td>\n",
       "    </tr>\n",
       "    <tr>\n",
       "      <th>DF</th>\n",
       "      <td>3.0</td>\n",
       "      <td>12.0</td>\n",
       "      <td>9.0</td>\n",
       "      <td>7.0</td>\n",
       "      <td>5.0</td>\n",
       "      <td>5.0</td>\n",
       "      <td>1.0</td>\n",
       "      <td>4.0</td>\n",
       "      <td>1.0</td>\n",
       "      <td>6.0</td>\n",
       "    </tr>\n",
       "    <tr>\n",
       "      <th>EX</th>\n",
       "      <td>0.0</td>\n",
       "      <td>7.0</td>\n",
       "      <td>6.0</td>\n",
       "      <td>2.0</td>\n",
       "      <td>0.0</td>\n",
       "      <td>13.0</td>\n",
       "      <td>2.0</td>\n",
       "      <td>2.0</td>\n",
       "      <td>5.0</td>\n",
       "      <td>8.0</td>\n",
       "    </tr>\n",
       "    <tr>\n",
       "      <th>GO</th>\n",
       "      <td>0.0</td>\n",
       "      <td>0.0</td>\n",
       "      <td>0.0</td>\n",
       "      <td>0.0</td>\n",
       "      <td>2.0</td>\n",
       "      <td>0.0</td>\n",
       "      <td>0.0</td>\n",
       "      <td>0.0</td>\n",
       "      <td>0.0</td>\n",
       "      <td>0.0</td>\n",
       "    </tr>\n",
       "    <tr>\n",
       "      <th>MA</th>\n",
       "      <td>0.0</td>\n",
       "      <td>0.0</td>\n",
       "      <td>0.0</td>\n",
       "      <td>0.0</td>\n",
       "      <td>0.0</td>\n",
       "      <td>0.0</td>\n",
       "      <td>0.0</td>\n",
       "      <td>1.0</td>\n",
       "      <td>0.0</td>\n",
       "      <td>2.0</td>\n",
       "    </tr>\n",
       "    <tr>\n",
       "      <th>MG</th>\n",
       "      <td>1.0</td>\n",
       "      <td>0.0</td>\n",
       "      <td>0.0</td>\n",
       "      <td>0.0</td>\n",
       "      <td>0.0</td>\n",
       "      <td>1.0</td>\n",
       "      <td>0.0</td>\n",
       "      <td>0.0</td>\n",
       "      <td>0.0</td>\n",
       "      <td>2.0</td>\n",
       "    </tr>\n",
       "    <tr>\n",
       "      <th>PA</th>\n",
       "      <td>0.0</td>\n",
       "      <td>0.0</td>\n",
       "      <td>0.0</td>\n",
       "      <td>0.0</td>\n",
       "      <td>0.0</td>\n",
       "      <td>0.0</td>\n",
       "      <td>0.0</td>\n",
       "      <td>0.0</td>\n",
       "      <td>2.0</td>\n",
       "      <td>0.0</td>\n",
       "    </tr>\n",
       "    <tr>\n",
       "      <th>PB</th>\n",
       "      <td>0.0</td>\n",
       "      <td>2.0</td>\n",
       "      <td>0.0</td>\n",
       "      <td>0.0</td>\n",
       "      <td>0.0</td>\n",
       "      <td>2.0</td>\n",
       "      <td>0.0</td>\n",
       "      <td>0.0</td>\n",
       "      <td>0.0</td>\n",
       "      <td>0.0</td>\n",
       "    </tr>\n",
       "    <tr>\n",
       "      <th>PE</th>\n",
       "      <td>0.0</td>\n",
       "      <td>0.0</td>\n",
       "      <td>2.0</td>\n",
       "      <td>1.0</td>\n",
       "      <td>0.0</td>\n",
       "      <td>0.0</td>\n",
       "      <td>0.0</td>\n",
       "      <td>1.0</td>\n",
       "      <td>2.0</td>\n",
       "      <td>0.0</td>\n",
       "    </tr>\n",
       "    <tr>\n",
       "      <th>PR</th>\n",
       "      <td>0.0</td>\n",
       "      <td>1.0</td>\n",
       "      <td>0.0</td>\n",
       "      <td>0.0</td>\n",
       "      <td>0.0</td>\n",
       "      <td>2.0</td>\n",
       "      <td>0.0</td>\n",
       "      <td>2.0</td>\n",
       "      <td>0.0</td>\n",
       "      <td>2.0</td>\n",
       "    </tr>\n",
       "    <tr>\n",
       "      <th>RJ</th>\n",
       "      <td>0.0</td>\n",
       "      <td>1.0</td>\n",
       "      <td>1.0</td>\n",
       "      <td>1.0</td>\n",
       "      <td>0.0</td>\n",
       "      <td>1.0</td>\n",
       "      <td>0.0</td>\n",
       "      <td>0.0</td>\n",
       "      <td>0.0</td>\n",
       "      <td>0.0</td>\n",
       "    </tr>\n",
       "    <tr>\n",
       "      <th>RN</th>\n",
       "      <td>0.0</td>\n",
       "      <td>0.0</td>\n",
       "      <td>0.0</td>\n",
       "      <td>0.0</td>\n",
       "      <td>0.0</td>\n",
       "      <td>0.0</td>\n",
       "      <td>0.0</td>\n",
       "      <td>1.0</td>\n",
       "      <td>1.0</td>\n",
       "      <td>2.0</td>\n",
       "    </tr>\n",
       "    <tr>\n",
       "      <th>RS</th>\n",
       "      <td>0.0</td>\n",
       "      <td>0.0</td>\n",
       "      <td>0.0</td>\n",
       "      <td>0.0</td>\n",
       "      <td>0.0</td>\n",
       "      <td>2.0</td>\n",
       "      <td>0.0</td>\n",
       "      <td>0.0</td>\n",
       "      <td>3.0</td>\n",
       "      <td>0.0</td>\n",
       "    </tr>\n",
       "    <tr>\n",
       "      <th>SC</th>\n",
       "      <td>0.0</td>\n",
       "      <td>1.0</td>\n",
       "      <td>0.0</td>\n",
       "      <td>0.0</td>\n",
       "      <td>0.0</td>\n",
       "      <td>2.0</td>\n",
       "      <td>0.0</td>\n",
       "      <td>0.0</td>\n",
       "      <td>2.0</td>\n",
       "      <td>1.0</td>\n",
       "    </tr>\n",
       "    <tr>\n",
       "      <th>SP</th>\n",
       "      <td>3.0</td>\n",
       "      <td>6.0</td>\n",
       "      <td>1.0</td>\n",
       "      <td>8.0</td>\n",
       "      <td>7.0</td>\n",
       "      <td>13.0</td>\n",
       "      <td>2.0</td>\n",
       "      <td>3.0</td>\n",
       "      <td>5.0</td>\n",
       "      <td>6.0</td>\n",
       "    </tr>\n",
       "  </tbody>\n",
       "</table>\n",
       "</div>\n",
       "      <button class=\"colab-df-convert\" onclick=\"convertToInteractive('df-df0ee94f-82fb-4df8-befa-b84750904bac')\"\n",
       "              title=\"Convert this dataframe to an interactive table.\"\n",
       "              style=\"display:none;\">\n",
       "        \n",
       "  <svg xmlns=\"http://www.w3.org/2000/svg\" height=\"24px\"viewBox=\"0 0 24 24\"\n",
       "       width=\"24px\">\n",
       "    <path d=\"M0 0h24v24H0V0z\" fill=\"none\"/>\n",
       "    <path d=\"M18.56 5.44l.94 2.06.94-2.06 2.06-.94-2.06-.94-.94-2.06-.94 2.06-2.06.94zm-11 1L8.5 8.5l.94-2.06 2.06-.94-2.06-.94L8.5 2.5l-.94 2.06-2.06.94zm10 10l.94 2.06.94-2.06 2.06-.94-2.06-.94-.94-2.06-.94 2.06-2.06.94z\"/><path d=\"M17.41 7.96l-1.37-1.37c-.4-.4-.92-.59-1.43-.59-.52 0-1.04.2-1.43.59L10.3 9.45l-7.72 7.72c-.78.78-.78 2.05 0 2.83L4 21.41c.39.39.9.59 1.41.59.51 0 1.02-.2 1.41-.59l7.78-7.78 2.81-2.81c.8-.78.8-2.07 0-2.86zM5.41 20L4 18.59l7.72-7.72 1.47 1.35L5.41 20z\"/>\n",
       "  </svg>\n",
       "      </button>\n",
       "      \n",
       "  <style>\n",
       "    .colab-df-container {\n",
       "      display:flex;\n",
       "      flex-wrap:wrap;\n",
       "      gap: 12px;\n",
       "    }\n",
       "\n",
       "    .colab-df-convert {\n",
       "      background-color: #E8F0FE;\n",
       "      border: none;\n",
       "      border-radius: 50%;\n",
       "      cursor: pointer;\n",
       "      display: none;\n",
       "      fill: #1967D2;\n",
       "      height: 32px;\n",
       "      padding: 0 0 0 0;\n",
       "      width: 32px;\n",
       "    }\n",
       "\n",
       "    .colab-df-convert:hover {\n",
       "      background-color: #E2EBFA;\n",
       "      box-shadow: 0px 1px 2px rgba(60, 64, 67, 0.3), 0px 1px 3px 1px rgba(60, 64, 67, 0.15);\n",
       "      fill: #174EA6;\n",
       "    }\n",
       "\n",
       "    [theme=dark] .colab-df-convert {\n",
       "      background-color: #3B4455;\n",
       "      fill: #D2E3FC;\n",
       "    }\n",
       "\n",
       "    [theme=dark] .colab-df-convert:hover {\n",
       "      background-color: #434B5C;\n",
       "      box-shadow: 0px 1px 3px 1px rgba(0, 0, 0, 0.15);\n",
       "      filter: drop-shadow(0px 1px 2px rgba(0, 0, 0, 0.3));\n",
       "      fill: #FFFFFF;\n",
       "    }\n",
       "  </style>\n",
       "\n",
       "      <script>\n",
       "        const buttonEl =\n",
       "          document.querySelector('#df-df0ee94f-82fb-4df8-befa-b84750904bac button.colab-df-convert');\n",
       "        buttonEl.style.display =\n",
       "          google.colab.kernel.accessAllowed ? 'block' : 'none';\n",
       "\n",
       "        async function convertToInteractive(key) {\n",
       "          const element = document.querySelector('#df-df0ee94f-82fb-4df8-befa-b84750904bac');\n",
       "          const dataTable =\n",
       "            await google.colab.kernel.invokeFunction('convertToInteractive',\n",
       "                                                     [key], {});\n",
       "          if (!dataTable) return;\n",
       "\n",
       "          const docLinkHtml = 'Like what you see? Visit the ' +\n",
       "            '<a target=\"_blank\" href=https://colab.research.google.com/notebooks/data_table.ipynb>data table notebook</a>'\n",
       "            + ' to learn more about interactive tables.';\n",
       "          element.innerHTML = '';\n",
       "          dataTable['output_type'] = 'display_data';\n",
       "          await google.colab.output.renderOutput(dataTable, element);\n",
       "          const docLink = document.createElement('div');\n",
       "          docLink.innerHTML = docLinkHtml;\n",
       "          element.appendChild(docLink);\n",
       "        }\n",
       "      </script>\n",
       "    </div>\n",
       "  </div>\n",
       "  "
      ],
      "text/plain": [
       "               0                                               \n",
       "EXERCÍCIO   2014  2015 2016 2017 2018  2019 2020 2021 2022 2023\n",
       "SG_DESTINO                                                     \n",
       "AC          22.0   0.0  0.0  0.0  0.0   0.0  0.0  0.0  0.0  0.0\n",
       "AM           0.0   0.0  0.0  0.0  0.0   0.0  0.0  0.0  0.0  2.0\n",
       "BA           0.0   0.0  0.0  0.0  1.0   0.0  0.0  0.0  0.0  0.0\n",
       "CE           0.0   0.0  4.0  1.0  0.0   0.0  0.0  1.0  2.0  1.0\n",
       "DF           3.0  12.0  9.0  7.0  5.0   5.0  1.0  4.0  1.0  6.0\n",
       "EX           0.0   7.0  6.0  2.0  0.0  13.0  2.0  2.0  5.0  8.0\n",
       "GO           0.0   0.0  0.0  0.0  2.0   0.0  0.0  0.0  0.0  0.0\n",
       "MA           0.0   0.0  0.0  0.0  0.0   0.0  0.0  1.0  0.0  2.0\n",
       "MG           1.0   0.0  0.0  0.0  0.0   1.0  0.0  0.0  0.0  2.0\n",
       "PA           0.0   0.0  0.0  0.0  0.0   0.0  0.0  0.0  2.0  0.0\n",
       "PB           0.0   2.0  0.0  0.0  0.0   2.0  0.0  0.0  0.0  0.0\n",
       "PE           0.0   0.0  2.0  1.0  0.0   0.0  0.0  1.0  2.0  0.0\n",
       "PR           0.0   1.0  0.0  0.0  0.0   2.0  0.0  2.0  0.0  2.0\n",
       "RJ           0.0   1.0  1.0  1.0  0.0   1.0  0.0  0.0  0.0  0.0\n",
       "RN           0.0   0.0  0.0  0.0  0.0   0.0  0.0  1.0  1.0  2.0\n",
       "RS           0.0   0.0  0.0  0.0  0.0   2.0  0.0  0.0  3.0  0.0\n",
       "SC           0.0   1.0  0.0  0.0  0.0   2.0  0.0  0.0  2.0  1.0\n",
       "SP           3.0   6.0  1.0  8.0  7.0  13.0  2.0  3.0  5.0  6.0"
      ]
     },
     "execution_count": 235,
     "metadata": {},
     "output_type": "execute_result"
    }
   ],
   "source": [
    "funcionarios_turismo_destino_ano.pivot_table(index='SG_DESTINO', columns='EXERCÍCIO').fillna(0)"
   ]
  },
  {
   "cell_type": "code",
   "execution_count": null,
   "metadata": {
    "id": "WYvD37ZKoNEI"
   },
   "outputs": [],
   "source": []
  }
 ],
 "metadata": {
  "colab": {
   "authorship_tag": "ABX9TyN7RwiKE5fPTvSjH0SPR8+v",
   "mount_file_id": "1SGZZAxm32KzXcryh7ytvXlBTZi3_wpuq",
   "provenance": []
  },
  "kernelspec": {
   "display_name": "Python 3 (ipykernel)",
   "language": "python",
   "name": "python3"
  },
  "language_info": {
   "codemirror_mode": {
    "name": "ipython",
    "version": 3
   },
   "file_extension": ".py",
   "mimetype": "text/x-python",
   "name": "python",
   "nbconvert_exporter": "python",
   "pygments_lexer": "ipython3",
   "version": "3.9.7"
  }
 },
 "nbformat": 4,
 "nbformat_minor": 1
}
